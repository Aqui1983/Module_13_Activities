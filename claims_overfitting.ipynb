{
  "cells": [
    {
      "cell_type": "markdown",
      "metadata": {
        "id": "view-in-github",
        "colab_type": "text"
      },
      "source": [
        "<a href=\"https://colab.research.google.com/github/Aqui1983/Module_13_Activities/blob/main/claims_overfitting.ipynb\" target=\"_parent\"><img src=\"https://colab.research.google.com/assets/colab-badge.svg\" alt=\"Open In Colab\"/></a>"
      ]
    },
    {
      "cell_type": "markdown",
      "id": "e8790310",
      "metadata": {
        "id": "e8790310"
      },
      "source": [
        "# Insurtech: Categorical Risk\n",
        "\n",
        "## Background\n",
        "\n",
        "The insurance business revolves around quantifying risk: the insurer invests insurance premiums in financial markets, and makes payouts in the form of insurance claims. Both investments and claims payouts require models in order to quantify and predict risk, or the level of potential financial loss. \n",
        "\n",
        "This dataset contains historical claims payouts for a number of different medical insurance buyers, along with their characteristics (\"age\", \"smoker\", and so forth). Can you build a deep neural network that uses people's characteristics to quantify the potential level of dollar claims, and can you model be made robust to overfitting? \n",
        "\n",
        "## Instructions\n",
        "\n",
        "### Preparing the Data\n",
        "1) Read in the data.\n",
        "\n",
        "2) Use `pd.qcut` to split the dependent variable, `charges`, into 5 categorical buckets. Save this result to a `charges_quantile` column.\n",
        "\n",
        "3) Use `LabelEncoder` and `to_categorical` to set this column as your `y` variable. \n",
        "\n",
        "4) Set the remaining data as your `X` data.\n",
        "\n",
        "5) Split the data into training and test windows using `train_test_split`.\n",
        "\n",
        "### Fitting the Model\n",
        "\n",
        "1) Fit and evaluate the model, including at least one dropout layer, and one layer with regularization. Include a validation set as part of fitting the model.\n",
        "\n",
        "2) Plot performance on the training and validation set across epochs. \n",
        "\n",
        "3) Finally, re-fit the new model, adjusting the amount of epochs for training so as to avoid overfitting as much as possible."
      ]
    },
    {
      "cell_type": "code",
      "execution_count": 1,
      "id": "038c919a",
      "metadata": {
        "id": "038c919a"
      },
      "outputs": [],
      "source": [
        "import pandas as pd\n",
        "import numpy as np"
      ]
    },
    {
      "cell_type": "code",
      "execution_count": 2,
      "id": "292c574b",
      "metadata": {
        "id": "292c574b"
      },
      "outputs": [],
      "source": [
        "from keras.models import Sequential\n",
        "from keras.layers import Dense, Activation\n",
        "\n",
        "# This code is neccessary to produce the same results every time\n",
        "import tensorflow as tf\n",
        "tf.keras.utils.set_random_seed(10)"
      ]
    },
    {
      "cell_type": "code",
      "execution_count": 3,
      "id": "322048df",
      "metadata": {
        "id": "322048df"
      },
      "outputs": [],
      "source": [
        "# Read in the data\n",
        "df = pd.read_csv('/content/insurance_claims.csv')"
      ]
    },
    {
      "cell_type": "code",
      "execution_count": 4,
      "id": "6445c810",
      "metadata": {
        "colab": {
          "base_uri": "https://localhost:8080/",
          "height": 204
        },
        "id": "6445c810",
        "outputId": "f2ab6127-952c-4699-ac1d-56f9edfcc508"
      },
      "outputs": [
        {
          "output_type": "execute_result",
          "data": {
            "text/plain": [
              "   age     bmi  children  smoker      charges\n",
              "0   19  27.900         0       1  16884.92400\n",
              "1   18  33.770         1       0   1725.55230\n",
              "2   28  33.000         3       0   4449.46200\n",
              "3   33  22.705         0       0  21984.47061\n",
              "4   32  28.880         0       0   3866.85520"
            ],
            "text/html": [
              "\n",
              "  <div id=\"df-aaa75ebd-5f50-410a-9356-f92bb6957173\">\n",
              "    <div class=\"colab-df-container\">\n",
              "      <div>\n",
              "<style scoped>\n",
              "    .dataframe tbody tr th:only-of-type {\n",
              "        vertical-align: middle;\n",
              "    }\n",
              "\n",
              "    .dataframe tbody tr th {\n",
              "        vertical-align: top;\n",
              "    }\n",
              "\n",
              "    .dataframe thead th {\n",
              "        text-align: right;\n",
              "    }\n",
              "</style>\n",
              "<table border=\"1\" class=\"dataframe\">\n",
              "  <thead>\n",
              "    <tr style=\"text-align: right;\">\n",
              "      <th></th>\n",
              "      <th>age</th>\n",
              "      <th>bmi</th>\n",
              "      <th>children</th>\n",
              "      <th>smoker</th>\n",
              "      <th>charges</th>\n",
              "    </tr>\n",
              "  </thead>\n",
              "  <tbody>\n",
              "    <tr>\n",
              "      <th>0</th>\n",
              "      <td>19</td>\n",
              "      <td>27.900</td>\n",
              "      <td>0</td>\n",
              "      <td>1</td>\n",
              "      <td>16884.92400</td>\n",
              "    </tr>\n",
              "    <tr>\n",
              "      <th>1</th>\n",
              "      <td>18</td>\n",
              "      <td>33.770</td>\n",
              "      <td>1</td>\n",
              "      <td>0</td>\n",
              "      <td>1725.55230</td>\n",
              "    </tr>\n",
              "    <tr>\n",
              "      <th>2</th>\n",
              "      <td>28</td>\n",
              "      <td>33.000</td>\n",
              "      <td>3</td>\n",
              "      <td>0</td>\n",
              "      <td>4449.46200</td>\n",
              "    </tr>\n",
              "    <tr>\n",
              "      <th>3</th>\n",
              "      <td>33</td>\n",
              "      <td>22.705</td>\n",
              "      <td>0</td>\n",
              "      <td>0</td>\n",
              "      <td>21984.47061</td>\n",
              "    </tr>\n",
              "    <tr>\n",
              "      <th>4</th>\n",
              "      <td>32</td>\n",
              "      <td>28.880</td>\n",
              "      <td>0</td>\n",
              "      <td>0</td>\n",
              "      <td>3866.85520</td>\n",
              "    </tr>\n",
              "  </tbody>\n",
              "</table>\n",
              "</div>\n",
              "      <button class=\"colab-df-convert\" onclick=\"convertToInteractive('df-aaa75ebd-5f50-410a-9356-f92bb6957173')\"\n",
              "              title=\"Convert this dataframe to an interactive table.\"\n",
              "              style=\"display:none;\">\n",
              "        \n",
              "  <svg xmlns=\"http://www.w3.org/2000/svg\" height=\"24px\"viewBox=\"0 0 24 24\"\n",
              "       width=\"24px\">\n",
              "    <path d=\"M0 0h24v24H0V0z\" fill=\"none\"/>\n",
              "    <path d=\"M18.56 5.44l.94 2.06.94-2.06 2.06-.94-2.06-.94-.94-2.06-.94 2.06-2.06.94zm-11 1L8.5 8.5l.94-2.06 2.06-.94-2.06-.94L8.5 2.5l-.94 2.06-2.06.94zm10 10l.94 2.06.94-2.06 2.06-.94-2.06-.94-.94-2.06-.94 2.06-2.06.94z\"/><path d=\"M17.41 7.96l-1.37-1.37c-.4-.4-.92-.59-1.43-.59-.52 0-1.04.2-1.43.59L10.3 9.45l-7.72 7.72c-.78.78-.78 2.05 0 2.83L4 21.41c.39.39.9.59 1.41.59.51 0 1.02-.2 1.41-.59l7.78-7.78 2.81-2.81c.8-.78.8-2.07 0-2.86zM5.41 20L4 18.59l7.72-7.72 1.47 1.35L5.41 20z\"/>\n",
              "  </svg>\n",
              "      </button>\n",
              "      \n",
              "  <style>\n",
              "    .colab-df-container {\n",
              "      display:flex;\n",
              "      flex-wrap:wrap;\n",
              "      gap: 12px;\n",
              "    }\n",
              "\n",
              "    .colab-df-convert {\n",
              "      background-color: #E8F0FE;\n",
              "      border: none;\n",
              "      border-radius: 50%;\n",
              "      cursor: pointer;\n",
              "      display: none;\n",
              "      fill: #1967D2;\n",
              "      height: 32px;\n",
              "      padding: 0 0 0 0;\n",
              "      width: 32px;\n",
              "    }\n",
              "\n",
              "    .colab-df-convert:hover {\n",
              "      background-color: #E2EBFA;\n",
              "      box-shadow: 0px 1px 2px rgba(60, 64, 67, 0.3), 0px 1px 3px 1px rgba(60, 64, 67, 0.15);\n",
              "      fill: #174EA6;\n",
              "    }\n",
              "\n",
              "    [theme=dark] .colab-df-convert {\n",
              "      background-color: #3B4455;\n",
              "      fill: #D2E3FC;\n",
              "    }\n",
              "\n",
              "    [theme=dark] .colab-df-convert:hover {\n",
              "      background-color: #434B5C;\n",
              "      box-shadow: 0px 1px 3px 1px rgba(0, 0, 0, 0.15);\n",
              "      filter: drop-shadow(0px 1px 2px rgba(0, 0, 0, 0.3));\n",
              "      fill: #FFFFFF;\n",
              "    }\n",
              "  </style>\n",
              "\n",
              "      <script>\n",
              "        const buttonEl =\n",
              "          document.querySelector('#df-aaa75ebd-5f50-410a-9356-f92bb6957173 button.colab-df-convert');\n",
              "        buttonEl.style.display =\n",
              "          google.colab.kernel.accessAllowed ? 'block' : 'none';\n",
              "\n",
              "        async function convertToInteractive(key) {\n",
              "          const element = document.querySelector('#df-aaa75ebd-5f50-410a-9356-f92bb6957173');\n",
              "          const dataTable =\n",
              "            await google.colab.kernel.invokeFunction('convertToInteractive',\n",
              "                                                     [key], {});\n",
              "          if (!dataTable) return;\n",
              "\n",
              "          const docLinkHtml = 'Like what you see? Visit the ' +\n",
              "            '<a target=\"_blank\" href=https://colab.research.google.com/notebooks/data_table.ipynb>data table notebook</a>'\n",
              "            + ' to learn more about interactive tables.';\n",
              "          element.innerHTML = '';\n",
              "          dataTable['output_type'] = 'display_data';\n",
              "          await google.colab.output.renderOutput(dataTable, element);\n",
              "          const docLink = document.createElement('div');\n",
              "          docLink.innerHTML = docLinkHtml;\n",
              "          element.appendChild(docLink);\n",
              "        }\n",
              "      </script>\n",
              "    </div>\n",
              "  </div>\n",
              "  "
            ]
          },
          "metadata": {},
          "execution_count": 4
        }
      ],
      "source": [
        "df.head()"
      ]
    },
    {
      "cell_type": "code",
      "execution_count": 5,
      "id": "f5765905",
      "metadata": {
        "colab": {
          "base_uri": "https://localhost:8080/"
        },
        "id": "f5765905",
        "outputId": "f9369a7e-17fe-49a3-fa39-eab2ab110ae1"
      },
      "outputs": [
        {
          "output_type": "execute_result",
          "data": {
            "text/plain": [
              "1    268\n",
              "5    268\n",
              "3    268\n",
              "4    267\n",
              "2    267\n",
              "Name: quartile, dtype: int64"
            ]
          },
          "metadata": {},
          "execution_count": 5
        }
      ],
      "source": [
        "# Use qcut to group claims data (\"charges\") into 5 buckets\n",
        "df['quartile'] = (pd.qcut(df['charges'],q=5, labels=False))+1\n",
        "\n",
        "# Verify buckets are approximately balanced \n",
        "df['quartile'].value_counts()"
      ]
    },
    {
      "cell_type": "code",
      "execution_count": 6,
      "id": "e029a4ce",
      "metadata": {
        "id": "e029a4ce"
      },
      "outputs": [],
      "source": [
        "# Save bucket (\"quantile\") value as the new  `y` variable\n",
        "y_quartile = df['quartile']"
      ]
    },
    {
      "cell_type": "code",
      "execution_count": 7,
      "id": "56854242",
      "metadata": {
        "id": "56854242"
      },
      "outputs": [],
      "source": [
        "# Save the unique count of categories for later use\n",
        "number_of_classes = len(y_quartile.unique())"
      ]
    },
    {
      "cell_type": "code",
      "execution_count": 8,
      "id": "b225898d",
      "metadata": {
        "colab": {
          "base_uri": "https://localhost:8080/"
        },
        "id": "b225898d",
        "outputId": "44bcb16e-68cb-4609-cf6d-c250c66b1bf0"
      },
      "outputs": [
        {
          "output_type": "execute_result",
          "data": {
            "text/plain": [
              "array([3, 0, 1, ..., 0, 0, 4])"
            ]
          },
          "metadata": {},
          "execution_count": 8
        }
      ],
      "source": [
        "from sklearn.preprocessing import LabelEncoder\n",
        "# Encode quantiles into labels\n",
        "\n",
        "encoder = LabelEncoder()\n",
        "encoder.fit(y_quartile)\n",
        "encoded_y = encoder.transform(y_quartile)\n",
        "encoded_y"
      ]
    },
    {
      "cell_type": "code",
      "execution_count": 9,
      "id": "fa4a563f",
      "metadata": {
        "id": "fa4a563f"
      },
      "outputs": [],
      "source": [
        "from keras.utils.np_utils import to_categorical\n",
        "# Encode labels into categories\n",
        "y_categorical = to_categorical(encoded_y, number_of_classes)"
      ]
    },
    {
      "cell_type": "code",
      "source": [
        "df.columns"
      ],
      "metadata": {
        "colab": {
          "base_uri": "https://localhost:8080/"
        },
        "id": "76jqyVoqngP9",
        "outputId": "734e991e-d516-48ab-9f5e-c64f3e8dcd8d"
      },
      "id": "76jqyVoqngP9",
      "execution_count": 10,
      "outputs": [
        {
          "output_type": "execute_result",
          "data": {
            "text/plain": [
              "Index(['age', 'bmi', 'children', 'smoker', 'charges', 'quartile'], dtype='object')"
            ]
          },
          "metadata": {},
          "execution_count": 10
        }
      ]
    },
    {
      "cell_type": "code",
      "execution_count": 11,
      "id": "f1219ca4",
      "metadata": {
        "colab": {
          "base_uri": "https://localhost:8080/",
          "height": 204
        },
        "id": "f1219ca4",
        "outputId": "e739e72d-078a-4337-efdf-eb5dcb9a9fc3"
      },
      "outputs": [
        {
          "output_type": "execute_result",
          "data": {
            "text/plain": [
              "   age     bmi  children  smoker\n",
              "0   19  27.900         0       1\n",
              "1   18  33.770         1       0\n",
              "2   28  33.000         3       0\n",
              "3   33  22.705         0       0\n",
              "4   32  28.880         0       0"
            ],
            "text/html": [
              "\n",
              "  <div id=\"df-82e4bc0f-1da7-43ed-a0ff-36d7b2217bae\">\n",
              "    <div class=\"colab-df-container\">\n",
              "      <div>\n",
              "<style scoped>\n",
              "    .dataframe tbody tr th:only-of-type {\n",
              "        vertical-align: middle;\n",
              "    }\n",
              "\n",
              "    .dataframe tbody tr th {\n",
              "        vertical-align: top;\n",
              "    }\n",
              "\n",
              "    .dataframe thead th {\n",
              "        text-align: right;\n",
              "    }\n",
              "</style>\n",
              "<table border=\"1\" class=\"dataframe\">\n",
              "  <thead>\n",
              "    <tr style=\"text-align: right;\">\n",
              "      <th></th>\n",
              "      <th>age</th>\n",
              "      <th>bmi</th>\n",
              "      <th>children</th>\n",
              "      <th>smoker</th>\n",
              "    </tr>\n",
              "  </thead>\n",
              "  <tbody>\n",
              "    <tr>\n",
              "      <th>0</th>\n",
              "      <td>19</td>\n",
              "      <td>27.900</td>\n",
              "      <td>0</td>\n",
              "      <td>1</td>\n",
              "    </tr>\n",
              "    <tr>\n",
              "      <th>1</th>\n",
              "      <td>18</td>\n",
              "      <td>33.770</td>\n",
              "      <td>1</td>\n",
              "      <td>0</td>\n",
              "    </tr>\n",
              "    <tr>\n",
              "      <th>2</th>\n",
              "      <td>28</td>\n",
              "      <td>33.000</td>\n",
              "      <td>3</td>\n",
              "      <td>0</td>\n",
              "    </tr>\n",
              "    <tr>\n",
              "      <th>3</th>\n",
              "      <td>33</td>\n",
              "      <td>22.705</td>\n",
              "      <td>0</td>\n",
              "      <td>0</td>\n",
              "    </tr>\n",
              "    <tr>\n",
              "      <th>4</th>\n",
              "      <td>32</td>\n",
              "      <td>28.880</td>\n",
              "      <td>0</td>\n",
              "      <td>0</td>\n",
              "    </tr>\n",
              "  </tbody>\n",
              "</table>\n",
              "</div>\n",
              "      <button class=\"colab-df-convert\" onclick=\"convertToInteractive('df-82e4bc0f-1da7-43ed-a0ff-36d7b2217bae')\"\n",
              "              title=\"Convert this dataframe to an interactive table.\"\n",
              "              style=\"display:none;\">\n",
              "        \n",
              "  <svg xmlns=\"http://www.w3.org/2000/svg\" height=\"24px\"viewBox=\"0 0 24 24\"\n",
              "       width=\"24px\">\n",
              "    <path d=\"M0 0h24v24H0V0z\" fill=\"none\"/>\n",
              "    <path d=\"M18.56 5.44l.94 2.06.94-2.06 2.06-.94-2.06-.94-.94-2.06-.94 2.06-2.06.94zm-11 1L8.5 8.5l.94-2.06 2.06-.94-2.06-.94L8.5 2.5l-.94 2.06-2.06.94zm10 10l.94 2.06.94-2.06 2.06-.94-2.06-.94-.94-2.06-.94 2.06-2.06.94z\"/><path d=\"M17.41 7.96l-1.37-1.37c-.4-.4-.92-.59-1.43-.59-.52 0-1.04.2-1.43.59L10.3 9.45l-7.72 7.72c-.78.78-.78 2.05 0 2.83L4 21.41c.39.39.9.59 1.41.59.51 0 1.02-.2 1.41-.59l7.78-7.78 2.81-2.81c.8-.78.8-2.07 0-2.86zM5.41 20L4 18.59l7.72-7.72 1.47 1.35L5.41 20z\"/>\n",
              "  </svg>\n",
              "      </button>\n",
              "      \n",
              "  <style>\n",
              "    .colab-df-container {\n",
              "      display:flex;\n",
              "      flex-wrap:wrap;\n",
              "      gap: 12px;\n",
              "    }\n",
              "\n",
              "    .colab-df-convert {\n",
              "      background-color: #E8F0FE;\n",
              "      border: none;\n",
              "      border-radius: 50%;\n",
              "      cursor: pointer;\n",
              "      display: none;\n",
              "      fill: #1967D2;\n",
              "      height: 32px;\n",
              "      padding: 0 0 0 0;\n",
              "      width: 32px;\n",
              "    }\n",
              "\n",
              "    .colab-df-convert:hover {\n",
              "      background-color: #E2EBFA;\n",
              "      box-shadow: 0px 1px 2px rgba(60, 64, 67, 0.3), 0px 1px 3px 1px rgba(60, 64, 67, 0.15);\n",
              "      fill: #174EA6;\n",
              "    }\n",
              "\n",
              "    [theme=dark] .colab-df-convert {\n",
              "      background-color: #3B4455;\n",
              "      fill: #D2E3FC;\n",
              "    }\n",
              "\n",
              "    [theme=dark] .colab-df-convert:hover {\n",
              "      background-color: #434B5C;\n",
              "      box-shadow: 0px 1px 3px 1px rgba(0, 0, 0, 0.15);\n",
              "      filter: drop-shadow(0px 1px 2px rgba(0, 0, 0, 0.3));\n",
              "      fill: #FFFFFF;\n",
              "    }\n",
              "  </style>\n",
              "\n",
              "      <script>\n",
              "        const buttonEl =\n",
              "          document.querySelector('#df-82e4bc0f-1da7-43ed-a0ff-36d7b2217bae button.colab-df-convert');\n",
              "        buttonEl.style.display =\n",
              "          google.colab.kernel.accessAllowed ? 'block' : 'none';\n",
              "\n",
              "        async function convertToInteractive(key) {\n",
              "          const element = document.querySelector('#df-82e4bc0f-1da7-43ed-a0ff-36d7b2217bae');\n",
              "          const dataTable =\n",
              "            await google.colab.kernel.invokeFunction('convertToInteractive',\n",
              "                                                     [key], {});\n",
              "          if (!dataTable) return;\n",
              "\n",
              "          const docLinkHtml = 'Like what you see? Visit the ' +\n",
              "            '<a target=\"_blank\" href=https://colab.research.google.com/notebooks/data_table.ipynb>data table notebook</a>'\n",
              "            + ' to learn more about interactive tables.';\n",
              "          element.innerHTML = '';\n",
              "          dataTable['output_type'] = 'display_data';\n",
              "          await google.colab.output.renderOutput(dataTable, element);\n",
              "          const docLink = document.createElement('div');\n",
              "          docLink.innerHTML = docLinkHtml;\n",
              "          element.appendChild(docLink);\n",
              "        }\n",
              "      </script>\n",
              "    </div>\n",
              "  </div>\n",
              "  "
            ]
          },
          "metadata": {},
          "execution_count": 11
        }
      ],
      "source": [
        "# Specify X (predictor) variables\n",
        "X = df[['age', 'bmi', 'children', 'smoker']]\n",
        "X.head()"
      ]
    },
    {
      "cell_type": "code",
      "execution_count": 12,
      "id": "09f6d2b3",
      "metadata": {
        "id": "09f6d2b3"
      },
      "outputs": [],
      "source": [
        "# Split into training and testing windows\n",
        "from sklearn.model_selection import train_test_split\n",
        "X_train, X_test, y_train, y_test = train_test_split(X, y_categorical, random_state=1)"
      ]
    },
    {
      "cell_type": "code",
      "execution_count": 13,
      "id": "047e581e",
      "metadata": {
        "colab": {
          "base_uri": "https://localhost:8080/"
        },
        "id": "047e581e",
        "outputId": "279bf894-f8a4-422d-a7e4-9784d1f49452"
      },
      "outputs": [
        {
          "output_type": "execute_result",
          "data": {
            "text/plain": [
              "array([[1., 0., 0., 0., 0.],\n",
              "       [1., 0., 0., 0., 0.],\n",
              "       [0., 1., 0., 0., 0.],\n",
              "       ...,\n",
              "       [0., 0., 0., 0., 1.],\n",
              "       [0., 0., 0., 1., 0.],\n",
              "       [0., 0., 0., 1., 0.]], dtype=float32)"
            ]
          },
          "metadata": {},
          "execution_count": 13
        }
      ],
      "source": [
        "# Preview the `y_train` values\n",
        "y_train"
      ]
    },
    {
      "cell_type": "code",
      "execution_count": 14,
      "id": "d8a8314d",
      "metadata": {
        "colab": {
          "base_uri": "https://localhost:8080/"
        },
        "id": "d8a8314d",
        "outputId": "0b17fab1-e175-44e9-8313-1050abb297a0"
      },
      "outputs": [
        {
          "output_type": "execute_result",
          "data": {
            "text/plain": [
              "4"
            ]
          },
          "metadata": {},
          "execution_count": 14
        }
      ],
      "source": [
        "# Save the count of unique predictor variables for use in model\n",
        "number_of_predictors = len(X.columns)\n",
        "number_of_predictors"
      ]
    },
    {
      "cell_type": "markdown",
      "id": "a1c124ca",
      "metadata": {
        "id": "a1c124ca"
      },
      "source": [
        "### Build the Model\n",
        "\n"
      ]
    },
    {
      "cell_type": "code",
      "execution_count": 15,
      "id": "88fff3da",
      "metadata": {
        "id": "88fff3da"
      },
      "outputs": [],
      "source": [
        "# Import the `Dropout` layer\n",
        "from keras.layers import Dropout\n",
        "# Import regularization functions\n",
        "from keras.regularizers import l1, l2"
      ]
    },
    {
      "cell_type": "code",
      "execution_count": 16,
      "id": "d3f0702b",
      "metadata": {
        "id": "d3f0702b"
      },
      "outputs": [],
      "source": [
        "# Build the Model\n",
        "model = Sequential()\n",
        "\n",
        "model.add(Dense(10, input_dim = number_of_predictors, activation='relu'))\n",
        "\n",
        "model.add(Dropout(.2, input_shape=(10,)))\n",
        "\n",
        "model.add(Dense(number_of_classes, activation='relu', kernel_regularizer=l2(0.01), bias_regularizer=l2(0.01)))\n",
        "\n",
        "model.add(Dense(number_of_classes, activation='softmax'))"
      ]
    },
    {
      "cell_type": "code",
      "execution_count": 17,
      "id": "2e188acc",
      "metadata": {
        "id": "2e188acc"
      },
      "outputs": [],
      "source": [
        "# Add the final output layer\n",
        "# (Hint: Set the # of possible outputs equal to the number classes)\n",
        "# Your Code Here"
      ]
    },
    {
      "cell_type": "code",
      "execution_count": 18,
      "id": "234f97d9",
      "metadata": {
        "id": "234f97d9"
      },
      "outputs": [],
      "source": [
        "# Compile the model\n",
        "model.compile(loss='categorical_crossentropy', optimizer='adam', metrics=['categorical_accuracy'])"
      ]
    },
    {
      "cell_type": "code",
      "execution_count": 19,
      "id": "fb552948",
      "metadata": {
        "colab": {
          "base_uri": "https://localhost:8080/"
        },
        "id": "fb552948",
        "outputId": "4a53664d-af15-4c73-c81c-a3918f3ea901"
      },
      "outputs": [
        {
          "output_type": "stream",
          "name": "stdout",
          "text": [
            "Model: \"sequential\"\n",
            "_________________________________________________________________\n",
            " Layer (type)                Output Shape              Param #   \n",
            "=================================================================\n",
            " dense (Dense)               (None, 10)                50        \n",
            "                                                                 \n",
            " dropout (Dropout)           (None, 10)                0         \n",
            "                                                                 \n",
            " dense_1 (Dense)             (None, 5)                 55        \n",
            "                                                                 \n",
            " dense_2 (Dense)             (None, 5)                 30        \n",
            "                                                                 \n",
            "=================================================================\n",
            "Total params: 135\n",
            "Trainable params: 135\n",
            "Non-trainable params: 0\n",
            "_________________________________________________________________\n"
          ]
        }
      ],
      "source": [
        "# Summarise the model\n",
        "model.summary()"
      ]
    },
    {
      "cell_type": "code",
      "execution_count": 20,
      "id": "0cd4bbee",
      "metadata": {
        "colab": {
          "base_uri": "https://localhost:8080/"
        },
        "id": "0cd4bbee",
        "outputId": "efe685f4-b80f-49aa-91bd-af42422f77f2"
      },
      "outputs": [
        {
          "output_type": "stream",
          "name": "stdout",
          "text": [
            "Epoch 1/50\n",
            "1/1 [==============================] - 2s 2s/step - loss: 10.5566 - categorical_accuracy: 0.2020 - val_loss: 8.1877 - val_categorical_accuracy: 0.2537\n",
            "Epoch 2/50\n",
            "1/1 [==============================] - 0s 58ms/step - loss: 10.0999 - categorical_accuracy: 0.2070 - val_loss: 8.0255 - val_categorical_accuracy: 0.2537\n",
            "Epoch 3/50\n",
            "1/1 [==============================] - 0s 95ms/step - loss: 9.7818 - categorical_accuracy: 0.2095 - val_loss: 7.8656 - val_categorical_accuracy: 0.2537\n",
            "Epoch 4/50\n",
            "1/1 [==============================] - 0s 79ms/step - loss: 10.0676 - categorical_accuracy: 0.1995 - val_loss: 7.7089 - val_categorical_accuracy: 0.2537\n",
            "Epoch 5/50\n",
            "1/1 [==============================] - 0s 74ms/step - loss: 9.7083 - categorical_accuracy: 0.2032 - val_loss: 7.5535 - val_categorical_accuracy: 0.2537\n",
            "Epoch 6/50\n",
            "1/1 [==============================] - 0s 117ms/step - loss: 9.4821 - categorical_accuracy: 0.2120 - val_loss: 7.3997 - val_categorical_accuracy: 0.2537\n",
            "Epoch 7/50\n",
            "1/1 [==============================] - 0s 81ms/step - loss: 9.4734 - categorical_accuracy: 0.1920 - val_loss: 7.2473 - val_categorical_accuracy: 0.2537\n",
            "Epoch 8/50\n",
            "1/1 [==============================] - 0s 123ms/step - loss: 9.1175 - categorical_accuracy: 0.1920 - val_loss: 7.0979 - val_categorical_accuracy: 0.2537\n",
            "Epoch 9/50\n",
            "1/1 [==============================] - 0s 100ms/step - loss: 9.1282 - categorical_accuracy: 0.1845 - val_loss: 6.9508 - val_categorical_accuracy: 0.2537\n",
            "Epoch 10/50\n",
            "1/1 [==============================] - 0s 86ms/step - loss: 9.0926 - categorical_accuracy: 0.1883 - val_loss: 6.8064 - val_categorical_accuracy: 0.2537\n",
            "Epoch 11/50\n",
            "1/1 [==============================] - 0s 72ms/step - loss: 8.6352 - categorical_accuracy: 0.1933 - val_loss: 6.6646 - val_categorical_accuracy: 0.2537\n",
            "Epoch 12/50\n",
            "1/1 [==============================] - 0s 138ms/step - loss: 8.0805 - categorical_accuracy: 0.2057 - val_loss: 6.5241 - val_categorical_accuracy: 0.2537\n",
            "Epoch 13/50\n",
            "1/1 [==============================] - 0s 53ms/step - loss: 8.4503 - categorical_accuracy: 0.2082 - val_loss: 6.3844 - val_categorical_accuracy: 0.2537\n",
            "Epoch 14/50\n",
            "1/1 [==============================] - 0s 86ms/step - loss: 7.7527 - categorical_accuracy: 0.2045 - val_loss: 6.2473 - val_categorical_accuracy: 0.2537\n",
            "Epoch 15/50\n",
            "1/1 [==============================] - 0s 141ms/step - loss: 7.8382 - categorical_accuracy: 0.1895 - val_loss: 6.1125 - val_categorical_accuracy: 0.2537\n",
            "Epoch 16/50\n",
            "1/1 [==============================] - 0s 134ms/step - loss: 7.9676 - categorical_accuracy: 0.2020 - val_loss: 5.9792 - val_categorical_accuracy: 0.2488\n",
            "Epoch 17/50\n",
            "1/1 [==============================] - 0s 105ms/step - loss: 7.5871 - categorical_accuracy: 0.2120 - val_loss: 5.8485 - val_categorical_accuracy: 0.2488\n",
            "Epoch 18/50\n",
            "1/1 [==============================] - 0s 115ms/step - loss: 7.3190 - categorical_accuracy: 0.1908 - val_loss: 5.7197 - val_categorical_accuracy: 0.2488\n",
            "Epoch 19/50\n",
            "1/1 [==============================] - 0s 116ms/step - loss: 7.5052 - categorical_accuracy: 0.2082 - val_loss: 5.5932 - val_categorical_accuracy: 0.2438\n",
            "Epoch 20/50\n",
            "1/1 [==============================] - 0s 94ms/step - loss: 7.3070 - categorical_accuracy: 0.2007 - val_loss: 5.4689 - val_categorical_accuracy: 0.2438\n",
            "Epoch 21/50\n",
            "1/1 [==============================] - 0s 109ms/step - loss: 7.3995 - categorical_accuracy: 0.1858 - val_loss: 5.3465 - val_categorical_accuracy: 0.2438\n",
            "Epoch 22/50\n",
            "1/1 [==============================] - 0s 106ms/step - loss: 6.8043 - categorical_accuracy: 0.1983 - val_loss: 5.2256 - val_categorical_accuracy: 0.2488\n",
            "Epoch 23/50\n",
            "1/1 [==============================] - 0s 140ms/step - loss: 6.7739 - categorical_accuracy: 0.2107 - val_loss: 5.1066 - val_categorical_accuracy: 0.2488\n",
            "Epoch 24/50\n",
            "1/1 [==============================] - 0s 190ms/step - loss: 6.6933 - categorical_accuracy: 0.2007 - val_loss: 4.9888 - val_categorical_accuracy: 0.2488\n",
            "Epoch 25/50\n",
            "1/1 [==============================] - 0s 169ms/step - loss: 6.3135 - categorical_accuracy: 0.1945 - val_loss: 4.8756 - val_categorical_accuracy: 0.2488\n",
            "Epoch 26/50\n",
            "1/1 [==============================] - 0s 126ms/step - loss: 6.3868 - categorical_accuracy: 0.1883 - val_loss: 4.7651 - val_categorical_accuracy: 0.2488\n",
            "Epoch 27/50\n",
            "1/1 [==============================] - 0s 118ms/step - loss: 6.1180 - categorical_accuracy: 0.2045 - val_loss: 4.6568 - val_categorical_accuracy: 0.2488\n",
            "Epoch 28/50\n",
            "1/1 [==============================] - 0s 115ms/step - loss: 6.1503 - categorical_accuracy: 0.2007 - val_loss: 4.5504 - val_categorical_accuracy: 0.2488\n",
            "Epoch 29/50\n",
            "1/1 [==============================] - 0s 126ms/step - loss: 6.1168 - categorical_accuracy: 0.1733 - val_loss: 4.4456 - val_categorical_accuracy: 0.2488\n",
            "Epoch 30/50\n",
            "1/1 [==============================] - 0s 106ms/step - loss: 5.8777 - categorical_accuracy: 0.2045 - val_loss: 4.3419 - val_categorical_accuracy: 0.2488\n",
            "Epoch 31/50\n",
            "1/1 [==============================] - 0s 148ms/step - loss: 5.8465 - categorical_accuracy: 0.1920 - val_loss: 4.2405 - val_categorical_accuracy: 0.2537\n",
            "Epoch 32/50\n",
            "1/1 [==============================] - 0s 92ms/step - loss: 5.5527 - categorical_accuracy: 0.1808 - val_loss: 4.1420 - val_categorical_accuracy: 0.2537\n",
            "Epoch 33/50\n",
            "1/1 [==============================] - 0s 115ms/step - loss: 5.5941 - categorical_accuracy: 0.2132 - val_loss: 4.0456 - val_categorical_accuracy: 0.2537\n",
            "Epoch 34/50\n",
            "1/1 [==============================] - 0s 112ms/step - loss: 5.5268 - categorical_accuracy: 0.1920 - val_loss: 3.9510 - val_categorical_accuracy: 0.2537\n",
            "Epoch 35/50\n",
            "1/1 [==============================] - 0s 157ms/step - loss: 5.5257 - categorical_accuracy: 0.2070 - val_loss: 3.8592 - val_categorical_accuracy: 0.2488\n",
            "Epoch 36/50\n",
            "1/1 [==============================] - 0s 103ms/step - loss: 5.5168 - categorical_accuracy: 0.1945 - val_loss: 3.7704 - val_categorical_accuracy: 0.2488\n",
            "Epoch 37/50\n",
            "1/1 [==============================] - 0s 156ms/step - loss: 5.1369 - categorical_accuracy: 0.1895 - val_loss: 3.6829 - val_categorical_accuracy: 0.2488\n",
            "Epoch 38/50\n",
            "1/1 [==============================] - 0s 111ms/step - loss: 5.0816 - categorical_accuracy: 0.1783 - val_loss: 3.5998 - val_categorical_accuracy: 0.2488\n",
            "Epoch 39/50\n",
            "1/1 [==============================] - 0s 141ms/step - loss: 5.0948 - categorical_accuracy: 0.1895 - val_loss: 3.5233 - val_categorical_accuracy: 0.2488\n",
            "Epoch 40/50\n",
            "1/1 [==============================] - 0s 167ms/step - loss: 5.0570 - categorical_accuracy: 0.1945 - val_loss: 3.4550 - val_categorical_accuracy: 0.2438\n",
            "Epoch 41/50\n",
            "1/1 [==============================] - 0s 143ms/step - loss: 5.0779 - categorical_accuracy: 0.2045 - val_loss: 3.3974 - val_categorical_accuracy: 0.2388\n",
            "Epoch 42/50\n",
            "1/1 [==============================] - 0s 137ms/step - loss: 4.6276 - categorical_accuracy: 0.1933 - val_loss: 3.3488 - val_categorical_accuracy: 0.2388\n",
            "Epoch 43/50\n",
            "1/1 [==============================] - 0s 82ms/step - loss: 4.7964 - categorical_accuracy: 0.2145 - val_loss: 3.3042 - val_categorical_accuracy: 0.2388\n",
            "Epoch 44/50\n",
            "1/1 [==============================] - 0s 88ms/step - loss: 4.6065 - categorical_accuracy: 0.2007 - val_loss: 3.2603 - val_categorical_accuracy: 0.2438\n",
            "Epoch 45/50\n",
            "1/1 [==============================] - 0s 53ms/step - loss: 4.6584 - categorical_accuracy: 0.1758 - val_loss: 3.2170 - val_categorical_accuracy: 0.2388\n",
            "Epoch 46/50\n",
            "1/1 [==============================] - 0s 248ms/step - loss: 4.5146 - categorical_accuracy: 0.2082 - val_loss: 3.1745 - val_categorical_accuracy: 0.2388\n",
            "Epoch 47/50\n",
            "1/1 [==============================] - 0s 119ms/step - loss: 4.2819 - categorical_accuracy: 0.2120 - val_loss: 3.1327 - val_categorical_accuracy: 0.2388\n",
            "Epoch 48/50\n",
            "1/1 [==============================] - 0s 103ms/step - loss: 4.4577 - categorical_accuracy: 0.2095 - val_loss: 3.0915 - val_categorical_accuracy: 0.2289\n",
            "Epoch 49/50\n",
            "1/1 [==============================] - 0s 182ms/step - loss: 4.1385 - categorical_accuracy: 0.1883 - val_loss: 3.0507 - val_categorical_accuracy: 0.2189\n",
            "Epoch 50/50\n",
            "1/1 [==============================] - 0s 97ms/step - loss: 4.0539 - categorical_accuracy: 0.1920 - val_loss: 3.0109 - val_categorical_accuracy: 0.2139\n"
          ]
        },
        {
          "output_type": "execute_result",
          "data": {
            "text/plain": [
              "<keras.callbacks.History at 0x7fc58755dfd0>"
            ]
          },
          "metadata": {},
          "execution_count": 20
        }
      ],
      "source": [
        "# Add in validation loss to select the number of epochs\n",
        "# Fit the model\n",
        "model.fit(X_train,y_train, epochs=50, batch_size=1000, validation_split=0.2, shuffle=True)"
      ]
    },
    {
      "cell_type": "code",
      "execution_count": 21,
      "id": "53b0063a",
      "metadata": {
        "colab": {
          "base_uri": "https://localhost:8080/"
        },
        "id": "53b0063a",
        "outputId": "9757bf68-474a-4d75-a97b-1811e95864c0"
      },
      "outputs": [
        {
          "output_type": "execute_result",
          "data": {
            "text/plain": [
              "dict_keys(['loss', 'categorical_accuracy', 'val_loss', 'val_categorical_accuracy'])"
            ]
          },
          "metadata": {},
          "execution_count": 21
        }
      ],
      "source": [
        "# Save model history across epochs\n",
        "model_history = model.history.history\n",
        "model_history.keys()"
      ]
    },
    {
      "cell_type": "code",
      "execution_count": 22,
      "id": "2124d070",
      "metadata": {
        "id": "2124d070"
      },
      "outputs": [],
      "source": [
        "# View `categorical_accuracy` for the training dataset\n",
        "# Your Code Here"
      ]
    },
    {
      "cell_type": "code",
      "execution_count": 24,
      "id": "3ef4fda4",
      "metadata": {
        "colab": {
          "base_uri": "https://localhost:8080/",
          "height": 298
        },
        "id": "3ef4fda4",
        "outputId": "7cb7ee64-e238-4d24-ab39-ab5cf6ac9e27"
      },
      "outputs": [
        {
          "output_type": "execute_result",
          "data": {
            "text/plain": [
              "<matplotlib.axes._subplots.AxesSubplot at 0x7fc58396ae80>"
            ]
          },
          "metadata": {},
          "execution_count": 24
        },
        {
          "output_type": "display_data",
          "data": {
            "text/plain": [
              "<Figure size 432x288 with 1 Axes>"
            ],
            "image/png": "[encoded data removed]"
          },
          "metadata": {
            "needs_background": "light"
          }
        }
      ],
      "source": [
        "# Save accuracy for training and validation set across epochs into a DataFrame and Plot\n",
        "training_results = pd.DataFrame(index=range(1,51))\n",
        "training_results['training'] = model_history['categorical_accuracy']\n",
        "training_results['validation'] = model_history['val_categorical_accuracy']\n",
        "\n",
        "training_results.plot(title='Performance Across Training and Validation')"
      ]
    },
    {
      "cell_type": "code",
      "execution_count": 25,
      "id": "e1dc8737",
      "metadata": {
        "colab": {
          "base_uri": "https://localhost:8080/"
        },
        "id": "e1dc8737",
        "outputId": "c62fd4a2-1008-4074-b375-6f22fdc2a8cf"
      },
      "outputs": [
        {
          "output_type": "stream",
          "name": "stdout",
          "text": [
            "Epoch 1/10\n",
            "1/1 [==============================] - 0s 74ms/step - loss: 3.9435 - categorical_accuracy: 0.2107 - val_loss: 2.9719 - val_categorical_accuracy: 0.2139\n",
            "Epoch 2/10\n",
            "1/1 [==============================] - 0s 33ms/step - loss: 4.0994 - categorical_accuracy: 0.1933 - val_loss: 2.9337 - val_categorical_accuracy: 0.2139\n",
            "Epoch 3/10\n",
            "1/1 [==============================] - 0s 38ms/step - loss: 4.0882 - categorical_accuracy: 0.1746 - val_loss: 2.8965 - val_categorical_accuracy: 0.2139\n",
            "Epoch 4/10\n",
            "1/1 [==============================] - 0s 33ms/step - loss: 4.0899 - categorical_accuracy: 0.1696 - val_loss: 2.8598 - val_categorical_accuracy: 0.2139\n",
            "Epoch 5/10\n",
            "1/1 [==============================] - 0s 54ms/step - loss: 4.1842 - categorical_accuracy: 0.1933 - val_loss: 2.8233 - val_categorical_accuracy: 0.2139\n",
            "Epoch 6/10\n",
            "1/1 [==============================] - 0s 42ms/step - loss: 3.7235 - categorical_accuracy: 0.1908 - val_loss: 2.7871 - val_categorical_accuracy: 0.2090\n",
            "Epoch 7/10\n",
            "1/1 [==============================] - 0s 37ms/step - loss: 4.0072 - categorical_accuracy: 0.1858 - val_loss: 2.7511 - val_categorical_accuracy: 0.2090\n",
            "Epoch 8/10\n",
            "1/1 [==============================] - 0s 45ms/step - loss: 3.7207 - categorical_accuracy: 0.1995 - val_loss: 2.7159 - val_categorical_accuracy: 0.1990\n",
            "Epoch 9/10\n",
            "1/1 [==============================] - 0s 51ms/step - loss: 3.6931 - categorical_accuracy: 0.1970 - val_loss: 2.6814 - val_categorical_accuracy: 0.1940\n",
            "Epoch 10/10\n",
            "1/1 [==============================] - 0s 35ms/step - loss: 3.6148 - categorical_accuracy: 0.1958 - val_loss: 2.6474 - val_categorical_accuracy: 0.1940\n"
          ]
        },
        {
          "output_type": "execute_result",
          "data": {
            "text/plain": [
              "<keras.callbacks.History at 0x7fc5838bbac0>"
            ]
          },
          "metadata": {},
          "execution_count": 25
        }
      ],
      "source": [
        "# Re-Fit the model, this time with epoch count selected so as to avoid overfitting\n",
        "model.fit(X_train,y_train, epochs=10, batch_size=1000, validation_split=0.2, shuffle=True)"
      ]
    },
    {
      "cell_type": "code",
      "source": [],
      "metadata": {
        "id": "vIncyBlbtx7q"
      },
      "id": "vIncyBlbtx7q",
      "execution_count": null,
      "outputs": []
    }
  ],
  "metadata": {
    "kernelspec": {
      "display_name": "Python 3 (ipykernel)",
      "language": "python",
      "name": "python3"
    },
    "language_info": {
      "codemirror_mode": {
        "name": "ipython",
        "version": 3
      },
      "file_extension": ".py",
      "mimetype": "text/x-python",
      "name": "python",
      "nbconvert_exporter": "python",
      "pygments_lexer": "ipython3",
      "version": "3.8.11"
    },
    "colab": {
      "provenance": [],
      "include_colab_link": true
    }
  },
  "nbformat": 4,
  "nbformat_minor": 5
}