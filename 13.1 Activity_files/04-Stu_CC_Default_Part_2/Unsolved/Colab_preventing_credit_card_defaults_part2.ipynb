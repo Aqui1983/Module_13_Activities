{
  "cells": [
    {
      "cell_type": "markdown",
      "metadata": {
        "id": "LVS9sdQeeRDS"
      },
      "source": [
        "# Preventing Credit Card Defaults - Part 2\n",
        "\n",
        "In this activity, you will continue working on the neural network model to prevent credit card defaults. In this second part, you will compile, fit, and evaluate the model.\n",
        "\n",
        "## Instructions:\n",
        "\n",
        "1. Open the notebook, and run all the cells in the Jupyter notebook that correspond to “Preventing Credit Card Defaults Part 1”.\n",
        "\n",
        "2. Compile the neural network model using the `binary_crossentropy` loss function, the `adam` optimizer, and the additional metric `accuracy`.\n",
        "\n",
        "3. Fit the model with the training data, using 100 epochs.\n",
        "\n",
        "4. Plot the model’s loss function and accuracy over the 100 epochs.\n",
        "\n",
        "5. Evaluate the model using testing data and the `evaluate` method.\n",
        "\n",
        "\n",
        "## References:\n",
        "\n",
        "[Keras Sequential model](https://keras.io/api/models/sequential/)\n",
        "\n",
        "[Keras Dense module](https://keras.io/api/layers/core_layers/dense/)"
      ]
    },
    {
      "cell_type": "code",
      "execution_count": 1,
      "metadata": {
        "id": "tV1SXxUpeRDU"
      },
      "outputs": [],
      "source": [
        "# Imports\n",
        "import pandas as pd\n",
        "import tensorflow as tf\n",
        "from tensorflow.keras.layers import Dense\n",
        "from tensorflow.keras.models import Sequential\n",
        "from sklearn.preprocessing import StandardScaler\n",
        "from sklearn.model_selection import train_test_split\n",
        "\n",
        "%matplotlib inline"
      ]
    },
    {
      "cell_type": "markdown",
      "metadata": {
        "id": "brpjVL-peRDW"
      },
      "source": [
        "## Step 1: Run all the cells in the Jupyter notebook that correspond to “Preventing Credit Card Defaults Part 1”."
      ]
    },
    {
      "cell_type": "markdown",
      "metadata": {
        "id": "23SJf5GTeRDX"
      },
      "source": [
        "### Read the CSV file from the Resources folder into a Pandas DataFrame."
      ]
    },
    {
      "cell_type": "code",
      "execution_count": null,
      "metadata": {
        "id": "EugJzkZGeRDX"
      },
      "outputs": [],
      "source": [
        "# Import cc_default.csv to Google Colab\n",
        "from google.colab import files\n",
        "uploaded = files.upload()"
      ]
    },
    {
      "cell_type": "code",
      "execution_count": 2,
      "metadata": {
        "id": "juqruNHzeRDY",
        "outputId": "7064a444-2a50-46fe-bdaa-99beff06af34",
        "colab": {
          "base_uri": "https://localhost:8080/",
          "height": 297
        }
      },
      "outputs": [
        {
          "output_type": "execute_result",
          "data": {
            "text/plain": [
              "   LIMIT_BAL  EDUCATION  MARITAL_STATUS  AGE  PAY_0  PAY_2  PAY_3  PAY_4  \\\n",
              "0      20000          2               1   24      2      2     -1     -1   \n",
              "1     120000          2               2   26     -1      2      0      0   \n",
              "2      90000          2               2   34      0      0      0      0   \n",
              "3      50000          2               1   37      0      0      0      0   \n",
              "4      50000          2               1   57     -1      0     -1      0   \n",
              "\n",
              "   PAY_5  PAY_6  ...           \"BILL_AMT4\"  BILL_AMT5  BILL_AMT6  PAY_AMT1  \\\n",
              "0     -2     -2  ...                     0          0          0         0   \n",
              "1      0      2  ...                  3272       3455       3261         0   \n",
              "2      0      0  ...                 14331      14948      15549      1518   \n",
              "3      0      0  ...                 28314      28959      29547      2000   \n",
              "4      0      0  ...                 20940      19146      19131      2000   \n",
              "\n",
              "   PAY_AMT2  PAY_AMT3  PAY_AMT4  PAY_AMT5  PAY_AMT6  DEFAULT  \n",
              "0       689         0         0         0         0        1  \n",
              "1      1000      1000      1000         0      2000        1  \n",
              "2      1500      1000      1000      1000      5000        0  \n",
              "3      2019      1200      1100      1069      1000        0  \n",
              "4     36681     10000      9000       689       679        0  \n",
              "\n",
              "[5 rows x 23 columns]"
            ],
            "text/html": [
              "\n",
              "  <div id=\"df-dcdff3f8-c4da-4b51-a823-1993e9172333\">\n",
              "    <div class=\"colab-df-container\">\n",
              "      <div>\n",
              "<style scoped>\n",
              "    .dataframe tbody tr th:only-of-type {\n",
              "        vertical-align: middle;\n",
              "    }\n",
              "\n",
              "    .dataframe tbody tr th {\n",
              "        vertical-align: top;\n",
              "    }\n",
              "\n",
              "    .dataframe thead th {\n",
              "        text-align: right;\n",
              "    }\n",
              "</style>\n",
              "<table border=\"1\" class=\"dataframe\">\n",
              "  <thead>\n",
              "    <tr style=\"text-align: right;\">\n",
              "      <th></th>\n",
              "      <th>LIMIT_BAL</th>\n",
              "      <th>EDUCATION</th>\n",
              "      <th>MARITAL_STATUS</th>\n",
              "      <th>AGE</th>\n",
              "      <th>PAY_0</th>\n",
              "      <th>PAY_2</th>\n",
              "      <th>PAY_3</th>\n",
              "      <th>PAY_4</th>\n",
              "      <th>PAY_5</th>\n",
              "      <th>PAY_6</th>\n",
              "      <th>...</th>\n",
              "      <th>\"BILL_AMT4\"</th>\n",
              "      <th>BILL_AMT5</th>\n",
              "      <th>BILL_AMT6</th>\n",
              "      <th>PAY_AMT1</th>\n",
              "      <th>PAY_AMT2</th>\n",
              "      <th>PAY_AMT3</th>\n",
              "      <th>PAY_AMT4</th>\n",
              "      <th>PAY_AMT5</th>\n",
              "      <th>PAY_AMT6</th>\n",
              "      <th>DEFAULT</th>\n",
              "    </tr>\n",
              "  </thead>\n",
              "  <tbody>\n",
              "    <tr>\n",
              "      <th>0</th>\n",
              "      <td>20000</td>\n",
              "      <td>2</td>\n",
              "      <td>1</td>\n",
              "      <td>24</td>\n",
              "      <td>2</td>\n",
              "      <td>2</td>\n",
              "      <td>-1</td>\n",
              "      <td>-1</td>\n",
              "      <td>-2</td>\n",
              "      <td>-2</td>\n",
              "      <td>...</td>\n",
              "      <td>0</td>\n",
              "      <td>0</td>\n",
              "      <td>0</td>\n",
              "      <td>0</td>\n",
              "      <td>689</td>\n",
              "      <td>0</td>\n",
              "      <td>0</td>\n",
              "      <td>0</td>\n",
              "      <td>0</td>\n",
              "      <td>1</td>\n",
              "    </tr>\n",
              "    <tr>\n",
              "      <th>1</th>\n",
              "      <td>120000</td>\n",
              "      <td>2</td>\n",
              "      <td>2</td>\n",
              "      <td>26</td>\n",
              "      <td>-1</td>\n",
              "      <td>2</td>\n",
              "      <td>0</td>\n",
              "      <td>0</td>\n",
              "      <td>0</td>\n",
              "      <td>2</td>\n",
              "      <td>...</td>\n",
              "      <td>3272</td>\n",
              "      <td>3455</td>\n",
              "      <td>3261</td>\n",
              "      <td>0</td>\n",
              "      <td>1000</td>\n",
              "      <td>1000</td>\n",
              "      <td>1000</td>\n",
              "      <td>0</td>\n",
              "      <td>2000</td>\n",
              "      <td>1</td>\n",
              "    </tr>\n",
              "    <tr>\n",
              "      <th>2</th>\n",
              "      <td>90000</td>\n",
              "      <td>2</td>\n",
              "      <td>2</td>\n",
              "      <td>34</td>\n",
              "      <td>0</td>\n",
              "      <td>0</td>\n",
              "      <td>0</td>\n",
              "      <td>0</td>\n",
              "      <td>0</td>\n",
              "      <td>0</td>\n",
              "      <td>...</td>\n",
              "      <td>14331</td>\n",
              "      <td>14948</td>\n",
              "      <td>15549</td>\n",
              "      <td>1518</td>\n",
              "      <td>1500</td>\n",
              "      <td>1000</td>\n",
              "      <td>1000</td>\n",
              "      <td>1000</td>\n",
              "      <td>5000</td>\n",
              "      <td>0</td>\n",
              "    </tr>\n",
              "    <tr>\n",
              "      <th>3</th>\n",
              "      <td>50000</td>\n",
              "      <td>2</td>\n",
              "      <td>1</td>\n",
              "      <td>37</td>\n",
              "      <td>0</td>\n",
              "      <td>0</td>\n",
              "      <td>0</td>\n",
              "      <td>0</td>\n",
              "      <td>0</td>\n",
              "      <td>0</td>\n",
              "      <td>...</td>\n",
              "      <td>28314</td>\n",
              "      <td>28959</td>\n",
              "      <td>29547</td>\n",
              "      <td>2000</td>\n",
              "      <td>2019</td>\n",
              "      <td>1200</td>\n",
              "      <td>1100</td>\n",
              "      <td>1069</td>\n",
              "      <td>1000</td>\n",
              "      <td>0</td>\n",
              "    </tr>\n",
              "    <tr>\n",
              "      <th>4</th>\n",
              "      <td>50000</td>\n",
              "      <td>2</td>\n",
              "      <td>1</td>\n",
              "      <td>57</td>\n",
              "      <td>-1</td>\n",
              "      <td>0</td>\n",
              "      <td>-1</td>\n",
              "      <td>0</td>\n",
              "      <td>0</td>\n",
              "      <td>0</td>\n",
              "      <td>...</td>\n",
              "      <td>20940</td>\n",
              "      <td>19146</td>\n",
              "      <td>19131</td>\n",
              "      <td>2000</td>\n",
              "      <td>36681</td>\n",
              "      <td>10000</td>\n",
              "      <td>9000</td>\n",
              "      <td>689</td>\n",
              "      <td>679</td>\n",
              "      <td>0</td>\n",
              "    </tr>\n",
              "  </tbody>\n",
              "</table>\n",
              "<p>5 rows × 23 columns</p>\n",
              "</div>\n",
              "      <button class=\"colab-df-convert\" onclick=\"convertToInteractive('df-dcdff3f8-c4da-4b51-a823-1993e9172333')\"\n",
              "              title=\"Convert this dataframe to an interactive table.\"\n",
              "              style=\"display:none;\">\n",
              "        \n",
              "  <svg xmlns=\"http://www.w3.org/2000/svg\" height=\"24px\"viewBox=\"0 0 24 24\"\n",
              "       width=\"24px\">\n",
              "    <path d=\"M0 0h24v24H0V0z\" fill=\"none\"/>\n",
              "    <path d=\"M18.56 5.44l.94 2.06.94-2.06 2.06-.94-2.06-.94-.94-2.06-.94 2.06-2.06.94zm-11 1L8.5 8.5l.94-2.06 2.06-.94-2.06-.94L8.5 2.5l-.94 2.06-2.06.94zm10 10l.94 2.06.94-2.06 2.06-.94-2.06-.94-.94-2.06-.94 2.06-2.06.94z\"/><path d=\"M17.41 7.96l-1.37-1.37c-.4-.4-.92-.59-1.43-.59-.52 0-1.04.2-1.43.59L10.3 9.45l-7.72 7.72c-.78.78-.78 2.05 0 2.83L4 21.41c.39.39.9.59 1.41.59.51 0 1.02-.2 1.41-.59l7.78-7.78 2.81-2.81c.8-.78.8-2.07 0-2.86zM5.41 20L4 18.59l7.72-7.72 1.47 1.35L5.41 20z\"/>\n",
              "  </svg>\n",
              "      </button>\n",
              "      \n",
              "  <style>\n",
              "    .colab-df-container {\n",
              "      display:flex;\n",
              "      flex-wrap:wrap;\n",
              "      gap: 12px;\n",
              "    }\n",
              "\n",
              "    .colab-df-convert {\n",
              "      background-color: #E8F0FE;\n",
              "      border: none;\n",
              "      border-radius: 50%;\n",
              "      cursor: pointer;\n",
              "      display: none;\n",
              "      fill: #1967D2;\n",
              "      height: 32px;\n",
              "      padding: 0 0 0 0;\n",
              "      width: 32px;\n",
              "    }\n",
              "\n",
              "    .colab-df-convert:hover {\n",
              "      background-color: #E2EBFA;\n",
              "      box-shadow: 0px 1px 2px rgba(60, 64, 67, 0.3), 0px 1px 3px 1px rgba(60, 64, 67, 0.15);\n",
              "      fill: #174EA6;\n",
              "    }\n",
              "\n",
              "    [theme=dark] .colab-df-convert {\n",
              "      background-color: #3B4455;\n",
              "      fill: #D2E3FC;\n",
              "    }\n",
              "\n",
              "    [theme=dark] .colab-df-convert:hover {\n",
              "      background-color: #434B5C;\n",
              "      box-shadow: 0px 1px 3px 1px rgba(0, 0, 0, 0.15);\n",
              "      filter: drop-shadow(0px 1px 2px rgba(0, 0, 0, 0.3));\n",
              "      fill: #FFFFFF;\n",
              "    }\n",
              "  </style>\n",
              "\n",
              "      <script>\n",
              "        const buttonEl =\n",
              "          document.querySelector('#df-dcdff3f8-c4da-4b51-a823-1993e9172333 button.colab-df-convert');\n",
              "        buttonEl.style.display =\n",
              "          google.colab.kernel.accessAllowed ? 'block' : 'none';\n",
              "\n",
              "        async function convertToInteractive(key) {\n",
              "          const element = document.querySelector('#df-dcdff3f8-c4da-4b51-a823-1993e9172333');\n",
              "          const dataTable =\n",
              "            await google.colab.kernel.invokeFunction('convertToInteractive',\n",
              "                                                     [key], {});\n",
              "          if (!dataTable) return;\n",
              "\n",
              "          const docLinkHtml = 'Like what you see? Visit the ' +\n",
              "            '<a target=\"_blank\" href=https://colab.research.google.com/notebooks/data_table.ipynb>data table notebook</a>'\n",
              "            + ' to learn more about interactive tables.';\n",
              "          element.innerHTML = '';\n",
              "          dataTable['output_type'] = 'display_data';\n",
              "          await google.colab.output.renderOutput(dataTable, element);\n",
              "          const docLink = document.createElement('div');\n",
              "          docLink.innerHTML = docLinkHtml;\n",
              "          element.appendChild(docLink);\n",
              "        }\n",
              "      </script>\n",
              "    </div>\n",
              "  </div>\n",
              "  "
            ]
          },
          "metadata": {},
          "execution_count": 2
        }
      ],
      "source": [
        "# Read the cc_default.csv file from the Resources folder into a Pandas DataFrame\n",
        "cc_df = pd.read_csv(\"cc_default.csv\")\n",
        "\n",
        "\n",
        "# Review the DataFrame\n",
        "cc_df.head()"
      ]
    },
    {
      "cell_type": "markdown",
      "metadata": {
        "id": "XWJ4K6tFeRDZ"
      },
      "source": [
        "### Define the features set `X` by including all of the DataFrame columns except the “DEFAULT” column."
      ]
    },
    {
      "cell_type": "code",
      "execution_count": 3,
      "metadata": {
        "id": "9o8Wm7W3eRDa",
        "outputId": "2e94a3b3-9824-476d-9097-81d8de826b76",
        "colab": {
          "base_uri": "https://localhost:8080/",
          "height": 297
        }
      },
      "outputs": [
        {
          "output_type": "execute_result",
          "data": {
            "text/plain": [
              "   LIMIT_BAL  EDUCATION  MARITAL_STATUS  AGE  PAY_0  PAY_2  PAY_3  PAY_4  \\\n",
              "0      20000          2               1   24      2      2     -1     -1   \n",
              "1     120000          2               2   26     -1      2      0      0   \n",
              "2      90000          2               2   34      0      0      0      0   \n",
              "3      50000          2               1   37      0      0      0      0   \n",
              "4      50000          2               1   57     -1      0     -1      0   \n",
              "\n",
              "   PAY_5  PAY_6  ...  BILL_AMT3           \"BILL_AMT4\"  BILL_AMT5  BILL_AMT6  \\\n",
              "0     -2     -2  ...        689                     0          0          0   \n",
              "1      0      2  ...       2682                  3272       3455       3261   \n",
              "2      0      0  ...      13559                 14331      14948      15549   \n",
              "3      0      0  ...      49291                 28314      28959      29547   \n",
              "4      0      0  ...      35835                 20940      19146      19131   \n",
              "\n",
              "   PAY_AMT1  PAY_AMT2  PAY_AMT3  PAY_AMT4  PAY_AMT5  PAY_AMT6  \n",
              "0         0       689         0         0         0         0  \n",
              "1         0      1000      1000      1000         0      2000  \n",
              "2      1518      1500      1000      1000      1000      5000  \n",
              "3      2000      2019      1200      1100      1069      1000  \n",
              "4      2000     36681     10000      9000       689       679  \n",
              "\n",
              "[5 rows x 22 columns]"
            ],
            "text/html": [
              "\n",
              "  <div id=\"df-4b794024-5b9c-462b-ba01-7fef127fad7e\">\n",
              "    <div class=\"colab-df-container\">\n",
              "      <div>\n",
              "<style scoped>\n",
              "    .dataframe tbody tr th:only-of-type {\n",
              "        vertical-align: middle;\n",
              "    }\n",
              "\n",
              "    .dataframe tbody tr th {\n",
              "        vertical-align: top;\n",
              "    }\n",
              "\n",
              "    .dataframe thead th {\n",
              "        text-align: right;\n",
              "    }\n",
              "</style>\n",
              "<table border=\"1\" class=\"dataframe\">\n",
              "  <thead>\n",
              "    <tr style=\"text-align: right;\">\n",
              "      <th></th>\n",
              "      <th>LIMIT_BAL</th>\n",
              "      <th>EDUCATION</th>\n",
              "      <th>MARITAL_STATUS</th>\n",
              "      <th>AGE</th>\n",
              "      <th>PAY_0</th>\n",
              "      <th>PAY_2</th>\n",
              "      <th>PAY_3</th>\n",
              "      <th>PAY_4</th>\n",
              "      <th>PAY_5</th>\n",
              "      <th>PAY_6</th>\n",
              "      <th>...</th>\n",
              "      <th>BILL_AMT3</th>\n",
              "      <th>\"BILL_AMT4\"</th>\n",
              "      <th>BILL_AMT5</th>\n",
              "      <th>BILL_AMT6</th>\n",
              "      <th>PAY_AMT1</th>\n",
              "      <th>PAY_AMT2</th>\n",
              "      <th>PAY_AMT3</th>\n",
              "      <th>PAY_AMT4</th>\n",
              "      <th>PAY_AMT5</th>\n",
              "      <th>PAY_AMT6</th>\n",
              "    </tr>\n",
              "  </thead>\n",
              "  <tbody>\n",
              "    <tr>\n",
              "      <th>0</th>\n",
              "      <td>20000</td>\n",
              "      <td>2</td>\n",
              "      <td>1</td>\n",
              "      <td>24</td>\n",
              "      <td>2</td>\n",
              "      <td>2</td>\n",
              "      <td>-1</td>\n",
              "      <td>-1</td>\n",
              "      <td>-2</td>\n",
              "      <td>-2</td>\n",
              "      <td>...</td>\n",
              "      <td>689</td>\n",
              "      <td>0</td>\n",
              "      <td>0</td>\n",
              "      <td>0</td>\n",
              "      <td>0</td>\n",
              "      <td>689</td>\n",
              "      <td>0</td>\n",
              "      <td>0</td>\n",
              "      <td>0</td>\n",
              "      <td>0</td>\n",
              "    </tr>\n",
              "    <tr>\n",
              "      <th>1</th>\n",
              "      <td>120000</td>\n",
              "      <td>2</td>\n",
              "      <td>2</td>\n",
              "      <td>26</td>\n",
              "      <td>-1</td>\n",
              "      <td>2</td>\n",
              "      <td>0</td>\n",
              "      <td>0</td>\n",
              "      <td>0</td>\n",
              "      <td>2</td>\n",
              "      <td>...</td>\n",
              "      <td>2682</td>\n",
              "      <td>3272</td>\n",
              "      <td>3455</td>\n",
              "      <td>3261</td>\n",
              "      <td>0</td>\n",
              "      <td>1000</td>\n",
              "      <td>1000</td>\n",
              "      <td>1000</td>\n",
              "      <td>0</td>\n",
              "      <td>2000</td>\n",
              "    </tr>\n",
              "    <tr>\n",
              "      <th>2</th>\n",
              "      <td>90000</td>\n",
              "      <td>2</td>\n",
              "      <td>2</td>\n",
              "      <td>34</td>\n",
              "      <td>0</td>\n",
              "      <td>0</td>\n",
              "      <td>0</td>\n",
              "      <td>0</td>\n",
              "      <td>0</td>\n",
              "      <td>0</td>\n",
              "      <td>...</td>\n",
              "      <td>13559</td>\n",
              "      <td>14331</td>\n",
              "      <td>14948</td>\n",
              "      <td>15549</td>\n",
              "      <td>1518</td>\n",
              "      <td>1500</td>\n",
              "      <td>1000</td>\n",
              "      <td>1000</td>\n",
              "      <td>1000</td>\n",
              "      <td>5000</td>\n",
              "    </tr>\n",
              "    <tr>\n",
              "      <th>3</th>\n",
              "      <td>50000</td>\n",
              "      <td>2</td>\n",
              "      <td>1</td>\n",
              "      <td>37</td>\n",
              "      <td>0</td>\n",
              "      <td>0</td>\n",
              "      <td>0</td>\n",
              "      <td>0</td>\n",
              "      <td>0</td>\n",
              "      <td>0</td>\n",
              "      <td>...</td>\n",
              "      <td>49291</td>\n",
              "      <td>28314</td>\n",
              "      <td>28959</td>\n",
              "      <td>29547</td>\n",
              "      <td>2000</td>\n",
              "      <td>2019</td>\n",
              "      <td>1200</td>\n",
              "      <td>1100</td>\n",
              "      <td>1069</td>\n",
              "      <td>1000</td>\n",
              "    </tr>\n",
              "    <tr>\n",
              "      <th>4</th>\n",
              "      <td>50000</td>\n",
              "      <td>2</td>\n",
              "      <td>1</td>\n",
              "      <td>57</td>\n",
              "      <td>-1</td>\n",
              "      <td>0</td>\n",
              "      <td>-1</td>\n",
              "      <td>0</td>\n",
              "      <td>0</td>\n",
              "      <td>0</td>\n",
              "      <td>...</td>\n",
              "      <td>35835</td>\n",
              "      <td>20940</td>\n",
              "      <td>19146</td>\n",
              "      <td>19131</td>\n",
              "      <td>2000</td>\n",
              "      <td>36681</td>\n",
              "      <td>10000</td>\n",
              "      <td>9000</td>\n",
              "      <td>689</td>\n",
              "      <td>679</td>\n",
              "    </tr>\n",
              "  </tbody>\n",
              "</table>\n",
              "<p>5 rows × 22 columns</p>\n",
              "</div>\n",
              "      <button class=\"colab-df-convert\" onclick=\"convertToInteractive('df-4b794024-5b9c-462b-ba01-7fef127fad7e')\"\n",
              "              title=\"Convert this dataframe to an interactive table.\"\n",
              "              style=\"display:none;\">\n",
              "        \n",
              "  <svg xmlns=\"http://www.w3.org/2000/svg\" height=\"24px\"viewBox=\"0 0 24 24\"\n",
              "       width=\"24px\">\n",
              "    <path d=\"M0 0h24v24H0V0z\" fill=\"none\"/>\n",
              "    <path d=\"M18.56 5.44l.94 2.06.94-2.06 2.06-.94-2.06-.94-.94-2.06-.94 2.06-2.06.94zm-11 1L8.5 8.5l.94-2.06 2.06-.94-2.06-.94L8.5 2.5l-.94 2.06-2.06.94zm10 10l.94 2.06.94-2.06 2.06-.94-2.06-.94-.94-2.06-.94 2.06-2.06.94z\"/><path d=\"M17.41 7.96l-1.37-1.37c-.4-.4-.92-.59-1.43-.59-.52 0-1.04.2-1.43.59L10.3 9.45l-7.72 7.72c-.78.78-.78 2.05 0 2.83L4 21.41c.39.39.9.59 1.41.59.51 0 1.02-.2 1.41-.59l7.78-7.78 2.81-2.81c.8-.78.8-2.07 0-2.86zM5.41 20L4 18.59l7.72-7.72 1.47 1.35L5.41 20z\"/>\n",
              "  </svg>\n",
              "      </button>\n",
              "      \n",
              "  <style>\n",
              "    .colab-df-container {\n",
              "      display:flex;\n",
              "      flex-wrap:wrap;\n",
              "      gap: 12px;\n",
              "    }\n",
              "\n",
              "    .colab-df-convert {\n",
              "      background-color: #E8F0FE;\n",
              "      border: none;\n",
              "      border-radius: 50%;\n",
              "      cursor: pointer;\n",
              "      display: none;\n",
              "      fill: #1967D2;\n",
              "      height: 32px;\n",
              "      padding: 0 0 0 0;\n",
              "      width: 32px;\n",
              "    }\n",
              "\n",
              "    .colab-df-convert:hover {\n",
              "      background-color: #E2EBFA;\n",
              "      box-shadow: 0px 1px 2px rgba(60, 64, 67, 0.3), 0px 1px 3px 1px rgba(60, 64, 67, 0.15);\n",
              "      fill: #174EA6;\n",
              "    }\n",
              "\n",
              "    [theme=dark] .colab-df-convert {\n",
              "      background-color: #3B4455;\n",
              "      fill: #D2E3FC;\n",
              "    }\n",
              "\n",
              "    [theme=dark] .colab-df-convert:hover {\n",
              "      background-color: #434B5C;\n",
              "      box-shadow: 0px 1px 3px 1px rgba(0, 0, 0, 0.15);\n",
              "      filter: drop-shadow(0px 1px 2px rgba(0, 0, 0, 0.3));\n",
              "      fill: #FFFFFF;\n",
              "    }\n",
              "  </style>\n",
              "\n",
              "      <script>\n",
              "        const buttonEl =\n",
              "          document.querySelector('#df-4b794024-5b9c-462b-ba01-7fef127fad7e button.colab-df-convert');\n",
              "        buttonEl.style.display =\n",
              "          google.colab.kernel.accessAllowed ? 'block' : 'none';\n",
              "\n",
              "        async function convertToInteractive(key) {\n",
              "          const element = document.querySelector('#df-4b794024-5b9c-462b-ba01-7fef127fad7e');\n",
              "          const dataTable =\n",
              "            await google.colab.kernel.invokeFunction('convertToInteractive',\n",
              "                                                     [key], {});\n",
              "          if (!dataTable) return;\n",
              "\n",
              "          const docLinkHtml = 'Like what you see? Visit the ' +\n",
              "            '<a target=\"_blank\" href=https://colab.research.google.com/notebooks/data_table.ipynb>data table notebook</a>'\n",
              "            + ' to learn more about interactive tables.';\n",
              "          element.innerHTML = '';\n",
              "          dataTable['output_type'] = 'display_data';\n",
              "          await google.colab.output.renderOutput(dataTable, element);\n",
              "          const docLink = document.createElement('div');\n",
              "          docLink.innerHTML = docLinkHtml;\n",
              "          element.appendChild(docLink);\n",
              "        }\n",
              "      </script>\n",
              "    </div>\n",
              "  </div>\n",
              "  "
            ]
          },
          "metadata": {},
          "execution_count": 3
        }
      ],
      "source": [
        "# Define features set X by selecting all columns but DEFAULT\n",
        "X = cc_df.drop(columns=[\"DEFAULT\"]).copy()\n",
        "\n",
        "# Display the features DataFrame\n",
        "X.head()"
      ]
    },
    {
      "cell_type": "markdown",
      "metadata": {
        "id": "iIcCm94UeRDb"
      },
      "source": [
        "### Create the target `y` by assigning the values of the DataFrame “DEFAULT” column."
      ]
    },
    {
      "cell_type": "code",
      "execution_count": 4,
      "metadata": {
        "id": "5c2Hs2ZAeRDb",
        "outputId": "bce9c215-65c7-4144-c8d1-8c72ac84fedb",
        "colab": {
          "base_uri": "https://localhost:8080/"
        }
      },
      "outputs": [
        {
          "output_type": "execute_result",
          "data": {
            "text/plain": [
              "0    1\n",
              "1    1\n",
              "2    0\n",
              "3    0\n",
              "4    0\n",
              "Name: DEFAULT, dtype: int64"
            ]
          },
          "metadata": {},
          "execution_count": 4
        }
      ],
      "source": [
        "# Define target set by selecting the DEFAULT column\n",
        "y = cc_df[\"DEFAULT\"]\n",
        "\n",
        "# Display a sample y\n",
        "y[:5]"
      ]
    },
    {
      "cell_type": "markdown",
      "metadata": {
        "id": "3pn-djwxeRDc"
      },
      "source": [
        "### Create the training and testing sets using the `train_test_split` function from scikit-learn."
      ]
    },
    {
      "cell_type": "code",
      "execution_count": 5,
      "metadata": {
        "id": "5Mf6fFL6eRDc"
      },
      "outputs": [],
      "source": [
        "# Create training and testing datasets using train_test_split\n",
        "# Assign the function a random_state equal to 1\n",
        "X_train, X_test, y_train, y_test = train_test_split(X, y, random_state=1)"
      ]
    },
    {
      "cell_type": "markdown",
      "metadata": {
        "id": "r36yNNKpeRDd"
      },
      "source": [
        "### Scale the features data using the `StandardScaler` from sklearn."
      ]
    },
    {
      "cell_type": "code",
      "execution_count": 6,
      "metadata": {
        "id": "MrIJW1hFeRDd"
      },
      "outputs": [],
      "source": [
        "# Create the StandardScaler instance\n",
        "X_scaler = StandardScaler()"
      ]
    },
    {
      "cell_type": "code",
      "execution_count": 7,
      "metadata": {
        "id": "Ub-74efheRDe",
        "outputId": "61f1dcdc-2e0e-43e0-9493-d62af04b88fd",
        "colab": {
          "base_uri": "https://localhost:8080/"
        }
      },
      "outputs": [
        {
          "output_type": "execute_result",
          "data": {
            "text/plain": [
              "StandardScaler()"
            ]
          },
          "metadata": {},
          "execution_count": 7
        }
      ],
      "source": [
        "# Fit the scaler to the features training dataset\n",
        "X_scaler.fit(X_train)"
      ]
    },
    {
      "cell_type": "code",
      "execution_count": 8,
      "metadata": {
        "id": "9yPjjRT5eRDe"
      },
      "outputs": [],
      "source": [
        "# Scale both the training and testing data from the features dataset\n",
        "X_train_scaled = X_scaler.transform(X_train)\n",
        "X_test_scaled = X_scaler.transform(X_test)"
      ]
    },
    {
      "cell_type": "markdown",
      "metadata": {
        "id": "kcewjPFDeRDf"
      },
      "source": [
        "### Create a neural network model with an input layer that consists of 22 inputs, one hidden layer, and an output layer. Use the `units` parameter to define 12 neurons for the hidden layer and a single output for the output layer. Use the ReLU activation function for the hidden layer and the sigmoid activation function for the output layer."
      ]
    },
    {
      "cell_type": "code",
      "execution_count": 9,
      "metadata": {
        "id": "xyaF2FtKeRDg"
      },
      "outputs": [],
      "source": [
        "# Define the the number of inputs to the model\n",
        "number_inputs = 22\n",
        "\n",
        "# Define the number of hidden nodes for the model\n",
        "number_hidden_nodes = 12\n",
        "\n",
        "# Create the Sequential model instance\n",
        "neuron = Sequential()\n",
        "\n",
        "# Add a Dense layer specifying the number of inputs, the number of hidden nodes, and the activation function\n",
        "neuron.add(Dense(units=number_hidden_nodes, input_dim=number_inputs, activation=\"relu\"))\n",
        "\n",
        "# Add the output layer to the model specifying the number of output neurons and activation function\n",
        "neuron.add(Dense(1, activation=\"sigmoid\"))"
      ]
    },
    {
      "cell_type": "markdown",
      "metadata": {
        "id": "lfikUVnXeRDh"
      },
      "source": [
        "### Display the model structure using the `summary` function."
      ]
    },
    {
      "cell_type": "code",
      "execution_count": 10,
      "metadata": {
        "id": "FU3hQ672eRDh",
        "outputId": "6cf29b1d-62bc-4a2e-b73a-a5d507156cf2",
        "colab": {
          "base_uri": "https://localhost:8080/"
        }
      },
      "outputs": [
        {
          "output_type": "stream",
          "name": "stdout",
          "text": [
            "Model: \"sequential\"\n",
            "_________________________________________________________________\n",
            " Layer (type)                Output Shape              Param #   \n",
            "=================================================================\n",
            " dense (Dense)               (None, 12)                276       \n",
            "                                                                 \n",
            " dense_1 (Dense)             (None, 1)                 13        \n",
            "                                                                 \n",
            "=================================================================\n",
            "Total params: 289\n",
            "Trainable params: 289\n",
            "Non-trainable params: 0\n",
            "_________________________________________________________________\n"
          ]
        }
      ],
      "source": [
        "# Display the Sequential model summary\n",
        "neuron.summary()"
      ]
    },
    {
      "cell_type": "markdown",
      "metadata": {
        "id": "VAJIFPCkeRDi"
      },
      "source": [
        "## Step 2:  Compile the neural network model using the `binary_crossentropy` loss function, the `adam` optimizer, and the additional metric `accuracy`."
      ]
    },
    {
      "cell_type": "code",
      "execution_count": 15,
      "metadata": {
        "id": "qi7maQ-BeRDi"
      },
      "outputs": [],
      "source": [
        "# Compile the Sequential model\n",
        "neuron.compile(loss='binary_crossentropy', optimizer='adam', metrics=['accuracy'])"
      ]
    },
    {
      "cell_type": "markdown",
      "metadata": {
        "id": "cXe7u3PdeRDj"
      },
      "source": [
        "## Step 3: Fit the model with 100 epochs using the training data."
      ]
    },
    {
      "cell_type": "code",
      "execution_count": 16,
      "metadata": {
        "id": "0M1_purmeRDj",
        "outputId": "ab05b955-01d1-4228-8f45-c07f12e14dce",
        "colab": {
          "base_uri": "https://localhost:8080/"
        }
      },
      "outputs": [
        {
          "output_type": "stream",
          "name": "stdout",
          "text": [
            "Epoch 1/100\n",
            "704/704 [==============================] - 2s 1ms/step - loss: 0.5073 - accuracy: 0.7883\n",
            "Epoch 2/100\n",
            "704/704 [==============================] - 1s 1ms/step - loss: 0.4637 - accuracy: 0.8104\n",
            "Epoch 3/100\n",
            "704/704 [==============================] - 1s 1ms/step - loss: 0.4531 - accuracy: 0.8138\n",
            "Epoch 4/100\n",
            "704/704 [==============================] - 1s 1ms/step - loss: 0.4494 - accuracy: 0.8137\n",
            "Epoch 5/100\n",
            "704/704 [==============================] - 1s 1ms/step - loss: 0.4458 - accuracy: 0.8164\n",
            "Epoch 6/100\n",
            "704/704 [==============================] - 1s 1ms/step - loss: 0.4439 - accuracy: 0.8160\n",
            "Epoch 7/100\n",
            "704/704 [==============================] - 1s 2ms/step - loss: 0.4419 - accuracy: 0.8181\n",
            "Epoch 8/100\n",
            "704/704 [==============================] - 2s 2ms/step - loss: 0.4408 - accuracy: 0.8179\n",
            "Epoch 9/100\n",
            "704/704 [==============================] - 1s 1ms/step - loss: 0.4400 - accuracy: 0.8193\n",
            "Epoch 10/100\n",
            "704/704 [==============================] - 1s 1ms/step - loss: 0.4391 - accuracy: 0.8195\n",
            "Epoch 11/100\n",
            "704/704 [==============================] - 1s 1ms/step - loss: 0.4379 - accuracy: 0.8192\n",
            "Epoch 12/100\n",
            "704/704 [==============================] - 1s 1ms/step - loss: 0.4372 - accuracy: 0.8207\n",
            "Epoch 13/100\n",
            "704/704 [==============================] - 1s 1ms/step - loss: 0.4368 - accuracy: 0.8202\n",
            "Epoch 14/100\n",
            "704/704 [==============================] - 1s 1ms/step - loss: 0.4361 - accuracy: 0.8211\n",
            "Epoch 15/100\n",
            "704/704 [==============================] - 1s 2ms/step - loss: 0.4358 - accuracy: 0.8208\n",
            "Epoch 16/100\n",
            "704/704 [==============================] - 1s 1ms/step - loss: 0.4348 - accuracy: 0.8209\n",
            "Epoch 17/100\n",
            "704/704 [==============================] - 2s 2ms/step - loss: 0.4346 - accuracy: 0.8210\n",
            "Epoch 18/100\n",
            "704/704 [==============================] - 2s 2ms/step - loss: 0.4346 - accuracy: 0.8205\n",
            "Epoch 19/100\n",
            "704/704 [==============================] - 1s 1ms/step - loss: 0.4339 - accuracy: 0.8213\n",
            "Epoch 20/100\n",
            "704/704 [==============================] - 1s 1ms/step - loss: 0.4334 - accuracy: 0.8212\n",
            "Epoch 21/100\n",
            "704/704 [==============================] - 1s 1ms/step - loss: 0.4337 - accuracy: 0.8213\n",
            "Epoch 22/100\n",
            "704/704 [==============================] - 1s 2ms/step - loss: 0.4331 - accuracy: 0.8224\n",
            "Epoch 23/100\n",
            "704/704 [==============================] - 1s 1ms/step - loss: 0.4329 - accuracy: 0.8214\n",
            "Epoch 24/100\n",
            "704/704 [==============================] - 1s 2ms/step - loss: 0.4330 - accuracy: 0.8219\n",
            "Epoch 25/100\n",
            "704/704 [==============================] - 1s 1ms/step - loss: 0.4325 - accuracy: 0.8218\n",
            "Epoch 26/100\n",
            "704/704 [==============================] - 1s 2ms/step - loss: 0.4325 - accuracy: 0.8220\n",
            "Epoch 27/100\n",
            "704/704 [==============================] - 1s 1ms/step - loss: 0.4323 - accuracy: 0.8216\n",
            "Epoch 28/100\n",
            "704/704 [==============================] - 1s 1ms/step - loss: 0.4322 - accuracy: 0.8218\n",
            "Epoch 29/100\n",
            "704/704 [==============================] - 2s 3ms/step - loss: 0.4315 - accuracy: 0.8216\n",
            "Epoch 30/100\n",
            "704/704 [==============================] - 1s 2ms/step - loss: 0.4320 - accuracy: 0.8216\n",
            "Epoch 31/100\n",
            "704/704 [==============================] - 1s 1ms/step - loss: 0.4317 - accuracy: 0.8222\n",
            "Epoch 32/100\n",
            "704/704 [==============================] - 1s 1ms/step - loss: 0.4312 - accuracy: 0.8221\n",
            "Epoch 33/100\n",
            "704/704 [==============================] - 1s 1ms/step - loss: 0.4315 - accuracy: 0.8223\n",
            "Epoch 34/100\n",
            "704/704 [==============================] - 1s 1ms/step - loss: 0.4314 - accuracy: 0.8217\n",
            "Epoch 35/100\n",
            "704/704 [==============================] - 1s 1ms/step - loss: 0.4313 - accuracy: 0.8219\n",
            "Epoch 36/100\n",
            "704/704 [==============================] - 1s 1ms/step - loss: 0.4311 - accuracy: 0.8215\n",
            "Epoch 37/100\n",
            "704/704 [==============================] - 1s 1ms/step - loss: 0.4313 - accuracy: 0.8219\n",
            "Epoch 38/100\n",
            "704/704 [==============================] - 1s 1ms/step - loss: 0.4311 - accuracy: 0.8210\n",
            "Epoch 39/100\n",
            "704/704 [==============================] - 1s 2ms/step - loss: 0.4309 - accuracy: 0.8218\n",
            "Epoch 40/100\n",
            "704/704 [==============================] - 1s 2ms/step - loss: 0.4312 - accuracy: 0.8216\n",
            "Epoch 41/100\n",
            "704/704 [==============================] - 1s 2ms/step - loss: 0.4307 - accuracy: 0.8210\n",
            "Epoch 42/100\n",
            "704/704 [==============================] - 1s 2ms/step - loss: 0.4310 - accuracy: 0.8214\n",
            "Epoch 43/100\n",
            "704/704 [==============================] - 1s 1ms/step - loss: 0.4304 - accuracy: 0.8218\n",
            "Epoch 44/100\n",
            "704/704 [==============================] - 1s 1ms/step - loss: 0.4307 - accuracy: 0.8214\n",
            "Epoch 45/100\n",
            "704/704 [==============================] - 1s 2ms/step - loss: 0.4306 - accuracy: 0.8220\n",
            "Epoch 46/100\n",
            "704/704 [==============================] - 1s 2ms/step - loss: 0.4303 - accuracy: 0.8228\n",
            "Epoch 47/100\n",
            "704/704 [==============================] - 1s 1ms/step - loss: 0.4305 - accuracy: 0.8229\n",
            "Epoch 48/100\n",
            "704/704 [==============================] - 1s 1ms/step - loss: 0.4304 - accuracy: 0.8222\n",
            "Epoch 49/100\n",
            "704/704 [==============================] - 1s 2ms/step - loss: 0.4304 - accuracy: 0.8221\n",
            "Epoch 50/100\n",
            "704/704 [==============================] - 1s 1ms/step - loss: 0.4303 - accuracy: 0.8220\n",
            "Epoch 51/100\n",
            "704/704 [==============================] - 1s 1ms/step - loss: 0.4300 - accuracy: 0.8227\n",
            "Epoch 52/100\n",
            "704/704 [==============================] - 1s 2ms/step - loss: 0.4300 - accuracy: 0.8218\n",
            "Epoch 53/100\n",
            "704/704 [==============================] - 1s 2ms/step - loss: 0.4301 - accuracy: 0.8223\n",
            "Epoch 54/100\n",
            "704/704 [==============================] - 1s 2ms/step - loss: 0.4300 - accuracy: 0.8221\n",
            "Epoch 55/100\n",
            "704/704 [==============================] - 1s 2ms/step - loss: 0.4298 - accuracy: 0.8222\n",
            "Epoch 56/100\n",
            "704/704 [==============================] - 1s 1ms/step - loss: 0.4296 - accuracy: 0.8225\n",
            "Epoch 57/100\n",
            "704/704 [==============================] - 1s 1ms/step - loss: 0.4300 - accuracy: 0.8225\n",
            "Epoch 58/100\n",
            "704/704 [==============================] - 1s 1ms/step - loss: 0.4298 - accuracy: 0.8228\n",
            "Epoch 59/100\n",
            "704/704 [==============================] - 1s 1ms/step - loss: 0.4295 - accuracy: 0.8228\n",
            "Epoch 60/100\n",
            "704/704 [==============================] - 1s 1ms/step - loss: 0.4296 - accuracy: 0.8228\n",
            "Epoch 61/100\n",
            "704/704 [==============================] - 1s 1ms/step - loss: 0.4292 - accuracy: 0.8237\n",
            "Epoch 62/100\n",
            "704/704 [==============================] - 1s 1ms/step - loss: 0.4292 - accuracy: 0.8224\n",
            "Epoch 63/100\n",
            "704/704 [==============================] - 1s 1ms/step - loss: 0.4293 - accuracy: 0.8227\n",
            "Epoch 64/100\n",
            "704/704 [==============================] - 1s 2ms/step - loss: 0.4295 - accuracy: 0.8233\n",
            "Epoch 65/100\n",
            "704/704 [==============================] - 1s 2ms/step - loss: 0.4292 - accuracy: 0.8227\n",
            "Epoch 66/100\n",
            "704/704 [==============================] - 2s 2ms/step - loss: 0.4291 - accuracy: 0.8225\n",
            "Epoch 67/100\n",
            "704/704 [==============================] - 1s 2ms/step - loss: 0.4291 - accuracy: 0.8224\n",
            "Epoch 68/100\n",
            "704/704 [==============================] - 1s 1ms/step - loss: 0.4291 - accuracy: 0.8226\n",
            "Epoch 69/100\n",
            "704/704 [==============================] - 1s 1ms/step - loss: 0.4292 - accuracy: 0.8228\n",
            "Epoch 70/100\n",
            "704/704 [==============================] - 1s 2ms/step - loss: 0.4290 - accuracy: 0.8230\n",
            "Epoch 71/100\n",
            "704/704 [==============================] - 1s 1ms/step - loss: 0.4291 - accuracy: 0.8228\n",
            "Epoch 72/100\n",
            "704/704 [==============================] - 1s 1ms/step - loss: 0.4292 - accuracy: 0.8232\n",
            "Epoch 73/100\n",
            "704/704 [==============================] - 1s 2ms/step - loss: 0.4290 - accuracy: 0.8233\n",
            "Epoch 74/100\n",
            "704/704 [==============================] - 1s 2ms/step - loss: 0.4290 - accuracy: 0.8227\n",
            "Epoch 75/100\n",
            "704/704 [==============================] - 1s 1ms/step - loss: 0.4289 - accuracy: 0.8232\n",
            "Epoch 76/100\n",
            "704/704 [==============================] - 1s 2ms/step - loss: 0.4289 - accuracy: 0.8232\n",
            "Epoch 77/100\n",
            "704/704 [==============================] - 1s 2ms/step - loss: 0.4285 - accuracy: 0.8229\n",
            "Epoch 78/100\n",
            "704/704 [==============================] - 1s 2ms/step - loss: 0.4287 - accuracy: 0.8224\n",
            "Epoch 79/100\n",
            "704/704 [==============================] - 1s 2ms/step - loss: 0.4289 - accuracy: 0.8228\n",
            "Epoch 80/100\n",
            "704/704 [==============================] - 1s 2ms/step - loss: 0.4286 - accuracy: 0.8233\n",
            "Epoch 81/100\n",
            "704/704 [==============================] - 1s 2ms/step - loss: 0.4285 - accuracy: 0.8235\n",
            "Epoch 82/100\n",
            "704/704 [==============================] - 1s 2ms/step - loss: 0.4286 - accuracy: 0.8232\n",
            "Epoch 83/100\n",
            "704/704 [==============================] - 1s 1ms/step - loss: 0.4286 - accuracy: 0.8236\n",
            "Epoch 84/100\n",
            "704/704 [==============================] - 1s 2ms/step - loss: 0.4286 - accuracy: 0.8231\n",
            "Epoch 85/100\n",
            "704/704 [==============================] - 1s 1ms/step - loss: 0.4285 - accuracy: 0.8230\n",
            "Epoch 86/100\n",
            "704/704 [==============================] - 1s 2ms/step - loss: 0.4288 - accuracy: 0.8225\n",
            "Epoch 87/100\n",
            "704/704 [==============================] - 2s 2ms/step - loss: 0.4284 - accuracy: 0.8238\n",
            "Epoch 88/100\n",
            "704/704 [==============================] - 1s 2ms/step - loss: 0.4284 - accuracy: 0.8234\n",
            "Epoch 89/100\n",
            "704/704 [==============================] - 1s 2ms/step - loss: 0.4284 - accuracy: 0.8224\n",
            "Epoch 90/100\n",
            "704/704 [==============================] - 1s 2ms/step - loss: 0.4286 - accuracy: 0.8233\n",
            "Epoch 91/100\n",
            "704/704 [==============================] - 1s 2ms/step - loss: 0.4284 - accuracy: 0.8232\n",
            "Epoch 92/100\n",
            "704/704 [==============================] - 1s 1ms/step - loss: 0.4284 - accuracy: 0.8229\n",
            "Epoch 93/100\n",
            "704/704 [==============================] - 1s 2ms/step - loss: 0.4284 - accuracy: 0.8232\n",
            "Epoch 94/100\n",
            "704/704 [==============================] - 1s 2ms/step - loss: 0.4282 - accuracy: 0.8235\n",
            "Epoch 95/100\n",
            "704/704 [==============================] - 1s 2ms/step - loss: 0.4284 - accuracy: 0.8234\n",
            "Epoch 96/100\n",
            "704/704 [==============================] - 1s 1ms/step - loss: 0.4282 - accuracy: 0.8237\n",
            "Epoch 97/100\n",
            "704/704 [==============================] - 2s 2ms/step - loss: 0.4282 - accuracy: 0.8231\n",
            "Epoch 98/100\n",
            "704/704 [==============================] - 3s 4ms/step - loss: 0.4281 - accuracy: 0.8240\n",
            "Epoch 99/100\n",
            "704/704 [==============================] - 3s 4ms/step - loss: 0.4281 - accuracy: 0.8225\n",
            "Epoch 100/100\n",
            "704/704 [==============================] - 2s 3ms/step - loss: 0.4280 - accuracy: 0.8227\n"
          ]
        }
      ],
      "source": [
        "# Fit the model using 100 epochs and the training data\n",
        "model = neuron.fit(X_train_scaled, y_train, epochs=100)\n"
      ]
    },
    {
      "cell_type": "markdown",
      "metadata": {
        "id": "lHNjaU22eRDj"
      },
      "source": [
        "## Step 4: Plot the model’s loss function and accuracy over the 100 epochs."
      ]
    },
    {
      "cell_type": "code",
      "execution_count": 17,
      "metadata": {
        "id": "94F8vYf-eRDk"
      },
      "outputs": [],
      "source": [
        "# Create a DataFrame using the model history and an index parameter\n",
        "model_plot = pd.DataFrame(model.history, index=range(1, len(model.history['loss'])+1))"
      ]
    },
    {
      "cell_type": "code",
      "execution_count": 18,
      "metadata": {
        "id": "NZAESOKkeRDk",
        "outputId": "ac28c463-cd6e-4937-afa2-b1ee01d806c4",
        "colab": {
          "base_uri": "https://localhost:8080/",
          "height": 283
        }
      },
      "outputs": [
        {
          "output_type": "execute_result",
          "data": {
            "text/plain": [
              "<matplotlib.axes._subplots.AxesSubplot at 0x7f17c3a11640>"
            ]
          },
          "metadata": {},
          "execution_count": 18
        },
        {
          "output_type": "display_data",
          "data": {
            "text/plain": [
              "<Figure size 432x288 with 1 Axes>"
            ],
            "image/png": "[encoded data removed]"
          },
          "metadata": {
            "needs_background": "light"
          }
        }
      ],
      "source": [
        "# Vizualize the model plot where the y-axis displays the loss metric\n",
        "model_plot.plot(y='loss')"
      ]
    },
    {
      "cell_type": "code",
      "execution_count": 19,
      "metadata": {
        "id": "tL50EVf7eRDk",
        "outputId": "0bda6a59-d96e-41bf-93ca-f71a680dec89",
        "colab": {
          "base_uri": "https://localhost:8080/",
          "height": 282
        }
      },
      "outputs": [
        {
          "output_type": "execute_result",
          "data": {
            "text/plain": [
              "<matplotlib.axes._subplots.AxesSubplot at 0x7f17c3909610>"
            ]
          },
          "metadata": {},
          "execution_count": 19
        },
        {
          "output_type": "display_data",
          "data": {
            "text/plain": [
              "<Figure size 432x288 with 1 Axes>"
            ],
            "image/png": "[encoded data removed]"
          },
          "metadata": {
            "needs_background": "light"
          }
        }
      ],
      "source": [
        "# Vizualize the model plot where the y-axis displays the accuracy metric\n",
        "model_plot.plot(y='accuracy')"
      ]
    },
    {
      "cell_type": "markdown",
      "metadata": {
        "id": "cyJMITUoeRDl"
      },
      "source": [
        "## Step 5: Evaluate the model using testing data and the `evaluate` method."
      ]
    },
    {
      "cell_type": "code",
      "execution_count": 22,
      "metadata": {
        "id": "isxV488KeRDl",
        "outputId": "460592b1-6c12-4268-8a90-f118a8a067dc",
        "colab": {
          "base_uri": "https://localhost:8080/"
        }
      },
      "outputs": [
        {
          "output_type": "stream",
          "name": "stdout",
          "text": [
            "235/235 - 1s - loss: 0.4395 - accuracy: 0.8176 - 515ms/epoch - 2ms/step\n",
            "Loss: 0.43950334191322327, Accuracy: 0.8176000118255615\n"
          ]
        }
      ],
      "source": [
        "# Evaluate the model loss and accuracy metrics using the evaluate method and the test data\n",
        "model_loss, model_accuracy = neuron.evaluate(X_test_scaled, y_test, verbose=2)\n",
        "\n",
        "# Display the evaluation results\n",
        "print(f\"Loss: {model_loss}, Accuracy: {model_accuracy}\")"
      ]
    },
    {
      "cell_type": "code",
      "execution_count": null,
      "metadata": {
        "id": "bjJFzVB-eRDl"
      },
      "outputs": [],
      "source": []
    }
  ],
  "metadata": {
    "file_extension": ".py",
    "kernelspec": {
      "display_name": "Python (dev)",
      "language": "python",
      "name": "dev"
    },
    "language_info": {
      "codemirror_mode": {
        "name": "ipython",
        "version": 3
      },
      "file_extension": ".py",
      "mimetype": "text/x-python",
      "name": "python",
      "nbconvert_exporter": "python",
      "pygments_lexer": "ipython3",
      "version": "3.7.7"
    },
    "mimetype": "text/x-python",
    "name": "python",
    "npconvert_exporter": "python",
    "pygments_lexer": "ipython3",
    "version": 3,
    "colab": {
      "provenance": []
    }
  },
  "nbformat": 4,
  "nbformat_minor": 0
}