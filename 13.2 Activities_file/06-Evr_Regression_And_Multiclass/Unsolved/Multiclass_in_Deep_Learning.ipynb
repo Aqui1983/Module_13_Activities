{
  "cells": [
    {
      "cell_type": "markdown",
      "metadata": {
        "id": "view-in-github",
        "colab_type": "text"
      },
      "source": [
        "<a href=\"https://colab.research.google.com/github/Aqui1983/Module_13_Activities/blob/main/Multiclass_in_Deep_Learning.ipynb\" target=\"_parent\"><img src=\"https://colab.research.google.com/assets/colab-badge.svg\" alt=\"Open In Colab\"/></a>"
      ]
    },
    {
      "cell_type": "markdown",
      "id": "8a552be4",
      "metadata": {
        "id": "8a552be4"
      },
      "source": [
        "# Multiclass Prediction in Deep Learning Models"
      ]
    },
    {
      "cell_type": "markdown",
      "id": "35602e50",
      "metadata": {
        "id": "35602e50"
      },
      "source": [
        "## Read in the Data"
      ]
    },
    {
      "cell_type": "code",
      "execution_count": 1,
      "id": "038c919a",
      "metadata": {
        "id": "038c919a"
      },
      "outputs": [],
      "source": [
        "# Import required packages\n",
        "import pandas as pd\n",
        "import numpy as np\n",
        "from tensorflow.keras.models import Sequential\n",
        "from tensorflow.keras.layers import Dense, Activation"
      ]
    },
    {
      "cell_type": "code",
      "execution_count": 4,
      "id": "322048df",
      "metadata": {
        "colab": {
          "base_uri": "https://localhost:8080/",
          "height": 204
        },
        "id": "322048df",
        "outputId": "cb7a68a3-5200-48bb-ac0f-73a6c3cfe447"
      },
      "outputs": [
        {
          "output_type": "execute_result",
          "data": {
            "text/plain": [
              "    EPS  forecasted_eps  noOfEsts  after_total_returns  before_total_returns\n",
              "0  2.01            1.67      11.0             0.051444              0.018585\n",
              "1  0.17            0.19       6.0             0.112955             -0.000510\n",
              "2 -0.07            0.14       4.0             0.077167             -0.046104\n",
              "3  0.48            0.51       8.0            -0.006130             -0.004899\n",
              "4 -0.24           -0.27       9.0             0.089762             -0.025466"
            ],
            "text/html": [
              "\n",
              "  <div id=\"df-b69094d6-012d-44ca-8eed-430657a71935\">\n",
              "    <div class=\"colab-df-container\">\n",
              "      <div>\n",
              "<style scoped>\n",
              "    .dataframe tbody tr th:only-of-type {\n",
              "        vertical-align: middle;\n",
              "    }\n",
              "\n",
              "    .dataframe tbody tr th {\n",
              "        vertical-align: top;\n",
              "    }\n",
              "\n",
              "    .dataframe thead th {\n",
              "        text-align: right;\n",
              "    }\n",
              "</style>\n",
              "<table border=\"1\" class=\"dataframe\">\n",
              "  <thead>\n",
              "    <tr style=\"text-align: right;\">\n",
              "      <th></th>\n",
              "      <th>EPS</th>\n",
              "      <th>forecasted_eps</th>\n",
              "      <th>noOfEsts</th>\n",
              "      <th>after_total_returns</th>\n",
              "      <th>before_total_returns</th>\n",
              "    </tr>\n",
              "  </thead>\n",
              "  <tbody>\n",
              "    <tr>\n",
              "      <th>0</th>\n",
              "      <td>2.01</td>\n",
              "      <td>1.67</td>\n",
              "      <td>11.0</td>\n",
              "      <td>0.051444</td>\n",
              "      <td>0.018585</td>\n",
              "    </tr>\n",
              "    <tr>\n",
              "      <th>1</th>\n",
              "      <td>0.17</td>\n",
              "      <td>0.19</td>\n",
              "      <td>6.0</td>\n",
              "      <td>0.112955</td>\n",
              "      <td>-0.000510</td>\n",
              "    </tr>\n",
              "    <tr>\n",
              "      <th>2</th>\n",
              "      <td>-0.07</td>\n",
              "      <td>0.14</td>\n",
              "      <td>4.0</td>\n",
              "      <td>0.077167</td>\n",
              "      <td>-0.046104</td>\n",
              "    </tr>\n",
              "    <tr>\n",
              "      <th>3</th>\n",
              "      <td>0.48</td>\n",
              "      <td>0.51</td>\n",
              "      <td>8.0</td>\n",
              "      <td>-0.006130</td>\n",
              "      <td>-0.004899</td>\n",
              "    </tr>\n",
              "    <tr>\n",
              "      <th>4</th>\n",
              "      <td>-0.24</td>\n",
              "      <td>-0.27</td>\n",
              "      <td>9.0</td>\n",
              "      <td>0.089762</td>\n",
              "      <td>-0.025466</td>\n",
              "    </tr>\n",
              "  </tbody>\n",
              "</table>\n",
              "</div>\n",
              "      <button class=\"colab-df-convert\" onclick=\"convertToInteractive('df-b69094d6-012d-44ca-8eed-430657a71935')\"\n",
              "              title=\"Convert this dataframe to an interactive table.\"\n",
              "              style=\"display:none;\">\n",
              "        \n",
              "  <svg xmlns=\"http://www.w3.org/2000/svg\" height=\"24px\"viewBox=\"0 0 24 24\"\n",
              "       width=\"24px\">\n",
              "    <path d=\"M0 0h24v24H0V0z\" fill=\"none\"/>\n",
              "    <path d=\"M18.56 5.44l.94 2.06.94-2.06 2.06-.94-2.06-.94-.94-2.06-.94 2.06-2.06.94zm-11 1L8.5 8.5l.94-2.06 2.06-.94-2.06-.94L8.5 2.5l-.94 2.06-2.06.94zm10 10l.94 2.06.94-2.06 2.06-.94-2.06-.94-.94-2.06-.94 2.06-2.06.94z\"/><path d=\"M17.41 7.96l-1.37-1.37c-.4-.4-.92-.59-1.43-.59-.52 0-1.04.2-1.43.59L10.3 9.45l-7.72 7.72c-.78.78-.78 2.05 0 2.83L4 21.41c.39.39.9.59 1.41.59.51 0 1.02-.2 1.41-.59l7.78-7.78 2.81-2.81c.8-.78.8-2.07 0-2.86zM5.41 20L4 18.59l7.72-7.72 1.47 1.35L5.41 20z\"/>\n",
              "  </svg>\n",
              "      </button>\n",
              "      \n",
              "  <style>\n",
              "    .colab-df-container {\n",
              "      display:flex;\n",
              "      flex-wrap:wrap;\n",
              "      gap: 12px;\n",
              "    }\n",
              "\n",
              "    .colab-df-convert {\n",
              "      background-color: #E8F0FE;\n",
              "      border: none;\n",
              "      border-radius: 50%;\n",
              "      cursor: pointer;\n",
              "      display: none;\n",
              "      fill: #1967D2;\n",
              "      height: 32px;\n",
              "      padding: 0 0 0 0;\n",
              "      width: 32px;\n",
              "    }\n",
              "\n",
              "    .colab-df-convert:hover {\n",
              "      background-color: #E2EBFA;\n",
              "      box-shadow: 0px 1px 2px rgba(60, 64, 67, 0.3), 0px 1px 3px 1px rgba(60, 64, 67, 0.15);\n",
              "      fill: #174EA6;\n",
              "    }\n",
              "\n",
              "    [theme=dark] .colab-df-convert {\n",
              "      background-color: #3B4455;\n",
              "      fill: #D2E3FC;\n",
              "    }\n",
              "\n",
              "    [theme=dark] .colab-df-convert:hover {\n",
              "      background-color: #434B5C;\n",
              "      box-shadow: 0px 1px 3px 1px rgba(0, 0, 0, 0.15);\n",
              "      filter: drop-shadow(0px 1px 2px rgba(0, 0, 0, 0.3));\n",
              "      fill: #FFFFFF;\n",
              "    }\n",
              "  </style>\n",
              "\n",
              "      <script>\n",
              "        const buttonEl =\n",
              "          document.querySelector('#df-b69094d6-012d-44ca-8eed-430657a71935 button.colab-df-convert');\n",
              "        buttonEl.style.display =\n",
              "          google.colab.kernel.accessAllowed ? 'block' : 'none';\n",
              "\n",
              "        async function convertToInteractive(key) {\n",
              "          const element = document.querySelector('#df-b69094d6-012d-44ca-8eed-430657a71935');\n",
              "          const dataTable =\n",
              "            await google.colab.kernel.invokeFunction('convertToInteractive',\n",
              "                                                     [key], {});\n",
              "          if (!dataTable) return;\n",
              "\n",
              "          const docLinkHtml = 'Like what you see? Visit the ' +\n",
              "            '<a target=\"_blank\" href=https://colab.research.google.com/notebooks/data_table.ipynb>data table notebook</a>'\n",
              "            + ' to learn more about interactive tables.';\n",
              "          element.innerHTML = '';\n",
              "          dataTable['output_type'] = 'display_data';\n",
              "          await google.colab.output.renderOutput(dataTable, element);\n",
              "          const docLink = document.createElement('div');\n",
              "          docLink.innerHTML = docLinkHtml;\n",
              "          element.appendChild(docLink);\n",
              "        }\n",
              "      </script>\n",
              "    </div>\n",
              "  </div>\n",
              "  "
            ]
          },
          "metadata": {},
          "execution_count": 4
        }
      ],
      "source": [
        "# Read in the data\n",
        "df = pd.read_csv('/content/meet_or_beat.csv')\n",
        "df.head()"
      ]
    },
    {
      "cell_type": "code",
      "execution_count": 5,
      "id": "70ff1285",
      "metadata": {
        "colab": {
          "base_uri": "https://localhost:8080/"
        },
        "id": "70ff1285",
        "outputId": "9f0181d1-79b3-4422-8d4d-b4e642ed1c41"
      },
      "outputs": [
        {
          "output_type": "execute_result",
          "data": {
            "text/plain": [
              "(71968, 5)"
            ]
          },
          "metadata": {},
          "execution_count": 5
        }
      ],
      "source": [
        "# Check dataset size\n",
        "df.shape"
      ]
    },
    {
      "cell_type": "code",
      "execution_count": null,
      "id": "312b3afd",
      "metadata": {
        "id": "312b3afd"
      },
      "outputs": [],
      "source": [
        "# Preview dataframe\n"
      ]
    },
    {
      "cell_type": "markdown",
      "id": "fae1c189",
      "metadata": {
        "id": "fae1c189"
      },
      "source": [
        "## Preparing the Data"
      ]
    },
    {
      "cell_type": "code",
      "execution_count": 13,
      "id": "c9dd1da4",
      "metadata": {
        "colab": {
          "base_uri": "https://localhost:8080/",
          "height": 419
        },
        "id": "c9dd1da4",
        "outputId": "3f9679c6-f9df-42a9-ee1c-89fc0eeaeb9f"
      },
      "outputs": [
        {
          "output_type": "execute_result",
          "data": {
            "text/plain": [
              "        EPS  forecasted_eps  ...  before_total_returns  earnings_outcome\n",
              "0      2.01            1.67  ...              0.018585              beat\n",
              "1      0.17            0.19  ...             -0.000510              lose\n",
              "2     -0.07            0.14  ...             -0.046104              lose\n",
              "3      0.48            0.51  ...             -0.004899              lose\n",
              "4     -0.24           -0.27  ...             -0.025466              beat\n",
              "...     ...             ...  ...                   ...               ...\n",
              "71963  0.31            0.30  ...              0.016854              beat\n",
              "71964 -0.65           -0.66  ...             -0.039052              beat\n",
              "71965  0.27            0.28  ...              0.141599              lose\n",
              "71966  0.11            0.10  ...              0.026346              beat\n",
              "71967 -0.12           -0.12  ...              0.337778              meet\n",
              "\n",
              "[71968 rows x 6 columns]"
            ],
            "text/html": [
              "\n",
              "  <div id=\"df-89ae22dd-b0b6-49de-8fea-e3d08d7a4bf5\">\n",
              "    <div class=\"colab-df-container\">\n",
              "      <div>\n",
              "<style scoped>\n",
              "    .dataframe tbody tr th:only-of-type {\n",
              "        vertical-align: middle;\n",
              "    }\n",
              "\n",
              "    .dataframe tbody tr th {\n",
              "        vertical-align: top;\n",
              "    }\n",
              "\n",
              "    .dataframe thead th {\n",
              "        text-align: right;\n",
              "    }\n",
              "</style>\n",
              "<table border=\"1\" class=\"dataframe\">\n",
              "  <thead>\n",
              "    <tr style=\"text-align: right;\">\n",
              "      <th></th>\n",
              "      <th>EPS</th>\n",
              "      <th>forecasted_eps</th>\n",
              "      <th>noOfEsts</th>\n",
              "      <th>after_total_returns</th>\n",
              "      <th>before_total_returns</th>\n",
              "      <th>earnings_outcome</th>\n",
              "    </tr>\n",
              "  </thead>\n",
              "  <tbody>\n",
              "    <tr>\n",
              "      <th>0</th>\n",
              "      <td>2.01</td>\n",
              "      <td>1.67</td>\n",
              "      <td>11.0</td>\n",
              "      <td>0.051444</td>\n",
              "      <td>0.018585</td>\n",
              "      <td>beat</td>\n",
              "    </tr>\n",
              "    <tr>\n",
              "      <th>1</th>\n",
              "      <td>0.17</td>\n",
              "      <td>0.19</td>\n",
              "      <td>6.0</td>\n",
              "      <td>0.112955</td>\n",
              "      <td>-0.000510</td>\n",
              "      <td>lose</td>\n",
              "    </tr>\n",
              "    <tr>\n",
              "      <th>2</th>\n",
              "      <td>-0.07</td>\n",
              "      <td>0.14</td>\n",
              "      <td>4.0</td>\n",
              "      <td>0.077167</td>\n",
              "      <td>-0.046104</td>\n",
              "      <td>lose</td>\n",
              "    </tr>\n",
              "    <tr>\n",
              "      <th>3</th>\n",
              "      <td>0.48</td>\n",
              "      <td>0.51</td>\n",
              "      <td>8.0</td>\n",
              "      <td>-0.006130</td>\n",
              "      <td>-0.004899</td>\n",
              "      <td>lose</td>\n",
              "    </tr>\n",
              "    <tr>\n",
              "      <th>4</th>\n",
              "      <td>-0.24</td>\n",
              "      <td>-0.27</td>\n",
              "      <td>9.0</td>\n",
              "      <td>0.089762</td>\n",
              "      <td>-0.025466</td>\n",
              "      <td>beat</td>\n",
              "    </tr>\n",
              "    <tr>\n",
              "      <th>...</th>\n",
              "      <td>...</td>\n",
              "      <td>...</td>\n",
              "      <td>...</td>\n",
              "      <td>...</td>\n",
              "      <td>...</td>\n",
              "      <td>...</td>\n",
              "    </tr>\n",
              "    <tr>\n",
              "      <th>71963</th>\n",
              "      <td>0.31</td>\n",
              "      <td>0.30</td>\n",
              "      <td>4.0</td>\n",
              "      <td>0.006035</td>\n",
              "      <td>0.016854</td>\n",
              "      <td>beat</td>\n",
              "    </tr>\n",
              "    <tr>\n",
              "      <th>71964</th>\n",
              "      <td>-0.65</td>\n",
              "      <td>-0.66</td>\n",
              "      <td>3.0</td>\n",
              "      <td>0.179327</td>\n",
              "      <td>-0.039052</td>\n",
              "      <td>beat</td>\n",
              "    </tr>\n",
              "    <tr>\n",
              "      <th>71965</th>\n",
              "      <td>0.27</td>\n",
              "      <td>0.28</td>\n",
              "      <td>3.0</td>\n",
              "      <td>0.059002</td>\n",
              "      <td>0.141599</td>\n",
              "      <td>lose</td>\n",
              "    </tr>\n",
              "    <tr>\n",
              "      <th>71966</th>\n",
              "      <td>0.11</td>\n",
              "      <td>0.10</td>\n",
              "      <td>4.0</td>\n",
              "      <td>-0.035755</td>\n",
              "      <td>0.026346</td>\n",
              "      <td>beat</td>\n",
              "    </tr>\n",
              "    <tr>\n",
              "      <th>71967</th>\n",
              "      <td>-0.12</td>\n",
              "      <td>-0.12</td>\n",
              "      <td>1.0</td>\n",
              "      <td>-0.196751</td>\n",
              "      <td>0.337778</td>\n",
              "      <td>meet</td>\n",
              "    </tr>\n",
              "  </tbody>\n",
              "</table>\n",
              "<p>71968 rows × 6 columns</p>\n",
              "</div>\n",
              "      <button class=\"colab-df-convert\" onclick=\"convertToInteractive('df-89ae22dd-b0b6-49de-8fea-e3d08d7a4bf5')\"\n",
              "              title=\"Convert this dataframe to an interactive table.\"\n",
              "              style=\"display:none;\">\n",
              "        \n",
              "  <svg xmlns=\"http://www.w3.org/2000/svg\" height=\"24px\"viewBox=\"0 0 24 24\"\n",
              "       width=\"24px\">\n",
              "    <path d=\"M0 0h24v24H0V0z\" fill=\"none\"/>\n",
              "    <path d=\"M18.56 5.44l.94 2.06.94-2.06 2.06-.94-2.06-.94-.94-2.06-.94 2.06-2.06.94zm-11 1L8.5 8.5l.94-2.06 2.06-.94-2.06-.94L8.5 2.5l-.94 2.06-2.06.94zm10 10l.94 2.06.94-2.06 2.06-.94-2.06-.94-.94-2.06-.94 2.06-2.06.94z\"/><path d=\"M17.41 7.96l-1.37-1.37c-.4-.4-.92-.59-1.43-.59-.52 0-1.04.2-1.43.59L10.3 9.45l-7.72 7.72c-.78.78-.78 2.05 0 2.83L4 21.41c.39.39.9.59 1.41.59.51 0 1.02-.2 1.41-.59l7.78-7.78 2.81-2.81c.8-.78.8-2.07 0-2.86zM5.41 20L4 18.59l7.72-7.72 1.47 1.35L5.41 20z\"/>\n",
              "  </svg>\n",
              "      </button>\n",
              "      \n",
              "  <style>\n",
              "    .colab-df-container {\n",
              "      display:flex;\n",
              "      flex-wrap:wrap;\n",
              "      gap: 12px;\n",
              "    }\n",
              "\n",
              "    .colab-df-convert {\n",
              "      background-color: #E8F0FE;\n",
              "      border: none;\n",
              "      border-radius: 50%;\n",
              "      cursor: pointer;\n",
              "      display: none;\n",
              "      fill: #1967D2;\n",
              "      height: 32px;\n",
              "      padding: 0 0 0 0;\n",
              "      width: 32px;\n",
              "    }\n",
              "\n",
              "    .colab-df-convert:hover {\n",
              "      background-color: #E2EBFA;\n",
              "      box-shadow: 0px 1px 2px rgba(60, 64, 67, 0.3), 0px 1px 3px 1px rgba(60, 64, 67, 0.15);\n",
              "      fill: #174EA6;\n",
              "    }\n",
              "\n",
              "    [theme=dark] .colab-df-convert {\n",
              "      background-color: #3B4455;\n",
              "      fill: #D2E3FC;\n",
              "    }\n",
              "\n",
              "    [theme=dark] .colab-df-convert:hover {\n",
              "      background-color: #434B5C;\n",
              "      box-shadow: 0px 1px 3px 1px rgba(0, 0, 0, 0.15);\n",
              "      filter: drop-shadow(0px 1px 2px rgba(0, 0, 0, 0.3));\n",
              "      fill: #FFFFFF;\n",
              "    }\n",
              "  </style>\n",
              "\n",
              "      <script>\n",
              "        const buttonEl =\n",
              "          document.querySelector('#df-89ae22dd-b0b6-49de-8fea-e3d08d7a4bf5 button.colab-df-convert');\n",
              "        buttonEl.style.display =\n",
              "          google.colab.kernel.accessAllowed ? 'block' : 'none';\n",
              "\n",
              "        async function convertToInteractive(key) {\n",
              "          const element = document.querySelector('#df-89ae22dd-b0b6-49de-8fea-e3d08d7a4bf5');\n",
              "          const dataTable =\n",
              "            await google.colab.kernel.invokeFunction('convertToInteractive',\n",
              "                                                     [key], {});\n",
              "          if (!dataTable) return;\n",
              "\n",
              "          const docLinkHtml = 'Like what you see? Visit the ' +\n",
              "            '<a target=\"_blank\" href=https://colab.research.google.com/notebooks/data_table.ipynb>data table notebook</a>'\n",
              "            + ' to learn more about interactive tables.';\n",
              "          element.innerHTML = '';\n",
              "          dataTable['output_type'] = 'display_data';\n",
              "          await google.colab.output.renderOutput(dataTable, element);\n",
              "          const docLink = document.createElement('div');\n",
              "          docLink.innerHTML = docLinkHtml;\n",
              "          element.appendChild(docLink);\n",
              "        }\n",
              "      </script>\n",
              "    </div>\n",
              "  </div>\n",
              "  "
            ]
          },
          "metadata": {},
          "execution_count": 13
        }
      ],
      "source": [
        "# Generate the categorical outcome variable\n",
        "df['earnings_outcome'] = np.nan\n",
        "\n",
        "df.loc[(df['EPS']==df['forecasted_eps']), 'earnings_outcome']='meet'\n",
        "df.loc[(df['EPS']>df['forecasted_eps']), 'earnings_outcome']='beat'\n",
        "df.loc[(df['EPS']<df['forecasted_eps']), 'earnings_outcome']='lose'\n",
        "\n",
        "df"
      ]
    },
    {
      "cell_type": "code",
      "execution_count": 14,
      "id": "1e7d9653",
      "metadata": {
        "colab": {
          "base_uri": "https://localhost:8080/"
        },
        "id": "1e7d9653",
        "outputId": "97032d98-6822-46c3-ecdb-c53509b45d0e"
      },
      "outputs": [
        {
          "output_type": "execute_result",
          "data": {
            "text/plain": [
              "0        beat\n",
              "1        lose\n",
              "2        lose\n",
              "3        lose\n",
              "4        beat\n",
              "         ... \n",
              "71963    beat\n",
              "71964    beat\n",
              "71965    lose\n",
              "71966    beat\n",
              "71967    meet\n",
              "Name: earnings_outcome, Length: 71968, dtype: object"
            ]
          },
          "metadata": {},
          "execution_count": 14
        }
      ],
      "source": [
        "# Preview the output variable \n",
        "y = df['earnings_outcome']\n",
        "y"
      ]
    },
    {
      "cell_type": "code",
      "execution_count": 15,
      "id": "d773c015",
      "metadata": {
        "colab": {
          "base_uri": "https://localhost:8080/"
        },
        "id": "d773c015",
        "outputId": "a8170262-e90d-4ae4-9f5d-2eb24c9adeb3"
      },
      "outputs": [
        {
          "output_type": "execute_result",
          "data": {
            "text/plain": [
              "array([0, 1, 1, ..., 1, 0, 2])"
            ]
          },
          "metadata": {},
          "execution_count": 15
        }
      ],
      "source": [
        "# Encode earnings labels to integers\n",
        "from sklearn.preprocessing import LabelEncoder\n",
        "\n",
        "encoder = LabelEncoder().fit(y)\n",
        "encoded_y = encoder.transform(y)\n",
        "\n",
        "encoded_y"
      ]
    },
    {
      "cell_type": "code",
      "execution_count": 19,
      "id": "306f47d7",
      "metadata": {
        "colab": {
          "base_uri": "https://localhost:8080/"
        },
        "id": "306f47d7",
        "outputId": "f87dae2b-c9df-46b8-a677-ef28bef0f88b"
      },
      "outputs": [
        {
          "output_type": "execute_result",
          "data": {
            "text/plain": [
              "3"
            ]
          },
          "metadata": {},
          "execution_count": 19
        }
      ],
      "source": [
        "# Save the unique number of labels for future use\n",
        "number_of_classes = len(list(y.drop_duplicates()))\n",
        "number_of_classes"
      ]
    },
    {
      "cell_type": "code",
      "execution_count": 21,
      "id": "c4512446",
      "metadata": {
        "id": "c4512446"
      },
      "outputs": [],
      "source": [
        "# Convert labeled integers to a Keras `categorical` data type\n",
        "from keras.utils.np_utils import to_categorical\n",
        "\n",
        "y_categorical = to_categorical(encoded_y, num_classes=number_of_classes)"
      ]
    },
    {
      "cell_type": "code",
      "execution_count": 23,
      "id": "8085ae8a",
      "metadata": {
        "colab": {
          "base_uri": "https://localhost:8080/",
          "height": 419
        },
        "id": "8085ae8a",
        "outputId": "5841a6f6-6784-48a1-9e3b-125fabf7f260"
      },
      "outputs": [
        {
          "output_type": "execute_result",
          "data": {
            "text/plain": [
              "       forecasted_eps  before_total_returns  noOfEsts\n",
              "0                1.67              0.018585      11.0\n",
              "1                0.19             -0.000510       6.0\n",
              "2                0.14             -0.046104       4.0\n",
              "3                0.51             -0.004899       8.0\n",
              "4               -0.27             -0.025466       9.0\n",
              "...               ...                   ...       ...\n",
              "71963            0.30              0.016854       4.0\n",
              "71964           -0.66             -0.039052       3.0\n",
              "71965            0.28              0.141599       3.0\n",
              "71966            0.10              0.026346       4.0\n",
              "71967           -0.12              0.337778       1.0\n",
              "\n",
              "[71968 rows x 3 columns]"
            ],
            "text/html": [
              "\n",
              "  <div id=\"df-976ec94d-3f58-4413-93d0-e3970df055f5\">\n",
              "    <div class=\"colab-df-container\">\n",
              "      <div>\n",
              "<style scoped>\n",
              "    .dataframe tbody tr th:only-of-type {\n",
              "        vertical-align: middle;\n",
              "    }\n",
              "\n",
              "    .dataframe tbody tr th {\n",
              "        vertical-align: top;\n",
              "    }\n",
              "\n",
              "    .dataframe thead th {\n",
              "        text-align: right;\n",
              "    }\n",
              "</style>\n",
              "<table border=\"1\" class=\"dataframe\">\n",
              "  <thead>\n",
              "    <tr style=\"text-align: right;\">\n",
              "      <th></th>\n",
              "      <th>forecasted_eps</th>\n",
              "      <th>before_total_returns</th>\n",
              "      <th>noOfEsts</th>\n",
              "    </tr>\n",
              "  </thead>\n",
              "  <tbody>\n",
              "    <tr>\n",
              "      <th>0</th>\n",
              "      <td>1.67</td>\n",
              "      <td>0.018585</td>\n",
              "      <td>11.0</td>\n",
              "    </tr>\n",
              "    <tr>\n",
              "      <th>1</th>\n",
              "      <td>0.19</td>\n",
              "      <td>-0.000510</td>\n",
              "      <td>6.0</td>\n",
              "    </tr>\n",
              "    <tr>\n",
              "      <th>2</th>\n",
              "      <td>0.14</td>\n",
              "      <td>-0.046104</td>\n",
              "      <td>4.0</td>\n",
              "    </tr>\n",
              "    <tr>\n",
              "      <th>3</th>\n",
              "      <td>0.51</td>\n",
              "      <td>-0.004899</td>\n",
              "      <td>8.0</td>\n",
              "    </tr>\n",
              "    <tr>\n",
              "      <th>4</th>\n",
              "      <td>-0.27</td>\n",
              "      <td>-0.025466</td>\n",
              "      <td>9.0</td>\n",
              "    </tr>\n",
              "    <tr>\n",
              "      <th>...</th>\n",
              "      <td>...</td>\n",
              "      <td>...</td>\n",
              "      <td>...</td>\n",
              "    </tr>\n",
              "    <tr>\n",
              "      <th>71963</th>\n",
              "      <td>0.30</td>\n",
              "      <td>0.016854</td>\n",
              "      <td>4.0</td>\n",
              "    </tr>\n",
              "    <tr>\n",
              "      <th>71964</th>\n",
              "      <td>-0.66</td>\n",
              "      <td>-0.039052</td>\n",
              "      <td>3.0</td>\n",
              "    </tr>\n",
              "    <tr>\n",
              "      <th>71965</th>\n",
              "      <td>0.28</td>\n",
              "      <td>0.141599</td>\n",
              "      <td>3.0</td>\n",
              "    </tr>\n",
              "    <tr>\n",
              "      <th>71966</th>\n",
              "      <td>0.10</td>\n",
              "      <td>0.026346</td>\n",
              "      <td>4.0</td>\n",
              "    </tr>\n",
              "    <tr>\n",
              "      <th>71967</th>\n",
              "      <td>-0.12</td>\n",
              "      <td>0.337778</td>\n",
              "      <td>1.0</td>\n",
              "    </tr>\n",
              "  </tbody>\n",
              "</table>\n",
              "<p>71968 rows × 3 columns</p>\n",
              "</div>\n",
              "      <button class=\"colab-df-convert\" onclick=\"convertToInteractive('df-976ec94d-3f58-4413-93d0-e3970df055f5')\"\n",
              "              title=\"Convert this dataframe to an interactive table.\"\n",
              "              style=\"display:none;\">\n",
              "        \n",
              "  <svg xmlns=\"http://www.w3.org/2000/svg\" height=\"24px\"viewBox=\"0 0 24 24\"\n",
              "       width=\"24px\">\n",
              "    <path d=\"M0 0h24v24H0V0z\" fill=\"none\"/>\n",
              "    <path d=\"M18.56 5.44l.94 2.06.94-2.06 2.06-.94-2.06-.94-.94-2.06-.94 2.06-2.06.94zm-11 1L8.5 8.5l.94-2.06 2.06-.94-2.06-.94L8.5 2.5l-.94 2.06-2.06.94zm10 10l.94 2.06.94-2.06 2.06-.94-2.06-.94-.94-2.06-.94 2.06-2.06.94z\"/><path d=\"M17.41 7.96l-1.37-1.37c-.4-.4-.92-.59-1.43-.59-.52 0-1.04.2-1.43.59L10.3 9.45l-7.72 7.72c-.78.78-.78 2.05 0 2.83L4 21.41c.39.39.9.59 1.41.59.51 0 1.02-.2 1.41-.59l7.78-7.78 2.81-2.81c.8-.78.8-2.07 0-2.86zM5.41 20L4 18.59l7.72-7.72 1.47 1.35L5.41 20z\"/>\n",
              "  </svg>\n",
              "      </button>\n",
              "      \n",
              "  <style>\n",
              "    .colab-df-container {\n",
              "      display:flex;\n",
              "      flex-wrap:wrap;\n",
              "      gap: 12px;\n",
              "    }\n",
              "\n",
              "    .colab-df-convert {\n",
              "      background-color: #E8F0FE;\n",
              "      border: none;\n",
              "      border-radius: 50%;\n",
              "      cursor: pointer;\n",
              "      display: none;\n",
              "      fill: #1967D2;\n",
              "      height: 32px;\n",
              "      padding: 0 0 0 0;\n",
              "      width: 32px;\n",
              "    }\n",
              "\n",
              "    .colab-df-convert:hover {\n",
              "      background-color: #E2EBFA;\n",
              "      box-shadow: 0px 1px 2px rgba(60, 64, 67, 0.3), 0px 1px 3px 1px rgba(60, 64, 67, 0.15);\n",
              "      fill: #174EA6;\n",
              "    }\n",
              "\n",
              "    [theme=dark] .colab-df-convert {\n",
              "      background-color: #3B4455;\n",
              "      fill: #D2E3FC;\n",
              "    }\n",
              "\n",
              "    [theme=dark] .colab-df-convert:hover {\n",
              "      background-color: #434B5C;\n",
              "      box-shadow: 0px 1px 3px 1px rgba(0, 0, 0, 0.15);\n",
              "      filter: drop-shadow(0px 1px 2px rgba(0, 0, 0, 0.3));\n",
              "      fill: #FFFFFF;\n",
              "    }\n",
              "  </style>\n",
              "\n",
              "      <script>\n",
              "        const buttonEl =\n",
              "          document.querySelector('#df-976ec94d-3f58-4413-93d0-e3970df055f5 button.colab-df-convert');\n",
              "        buttonEl.style.display =\n",
              "          google.colab.kernel.accessAllowed ? 'block' : 'none';\n",
              "\n",
              "        async function convertToInteractive(key) {\n",
              "          const element = document.querySelector('#df-976ec94d-3f58-4413-93d0-e3970df055f5');\n",
              "          const dataTable =\n",
              "            await google.colab.kernel.invokeFunction('convertToInteractive',\n",
              "                                                     [key], {});\n",
              "          if (!dataTable) return;\n",
              "\n",
              "          const docLinkHtml = 'Like what you see? Visit the ' +\n",
              "            '<a target=\"_blank\" href=https://colab.research.google.com/notebooks/data_table.ipynb>data table notebook</a>'\n",
              "            + ' to learn more about interactive tables.';\n",
              "          element.innerHTML = '';\n",
              "          dataTable['output_type'] = 'display_data';\n",
              "          await google.colab.output.renderOutput(dataTable, element);\n",
              "          const docLink = document.createElement('div');\n",
              "          docLink.innerHTML = docLinkHtml;\n",
              "          element.appendChild(docLink);\n",
              "        }\n",
              "      </script>\n",
              "    </div>\n",
              "  </div>\n",
              "  "
            ]
          },
          "metadata": {},
          "execution_count": 23
        }
      ],
      "source": [
        "# Specify X (predictor) variables\n",
        "X = df[['forecasted_eps', 'before_total_returns','noOfEsts']]\n",
        "X"
      ]
    },
    {
      "cell_type": "code",
      "execution_count": 24,
      "id": "be22b90d",
      "metadata": {
        "id": "be22b90d"
      },
      "outputs": [],
      "source": [
        "# Split into training and testing windows\n",
        "from sklearn.model_selection import train_test_split\n",
        "X_train, X_test, y_train, y_test = train_test_split(X, y_categorical, random_state=1)"
      ]
    },
    {
      "cell_type": "code",
      "execution_count": null,
      "id": "2ce7e477",
      "metadata": {
        "id": "2ce7e477"
      },
      "outputs": [],
      "source": [
        "# Preview the encoded data we're trying to predict\n"
      ]
    },
    {
      "cell_type": "code",
      "execution_count": 25,
      "id": "5ef48afd",
      "metadata": {
        "colab": {
          "base_uri": "https://localhost:8080/"
        },
        "id": "5ef48afd",
        "outputId": "84fa72fd-e4cd-4d02-8131-224614e4224c"
      },
      "outputs": [
        {
          "output_type": "execute_result",
          "data": {
            "text/plain": [
              "0    32924.0\n",
              "1    16878.0\n",
              "2     4174.0\n",
              "dtype: float32"
            ]
          },
          "metadata": {},
          "execution_count": 25
        }
      ],
      "source": [
        "# Check for class balance\n",
        "pd.DataFrame(y_train).sum()"
      ]
    },
    {
      "cell_type": "code",
      "execution_count": 27,
      "id": "ec0c8fde",
      "metadata": {
        "colab": {
          "base_uri": "https://localhost:8080/"
        },
        "id": "ec0c8fde",
        "outputId": "4a7b22fd-deb3-4818-92bb-963894b3916f"
      },
      "outputs": [
        {
          "output_type": "execute_result",
          "data": {
            "text/plain": [
              "3"
            ]
          },
          "metadata": {},
          "execution_count": 27
        }
      ],
      "source": [
        "# Save the count of unique predictor variables for use in model\n",
        "number_predictor_variables = len(X.columns)\n",
        "number_predictor_variables"
      ]
    },
    {
      "cell_type": "markdown",
      "id": "8ae85fb7",
      "metadata": {
        "id": "8ae85fb7"
      },
      "source": [
        "## Building, Fitting and Predicting with Multiple Classes"
      ]
    },
    {
      "cell_type": "code",
      "execution_count": 28,
      "id": "03388619",
      "metadata": {
        "id": "03388619"
      },
      "outputs": [],
      "source": [
        "# Build the neural network layers\n",
        "model = Sequential()\n",
        "model.add(Dense(units=9, input_dim=number_predictor_variables, activation='relu'))\n",
        "model.add(Dense(units=6, activation='relu'))\n"
      ]
    },
    {
      "cell_type": "code",
      "execution_count": 29,
      "id": "13d03f72",
      "metadata": {
        "id": "13d03f72"
      },
      "outputs": [],
      "source": [
        "# Add the final output layer\n",
        "# With the # of possible outputs equal to the number classes \n",
        "\n",
        "model.add(Dense(number_of_classes, activation='softmax'))"
      ]
    },
    {
      "cell_type": "code",
      "execution_count": 30,
      "id": "04e990e4",
      "metadata": {
        "id": "04e990e4"
      },
      "outputs": [],
      "source": [
        "# Compile the model (with multi-class specific parameters)\n",
        "model.compile(loss='categorical_crossentropy', optimizer='adam', metrics=['categorical_accuracy'])"
      ]
    },
    {
      "cell_type": "code",
      "execution_count": 31,
      "id": "be2b30af",
      "metadata": {
        "colab": {
          "base_uri": "https://localhost:8080/"
        },
        "id": "be2b30af",
        "outputId": "819ea190-7d56-48da-f517-0e8f2e5275af"
      },
      "outputs": [
        {
          "output_type": "stream",
          "name": "stdout",
          "text": [
            "Model: \"sequential\"\n",
            "_________________________________________________________________\n",
            " Layer (type)                Output Shape              Param #   \n",
            "=================================================================\n",
            " dense (Dense)               (None, 9)                 36        \n",
            "                                                                 \n",
            " dense_1 (Dense)             (None, 6)                 60        \n",
            "                                                                 \n",
            " dense_2 (Dense)             (None, 3)                 21        \n",
            "                                                                 \n",
            "=================================================================\n",
            "Total params: 117\n",
            "Trainable params: 117\n",
            "Non-trainable params: 0\n",
            "_________________________________________________________________\n"
          ]
        }
      ],
      "source": [
        "# Summarise the structure of the model\n",
        "model.summary()"
      ]
    },
    {
      "cell_type": "code",
      "execution_count": 32,
      "id": "bc04be47",
      "metadata": {
        "colab": {
          "base_uri": "https://localhost:8080/"
        },
        "id": "bc04be47",
        "outputId": "35ac688b-2ef5-4227-a175-93dcf4cd1968"
      },
      "outputs": [
        {
          "output_type": "stream",
          "name": "stdout",
          "text": [
            "Epoch 1/20\n",
            "54/54 [==============================] - 1s 2ms/step - loss: 1.0004 - categorical_accuracy: 0.5550\n",
            "Epoch 2/20\n",
            "54/54 [==============================] - 0s 2ms/step - loss: 0.9211 - categorical_accuracy: 0.6095\n",
            "Epoch 3/20\n",
            "54/54 [==============================] - 0s 3ms/step - loss: 0.8904 - categorical_accuracy: 0.6100\n",
            "Epoch 4/20\n",
            "54/54 [==============================] - 0s 2ms/step - loss: 0.8743 - categorical_accuracy: 0.6100\n",
            "Epoch 5/20\n",
            "54/54 [==============================] - 0s 3ms/step - loss: 0.8676 - categorical_accuracy: 0.6101\n",
            "Epoch 6/20\n",
            "54/54 [==============================] - 0s 3ms/step - loss: 0.8609 - categorical_accuracy: 0.6101\n",
            "Epoch 7/20\n",
            "54/54 [==============================] - 0s 3ms/step - loss: 0.8561 - categorical_accuracy: 0.6101\n",
            "Epoch 8/20\n",
            "54/54 [==============================] - 0s 3ms/step - loss: 0.8514 - categorical_accuracy: 0.6103\n",
            "Epoch 9/20\n",
            "54/54 [==============================] - 0s 3ms/step - loss: 0.8472 - categorical_accuracy: 0.6101\n",
            "Epoch 10/20\n",
            "54/54 [==============================] - 0s 3ms/step - loss: 0.8436 - categorical_accuracy: 0.6083\n",
            "Epoch 11/20\n",
            "54/54 [==============================] - 0s 2ms/step - loss: 0.8410 - categorical_accuracy: 0.6071\n",
            "Epoch 12/20\n",
            "54/54 [==============================] - 0s 3ms/step - loss: 0.8396 - categorical_accuracy: 0.6074\n",
            "Epoch 13/20\n",
            "54/54 [==============================] - 0s 2ms/step - loss: 0.8389 - categorical_accuracy: 0.6076\n",
            "Epoch 14/20\n",
            "54/54 [==============================] - 0s 2ms/step - loss: 0.8382 - categorical_accuracy: 0.6091\n",
            "Epoch 15/20\n",
            "54/54 [==============================] - 0s 2ms/step - loss: 0.8376 - categorical_accuracy: 0.6088\n",
            "Epoch 16/20\n",
            "54/54 [==============================] - 0s 2ms/step - loss: 0.8371 - categorical_accuracy: 0.6099\n",
            "Epoch 17/20\n",
            "54/54 [==============================] - 0s 3ms/step - loss: 0.8367 - categorical_accuracy: 0.6089\n",
            "Epoch 18/20\n",
            "54/54 [==============================] - 0s 2ms/step - loss: 0.8369 - categorical_accuracy: 0.6095\n",
            "Epoch 19/20\n",
            "54/54 [==============================] - 0s 2ms/step - loss: 0.8367 - categorical_accuracy: 0.6096\n",
            "Epoch 20/20\n",
            "54/54 [==============================] - 0s 3ms/step - loss: 0.8360 - categorical_accuracy: 0.6095\n"
          ]
        },
        {
          "output_type": "execute_result",
          "data": {
            "text/plain": [
              "<keras.callbacks.History at 0x7f4d45fc8220>"
            ]
          },
          "metadata": {},
          "execution_count": 32
        }
      ],
      "source": [
        "# Fit the model\n",
        "model.fit(X_train, y_train, epochs=20, batch_size=1000, shuffle=True)"
      ]
    },
    {
      "cell_type": "code",
      "execution_count": 33,
      "id": "86f5dfc0",
      "metadata": {
        "colab": {
          "base_uri": "https://localhost:8080/"
        },
        "id": "86f5dfc0",
        "outputId": "81cf3ee6-51d4-4fda-8994-5329a4189699"
      },
      "outputs": [
        {
          "output_type": "stream",
          "name": "stdout",
          "text": [
            "563/563 [==============================] - 1s 2ms/step - loss: 0.8401 - categorical_accuracy: 0.6147\n"
          ]
        },
        {
          "output_type": "execute_result",
          "data": {
            "text/plain": [
              "[0.8400772213935852, 0.6147176623344421]"
            ]
          },
          "metadata": {},
          "execution_count": 33
        }
      ],
      "source": [
        "# Evaluate model on the test data\n",
        "model.evaluate(X_test, y_test)"
      ]
    },
    {
      "cell_type": "code",
      "execution_count": 34,
      "id": "c9b5e361",
      "metadata": {
        "scrolled": true,
        "colab": {
          "base_uri": "https://localhost:8080/"
        },
        "id": "c9b5e361",
        "outputId": "21f3eda9-947f-4e31-fbfb-f788824aa08c"
      },
      "outputs": [
        {
          "output_type": "stream",
          "name": "stdout",
          "text": [
            "563/563 [==============================] - 1s 1ms/step\n"
          ]
        },
        {
          "output_type": "execute_result",
          "data": {
            "text/plain": [
              "array([[0.59103215, 0.32935098, 0.07961687],\n",
              "       [0.7857178 , 0.16296795, 0.05131424],\n",
              "       [0.5893136 , 0.36262536, 0.04806098],\n",
              "       ...,\n",
              "       [0.6673323 , 0.2700907 , 0.06257684],\n",
              "       [0.559611  , 0.33957112, 0.1008179 ],\n",
              "       [0.50574636, 0.417509  , 0.07674465]], dtype=float32)"
            ]
          },
          "metadata": {},
          "execution_count": 34
        }
      ],
      "source": [
        "# Save predictions on the test data\n",
        "predictions = model.predict(X_test)\n",
        "predictions"
      ]
    },
    {
      "cell_type": "code",
      "execution_count": 35,
      "id": "abf270f9",
      "metadata": {
        "colab": {
          "base_uri": "https://localhost:8080/"
        },
        "id": "abf270f9",
        "outputId": "d1544eee-b717-410e-bdbd-3d1bdfee27ea"
      },
      "outputs": [
        {
          "output_type": "execute_result",
          "data": {
            "text/plain": [
              "array([0, 0, 0, ..., 0, 0, 0])"
            ]
          },
          "metadata": {},
          "execution_count": 35
        }
      ],
      "source": [
        "# Get the most likely prediction for each observation\n",
        "most_likely = np.argmax(predictions, axis=1)\n",
        "most_likely"
      ]
    },
    {
      "cell_type": "code",
      "execution_count": 36,
      "id": "fd386959",
      "metadata": {
        "colab": {
          "base_uri": "https://localhost:8080/"
        },
        "id": "fd386959",
        "outputId": "fb71ab8a-be53-4f40-b667-c8b071733970"
      },
      "outputs": [
        {
          "output_type": "execute_result",
          "data": {
            "text/plain": [
              "array(['beat', 'beat', 'beat', ..., 'beat', 'beat', 'beat'], dtype=object)"
            ]
          },
          "metadata": {},
          "execution_count": 36
        }
      ],
      "source": [
        "# Convert most likely category back to original labels\n",
        "most_likely = encoder.inverse_transform((most_likely))\n",
        "most_likely"
      ]
    },
    {
      "cell_type": "code",
      "execution_count": 37,
      "id": "e2589f7f",
      "metadata": {
        "colab": {
          "base_uri": "https://localhost:8080/"
        },
        "id": "e2589f7f",
        "outputId": "9760652f-cea1-4e61-b22e-8c25c82a923b"
      },
      "outputs": [
        {
          "output_type": "execute_result",
          "data": {
            "text/plain": [
              "beat    17980\n",
              "lose       12\n",
              "dtype: int64"
            ]
          },
          "metadata": {},
          "execution_count": 37
        }
      ],
      "source": [
        "# Evaluate prediction balance\n",
        "pd.DataFrame(most_likely).value_counts()"
      ]
    },
    {
      "cell_type": "code",
      "source": [],
      "metadata": {
        "id": "HDHhFIEf0GxG"
      },
      "id": "HDHhFIEf0GxG",
      "execution_count": null,
      "outputs": []
    }
  ],
  "metadata": {
    "kernelspec": {
      "display_name": "Python 3 (ipykernel)",
      "language": "python",
      "name": "python3"
    },
    "language_info": {
      "codemirror_mode": {
        "name": "ipython",
        "version": 3
      },
      "file_extension": ".py",
      "mimetype": "text/x-python",
      "name": "python",
      "nbconvert_exporter": "python",
      "pygments_lexer": "ipython3",
      "version": "3.8.11"
    },
    "colab": {
      "provenance": [],
      "include_colab_link": true
    }
  },
  "nbformat": 4,
  "nbformat_minor": 5
}