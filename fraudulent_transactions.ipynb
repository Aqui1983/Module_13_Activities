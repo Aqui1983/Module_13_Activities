{
  "cells": [
    {
      "cell_type": "markdown",
      "metadata": {
        "id": "view-in-github",
        "colab_type": "text"
      },
      "source": [
        "<a href=\"https://colab.research.google.com/github/Aqui1983/Module_13_Activities/blob/main/fraudulent_transactions.ipynb\" target=\"_parent\"><img src=\"https://colab.research.google.com/assets/colab-badge.svg\" alt=\"Open In Colab\"/></a>"
      ]
    },
    {
      "cell_type": "markdown",
      "metadata": {
        "id": "ydSc3yVJTl06"
      },
      "source": [
        "# Predicting Fraudulent Transactions Using Neural Networks\n",
        "\n",
        "Now that you’ve learned how to build a deep neural network, you’ll apply those skills to create a deep learning model that can predict financial fraud. But in this activity, rather than a regression deep learning model, you will create a classification deep learning model.\n",
        "\n",
        "## Instructions:\n",
        "\n",
        "### Load and Preprocess the Data\n",
        "\n",
        "1. Read the data from the CSV file into a Pandas DataFrame.\n",
        "\n",
        "2. Create the target set `y` by assigning the values of the “isFraud” column of the DataFrame.\n",
        "\n",
        "3. Define the features set `X` by including all of the columns of the DataFrame except for the “isFraud” column.\n",
        "\n",
        "4. Create the training and testing sets using the `train_test_split` function from scikit-learn.\n",
        "\n",
        "5. Scale the features data using the `StandardScaler` from scikit-learn.\n",
        "\n",
        "### Create and Evaluate a Deep Neural Network Model\n",
        "\n",
        "1. Create a deep neural network model with the following structure:\n",
        "\n",
        "    * 9 inputs\n",
        "    * First hidden layer with 18 neurons\n",
        "    * Second hidden layer with 8 neurons\n",
        "    * Output layer with a single output\n",
        "    * Hidden layers use the ReLU activation function, and output layer uses the sigmoid activation function\n",
        "\n",
        "2. Display the model structure using the 'summary` function.\n",
        "\n",
        "3. Compile the neural network model using the `binary_crossentropy` loss function, the `adam` optimizer, and `accuracy` as an additional metric.\n",
        "\n",
        "4. Fit the model with the training data, using 100 epochs.\n",
        "\n",
        "5. Evaluate the model using testing data and the `evaluate` method.\n",
        "\n",
        "\n",
        "## References:\n",
        "\n",
        "[Keras Sequential model](https://keras.io/api/models/sequential/)\n",
        "\n",
        "[Keras Dense module](https://keras.io/api/layers/core_layers/dense/)\n",
        "\n",
        "[Keras evaluate](https://keras.io/api/models/model_training_apis/)"
      ]
    },
    {
      "cell_type": "code",
      "execution_count": 2,
      "metadata": {
        "id": "02N8YsDWTl0_"
      },
      "outputs": [],
      "source": [
        "# Imports\n",
        "import pandas as pd\n",
        "from pathlib import Path\n",
        "import tensorflow as tf\n",
        "from tensorflow.keras.layers import Dense\n",
        "from tensorflow.keras.models import Sequential\n",
        "from sklearn.preprocessing import StandardScaler\n",
        "from sklearn.model_selection import train_test_split"
      ]
    },
    {
      "cell_type": "markdown",
      "metadata": {
        "id": "ZUbyeBzuTl1B"
      },
      "source": [
        "## Load and Preprocess the Data"
      ]
    },
    {
      "cell_type": "markdown",
      "metadata": {
        "id": "Qp3ini0UTl1B"
      },
      "source": [
        "### Step 1: Read the data from the CSV file into a Pandas DataFrame."
      ]
    },
    {
      "cell_type": "code",
      "execution_count": 3,
      "metadata": {
        "colab": {
          "base_uri": "https://localhost:8080/",
          "height": 204
        },
        "id": "udYlLmdSTl1C",
        "outputId": "282d4d03-a122-4feb-90bd-87a0858bc5d0"
      },
      "outputs": [
        {
          "output_type": "execute_result",
          "data": {
            "text/plain": [
              "   dateMonth  dateWeekday  dateQuarter  operationType     amount  \\\n",
              "0          1            1            1              4     736.76   \n",
              "1          1            1            1              2  256226.20   \n",
              "2          1            1            1              5  310027.49   \n",
              "3          1            1            1              1   76695.35   \n",
              "4          1            1            1              4    4761.57   \n",
              "\n",
              "   oldbalanceOrig  newbalanceOrig  oldbalanceDest  newbalanceDest  isFraud  \n",
              "0         1120.00          383.24            0.00            0.00        0  \n",
              "1            0.00            0.00       518041.64      1305828.01        0  \n",
              "2        61594.00            0.00        10089.00      1157398.83        0  \n",
              "3      9064440.33      9141135.68       880045.33       206147.08        0  \n",
              "4            0.00            0.00            0.00            0.00        0  "
            ],
            "text/html": [
              "\n",
              "  <div id=\"df-109a55d0-dfd6-4f30-a054-8b54ee75ff5d\">\n",
              "    <div class=\"colab-df-container\">\n",
              "      <div>\n",
              "<style scoped>\n",
              "    .dataframe tbody tr th:only-of-type {\n",
              "        vertical-align: middle;\n",
              "    }\n",
              "\n",
              "    .dataframe tbody tr th {\n",
              "        vertical-align: top;\n",
              "    }\n",
              "\n",
              "    .dataframe thead th {\n",
              "        text-align: right;\n",
              "    }\n",
              "</style>\n",
              "<table border=\"1\" class=\"dataframe\">\n",
              "  <thead>\n",
              "    <tr style=\"text-align: right;\">\n",
              "      <th></th>\n",
              "      <th>dateMonth</th>\n",
              "      <th>dateWeekday</th>\n",
              "      <th>dateQuarter</th>\n",
              "      <th>operationType</th>\n",
              "      <th>amount</th>\n",
              "      <th>oldbalanceOrig</th>\n",
              "      <th>newbalanceOrig</th>\n",
              "      <th>oldbalanceDest</th>\n",
              "      <th>newbalanceDest</th>\n",
              "      <th>isFraud</th>\n",
              "    </tr>\n",
              "  </thead>\n",
              "  <tbody>\n",
              "    <tr>\n",
              "      <th>0</th>\n",
              "      <td>1</td>\n",
              "      <td>1</td>\n",
              "      <td>1</td>\n",
              "      <td>4</td>\n",
              "      <td>736.76</td>\n",
              "      <td>1120.00</td>\n",
              "      <td>383.24</td>\n",
              "      <td>0.00</td>\n",
              "      <td>0.00</td>\n",
              "      <td>0</td>\n",
              "    </tr>\n",
              "    <tr>\n",
              "      <th>1</th>\n",
              "      <td>1</td>\n",
              "      <td>1</td>\n",
              "      <td>1</td>\n",
              "      <td>2</td>\n",
              "      <td>256226.20</td>\n",
              "      <td>0.00</td>\n",
              "      <td>0.00</td>\n",
              "      <td>518041.64</td>\n",
              "      <td>1305828.01</td>\n",
              "      <td>0</td>\n",
              "    </tr>\n",
              "    <tr>\n",
              "      <th>2</th>\n",
              "      <td>1</td>\n",
              "      <td>1</td>\n",
              "      <td>1</td>\n",
              "      <td>5</td>\n",
              "      <td>310027.49</td>\n",
              "      <td>61594.00</td>\n",
              "      <td>0.00</td>\n",
              "      <td>10089.00</td>\n",
              "      <td>1157398.83</td>\n",
              "      <td>0</td>\n",
              "    </tr>\n",
              "    <tr>\n",
              "      <th>3</th>\n",
              "      <td>1</td>\n",
              "      <td>1</td>\n",
              "      <td>1</td>\n",
              "      <td>1</td>\n",
              "      <td>76695.35</td>\n",
              "      <td>9064440.33</td>\n",
              "      <td>9141135.68</td>\n",
              "      <td>880045.33</td>\n",
              "      <td>206147.08</td>\n",
              "      <td>0</td>\n",
              "    </tr>\n",
              "    <tr>\n",
              "      <th>4</th>\n",
              "      <td>1</td>\n",
              "      <td>1</td>\n",
              "      <td>1</td>\n",
              "      <td>4</td>\n",
              "      <td>4761.57</td>\n",
              "      <td>0.00</td>\n",
              "      <td>0.00</td>\n",
              "      <td>0.00</td>\n",
              "      <td>0.00</td>\n",
              "      <td>0</td>\n",
              "    </tr>\n",
              "  </tbody>\n",
              "</table>\n",
              "</div>\n",
              "      <button class=\"colab-df-convert\" onclick=\"convertToInteractive('df-109a55d0-dfd6-4f30-a054-8b54ee75ff5d')\"\n",
              "              title=\"Convert this dataframe to an interactive table.\"\n",
              "              style=\"display:none;\">\n",
              "        \n",
              "  <svg xmlns=\"http://www.w3.org/2000/svg\" height=\"24px\"viewBox=\"0 0 24 24\"\n",
              "       width=\"24px\">\n",
              "    <path d=\"M0 0h24v24H0V0z\" fill=\"none\"/>\n",
              "    <path d=\"M18.56 5.44l.94 2.06.94-2.06 2.06-.94-2.06-.94-.94-2.06-.94 2.06-2.06.94zm-11 1L8.5 8.5l.94-2.06 2.06-.94-2.06-.94L8.5 2.5l-.94 2.06-2.06.94zm10 10l.94 2.06.94-2.06 2.06-.94-2.06-.94-.94-2.06-.94 2.06-2.06.94z\"/><path d=\"M17.41 7.96l-1.37-1.37c-.4-.4-.92-.59-1.43-.59-.52 0-1.04.2-1.43.59L10.3 9.45l-7.72 7.72c-.78.78-.78 2.05 0 2.83L4 21.41c.39.39.9.59 1.41.59.51 0 1.02-.2 1.41-.59l7.78-7.78 2.81-2.81c.8-.78.8-2.07 0-2.86zM5.41 20L4 18.59l7.72-7.72 1.47 1.35L5.41 20z\"/>\n",
              "  </svg>\n",
              "      </button>\n",
              "      \n",
              "  <style>\n",
              "    .colab-df-container {\n",
              "      display:flex;\n",
              "      flex-wrap:wrap;\n",
              "      gap: 12px;\n",
              "    }\n",
              "\n",
              "    .colab-df-convert {\n",
              "      background-color: #E8F0FE;\n",
              "      border: none;\n",
              "      border-radius: 50%;\n",
              "      cursor: pointer;\n",
              "      display: none;\n",
              "      fill: #1967D2;\n",
              "      height: 32px;\n",
              "      padding: 0 0 0 0;\n",
              "      width: 32px;\n",
              "    }\n",
              "\n",
              "    .colab-df-convert:hover {\n",
              "      background-color: #E2EBFA;\n",
              "      box-shadow: 0px 1px 2px rgba(60, 64, 67, 0.3), 0px 1px 3px 1px rgba(60, 64, 67, 0.15);\n",
              "      fill: #174EA6;\n",
              "    }\n",
              "\n",
              "    [theme=dark] .colab-df-convert {\n",
              "      background-color: #3B4455;\n",
              "      fill: #D2E3FC;\n",
              "    }\n",
              "\n",
              "    [theme=dark] .colab-df-convert:hover {\n",
              "      background-color: #434B5C;\n",
              "      box-shadow: 0px 1px 3px 1px rgba(0, 0, 0, 0.15);\n",
              "      filter: drop-shadow(0px 1px 2px rgba(0, 0, 0, 0.3));\n",
              "      fill: #FFFFFF;\n",
              "    }\n",
              "  </style>\n",
              "\n",
              "      <script>\n",
              "        const buttonEl =\n",
              "          document.querySelector('#df-109a55d0-dfd6-4f30-a054-8b54ee75ff5d button.colab-df-convert');\n",
              "        buttonEl.style.display =\n",
              "          google.colab.kernel.accessAllowed ? 'block' : 'none';\n",
              "\n",
              "        async function convertToInteractive(key) {\n",
              "          const element = document.querySelector('#df-109a55d0-dfd6-4f30-a054-8b54ee75ff5d');\n",
              "          const dataTable =\n",
              "            await google.colab.kernel.invokeFunction('convertToInteractive',\n",
              "                                                     [key], {});\n",
              "          if (!dataTable) return;\n",
              "\n",
              "          const docLinkHtml = 'Like what you see? Visit the ' +\n",
              "            '<a target=\"_blank\" href=https://colab.research.google.com/notebooks/data_table.ipynb>data table notebook</a>'\n",
              "            + ' to learn more about interactive tables.';\n",
              "          element.innerHTML = '';\n",
              "          dataTable['output_type'] = 'display_data';\n",
              "          await google.colab.output.renderOutput(dataTable, element);\n",
              "          const docLink = document.createElement('div');\n",
              "          docLink.innerHTML = docLinkHtml;\n",
              "          element.appendChild(docLink);\n",
              "        }\n",
              "      </script>\n",
              "    </div>\n",
              "  </div>\n",
              "  "
            ]
          },
          "metadata": {},
          "execution_count": 3
        }
      ],
      "source": [
        "# Read the credit_card_transactions.csv file from the Resources folder into a Pandas DataFrame\n",
        "cc_transactions_df = Path('/content/credit_card_transactions.csv')\n",
        "cc_transactions_df = pd.read_csv(cc_transactions_df)\n",
        "\n",
        "# Review the DataFrame\n",
        "cc_transactions_df.head()"
      ]
    },
    {
      "cell_type": "markdown",
      "metadata": {
        "id": "vycriRNqTl1D"
      },
      "source": [
        "### Step 2: Create the target set `y` by assigning the values of the “isFraud” column of the DataFrame."
      ]
    },
    {
      "cell_type": "code",
      "execution_count": 4,
      "metadata": {
        "colab": {
          "base_uri": "https://localhost:8080/"
        },
        "id": "409gMWEhTl1D",
        "outputId": "adba06b4-0ec1-4822-f244-58f575c07e17"
      },
      "outputs": [
        {
          "output_type": "execute_result",
          "data": {
            "text/plain": [
              "array([0, 0, 0, ..., 0, 0, 0])"
            ]
          },
          "metadata": {},
          "execution_count": 4
        }
      ],
      "source": [
        "# Define the target set by selecting the isFraud column\n",
        "y = cc_transactions_df['isFraud'].values\n",
        "\n",
        "# Display a sample of y\n",
        "y"
      ]
    },
    {
      "cell_type": "markdown",
      "metadata": {
        "id": "Un_Y9SYDTl1E"
      },
      "source": [
        "### Step 3: Define the features set `X` by including all of the columns of the DataFrame except for the “isFraud” column."
      ]
    },
    {
      "cell_type": "code",
      "execution_count": 5,
      "metadata": {
        "colab": {
          "base_uri": "https://localhost:8080/",
          "height": 204
        },
        "id": "h57UIaspTl1E",
        "outputId": "c29feab7-bc05-4613-c19e-e7be564fb130"
      },
      "outputs": [
        {
          "output_type": "execute_result",
          "data": {
            "text/plain": [
              "   dateMonth  dateWeekday  dateQuarter  operationType     amount  \\\n",
              "0          1            1            1              4     736.76   \n",
              "1          1            1            1              2  256226.20   \n",
              "2          1            1            1              5  310027.49   \n",
              "3          1            1            1              1   76695.35   \n",
              "4          1            1            1              4    4761.57   \n",
              "\n",
              "   oldbalanceOrig  newbalanceOrig  oldbalanceDest  newbalanceDest  \n",
              "0         1120.00          383.24            0.00            0.00  \n",
              "1            0.00            0.00       518041.64      1305828.01  \n",
              "2        61594.00            0.00        10089.00      1157398.83  \n",
              "3      9064440.33      9141135.68       880045.33       206147.08  \n",
              "4            0.00            0.00            0.00            0.00  "
            ],
            "text/html": [
              "\n",
              "  <div id=\"df-8117be44-f3ba-4b7a-89b9-cf5b3735e683\">\n",
              "    <div class=\"colab-df-container\">\n",
              "      <div>\n",
              "<style scoped>\n",
              "    .dataframe tbody tr th:only-of-type {\n",
              "        vertical-align: middle;\n",
              "    }\n",
              "\n",
              "    .dataframe tbody tr th {\n",
              "        vertical-align: top;\n",
              "    }\n",
              "\n",
              "    .dataframe thead th {\n",
              "        text-align: right;\n",
              "    }\n",
              "</style>\n",
              "<table border=\"1\" class=\"dataframe\">\n",
              "  <thead>\n",
              "    <tr style=\"text-align: right;\">\n",
              "      <th></th>\n",
              "      <th>dateMonth</th>\n",
              "      <th>dateWeekday</th>\n",
              "      <th>dateQuarter</th>\n",
              "      <th>operationType</th>\n",
              "      <th>amount</th>\n",
              "      <th>oldbalanceOrig</th>\n",
              "      <th>newbalanceOrig</th>\n",
              "      <th>oldbalanceDest</th>\n",
              "      <th>newbalanceDest</th>\n",
              "    </tr>\n",
              "  </thead>\n",
              "  <tbody>\n",
              "    <tr>\n",
              "      <th>0</th>\n",
              "      <td>1</td>\n",
              "      <td>1</td>\n",
              "      <td>1</td>\n",
              "      <td>4</td>\n",
              "      <td>736.76</td>\n",
              "      <td>1120.00</td>\n",
              "      <td>383.24</td>\n",
              "      <td>0.00</td>\n",
              "      <td>0.00</td>\n",
              "    </tr>\n",
              "    <tr>\n",
              "      <th>1</th>\n",
              "      <td>1</td>\n",
              "      <td>1</td>\n",
              "      <td>1</td>\n",
              "      <td>2</td>\n",
              "      <td>256226.20</td>\n",
              "      <td>0.00</td>\n",
              "      <td>0.00</td>\n",
              "      <td>518041.64</td>\n",
              "      <td>1305828.01</td>\n",
              "    </tr>\n",
              "    <tr>\n",
              "      <th>2</th>\n",
              "      <td>1</td>\n",
              "      <td>1</td>\n",
              "      <td>1</td>\n",
              "      <td>5</td>\n",
              "      <td>310027.49</td>\n",
              "      <td>61594.00</td>\n",
              "      <td>0.00</td>\n",
              "      <td>10089.00</td>\n",
              "      <td>1157398.83</td>\n",
              "    </tr>\n",
              "    <tr>\n",
              "      <th>3</th>\n",
              "      <td>1</td>\n",
              "      <td>1</td>\n",
              "      <td>1</td>\n",
              "      <td>1</td>\n",
              "      <td>76695.35</td>\n",
              "      <td>9064440.33</td>\n",
              "      <td>9141135.68</td>\n",
              "      <td>880045.33</td>\n",
              "      <td>206147.08</td>\n",
              "    </tr>\n",
              "    <tr>\n",
              "      <th>4</th>\n",
              "      <td>1</td>\n",
              "      <td>1</td>\n",
              "      <td>1</td>\n",
              "      <td>4</td>\n",
              "      <td>4761.57</td>\n",
              "      <td>0.00</td>\n",
              "      <td>0.00</td>\n",
              "      <td>0.00</td>\n",
              "      <td>0.00</td>\n",
              "    </tr>\n",
              "  </tbody>\n",
              "</table>\n",
              "</div>\n",
              "      <button class=\"colab-df-convert\" onclick=\"convertToInteractive('df-8117be44-f3ba-4b7a-89b9-cf5b3735e683')\"\n",
              "              title=\"Convert this dataframe to an interactive table.\"\n",
              "              style=\"display:none;\">\n",
              "        \n",
              "  <svg xmlns=\"http://www.w3.org/2000/svg\" height=\"24px\"viewBox=\"0 0 24 24\"\n",
              "       width=\"24px\">\n",
              "    <path d=\"M0 0h24v24H0V0z\" fill=\"none\"/>\n",
              "    <path d=\"M18.56 5.44l.94 2.06.94-2.06 2.06-.94-2.06-.94-.94-2.06-.94 2.06-2.06.94zm-11 1L8.5 8.5l.94-2.06 2.06-.94-2.06-.94L8.5 2.5l-.94 2.06-2.06.94zm10 10l.94 2.06.94-2.06 2.06-.94-2.06-.94-.94-2.06-.94 2.06-2.06.94z\"/><path d=\"M17.41 7.96l-1.37-1.37c-.4-.4-.92-.59-1.43-.59-.52 0-1.04.2-1.43.59L10.3 9.45l-7.72 7.72c-.78.78-.78 2.05 0 2.83L4 21.41c.39.39.9.59 1.41.59.51 0 1.02-.2 1.41-.59l7.78-7.78 2.81-2.81c.8-.78.8-2.07 0-2.86zM5.41 20L4 18.59l7.72-7.72 1.47 1.35L5.41 20z\"/>\n",
              "  </svg>\n",
              "      </button>\n",
              "      \n",
              "  <style>\n",
              "    .colab-df-container {\n",
              "      display:flex;\n",
              "      flex-wrap:wrap;\n",
              "      gap: 12px;\n",
              "    }\n",
              "\n",
              "    .colab-df-convert {\n",
              "      background-color: #E8F0FE;\n",
              "      border: none;\n",
              "      border-radius: 50%;\n",
              "      cursor: pointer;\n",
              "      display: none;\n",
              "      fill: #1967D2;\n",
              "      height: 32px;\n",
              "      padding: 0 0 0 0;\n",
              "      width: 32px;\n",
              "    }\n",
              "\n",
              "    .colab-df-convert:hover {\n",
              "      background-color: #E2EBFA;\n",
              "      box-shadow: 0px 1px 2px rgba(60, 64, 67, 0.3), 0px 1px 3px 1px rgba(60, 64, 67, 0.15);\n",
              "      fill: #174EA6;\n",
              "    }\n",
              "\n",
              "    [theme=dark] .colab-df-convert {\n",
              "      background-color: #3B4455;\n",
              "      fill: #D2E3FC;\n",
              "    }\n",
              "\n",
              "    [theme=dark] .colab-df-convert:hover {\n",
              "      background-color: #434B5C;\n",
              "      box-shadow: 0px 1px 3px 1px rgba(0, 0, 0, 0.15);\n",
              "      filter: drop-shadow(0px 1px 2px rgba(0, 0, 0, 0.3));\n",
              "      fill: #FFFFFF;\n",
              "    }\n",
              "  </style>\n",
              "\n",
              "      <script>\n",
              "        const buttonEl =\n",
              "          document.querySelector('#df-8117be44-f3ba-4b7a-89b9-cf5b3735e683 button.colab-df-convert');\n",
              "        buttonEl.style.display =\n",
              "          google.colab.kernel.accessAllowed ? 'block' : 'none';\n",
              "\n",
              "        async function convertToInteractive(key) {\n",
              "          const element = document.querySelector('#df-8117be44-f3ba-4b7a-89b9-cf5b3735e683');\n",
              "          const dataTable =\n",
              "            await google.colab.kernel.invokeFunction('convertToInteractive',\n",
              "                                                     [key], {});\n",
              "          if (!dataTable) return;\n",
              "\n",
              "          const docLinkHtml = 'Like what you see? Visit the ' +\n",
              "            '<a target=\"_blank\" href=https://colab.research.google.com/notebooks/data_table.ipynb>data table notebook</a>'\n",
              "            + ' to learn more about interactive tables.';\n",
              "          element.innerHTML = '';\n",
              "          dataTable['output_type'] = 'display_data';\n",
              "          await google.colab.output.renderOutput(dataTable, element);\n",
              "          const docLink = document.createElement('div');\n",
              "          docLink.innerHTML = docLinkHtml;\n",
              "          element.appendChild(docLink);\n",
              "        }\n",
              "      </script>\n",
              "    </div>\n",
              "  </div>\n",
              "  "
            ]
          },
          "metadata": {},
          "execution_count": 5
        }
      ],
      "source": [
        "# Define features set X by selecting all columns but the isFraud\n",
        "X = cc_transactions_df.drop(columns=['isFraud']).copy()\n",
        "\n",
        "# Display the features DataFrame\n",
        "X.head()"
      ]
    },
    {
      "cell_type": "markdown",
      "metadata": {
        "id": "hdpTfd7aTl1F"
      },
      "source": [
        "### Step 4: Create the training and testing sets using the `train_test_split` function from scikit-learn."
      ]
    },
    {
      "cell_type": "code",
      "execution_count": 6,
      "metadata": {
        "id": "9PiYo4V0Tl1G"
      },
      "outputs": [],
      "source": [
        "# Create training and testing datasets using train_teat_split\n",
        "# Assign the function a random_state equal to 1\n",
        "X_train, X_test, y_train, y_test = train_test_split(X,y, random_state=1)\n"
      ]
    },
    {
      "cell_type": "markdown",
      "metadata": {
        "id": "S2VhrLZ7Tl1G"
      },
      "source": [
        "### Step 5:  Scale the features data using the `StandardScaler` from scikit-learn."
      ]
    },
    {
      "cell_type": "code",
      "execution_count": 7,
      "metadata": {
        "id": "edP5mC__Tl1G"
      },
      "outputs": [],
      "source": [
        "# Create the StandardScaler instance\n",
        "X_scaler = StandardScaler()\n"
      ]
    },
    {
      "cell_type": "code",
      "execution_count": 8,
      "metadata": {
        "colab": {
          "base_uri": "https://localhost:8080/"
        },
        "id": "_o1ewxtMTl1H",
        "outputId": "00aba967-1fc6-470f-a9c3-b9f9f7c825b3"
      },
      "outputs": [
        {
          "output_type": "execute_result",
          "data": {
            "text/plain": [
              "StandardScaler()"
            ]
          },
          "metadata": {},
          "execution_count": 8
        }
      ],
      "source": [
        "# Fit the scaler to the features training dataset\n",
        "X_scaler.fit(X_train)"
      ]
    },
    {
      "cell_type": "code",
      "execution_count": 9,
      "metadata": {
        "id": "a6Op7Kx3Tl1H"
      },
      "outputs": [],
      "source": [
        "# Scale both the training and testing data from the features dataset\n",
        "X_train_scaled = X_scaler.transform(X_train)\n",
        "X_test_scaled = X_scaler.transform(X_test)\n"
      ]
    },
    {
      "cell_type": "markdown",
      "metadata": {
        "id": "z90ufAouTl1I"
      },
      "source": [
        "---\n",
        "\n",
        "## Create and Evaluate a Deep Neural Network Model"
      ]
    },
    {
      "cell_type": "markdown",
      "metadata": {
        "id": "ph6jowjfTl1J"
      },
      "source": [
        "### Step 1: Create a deep neural network model with the following structure:\n",
        "\n",
        "    * 9 inputs\n",
        "    * First hidden layer with 18 neurons\n",
        "    * Second hidden layer with 8 neurons\n",
        "    * Output layer with a single output\n",
        "    * Hidden layers use the ReLU activation function, and output layer uses the sigmoid activation function\n"
      ]
    },
    {
      "cell_type": "code",
      "execution_count": 10,
      "metadata": {
        "id": "UUdxg2C2Tl1J"
      },
      "outputs": [],
      "source": [
        "# Define the the number of inputs to the model\n",
        "number_inputs = 9\n",
        "\n",
        "# Define the number of hidden nodes for the first hidden layer\n",
        "hidden_nodes_layer1 = 18\n",
        "\n",
        "# Define the number of hidden nodes for the second hidden layer\n",
        "hidden_nodes_layer2 = 8\n",
        "\n",
        "# Create the Sequential model instance\n",
        "nn = Sequential()\n",
        "\n",
        "# Add the first Dense layer specifying the number of inputs, the number of hidden nodes, and the activation function\n",
        "nn.add(Dense(units=hidden_nodes_layer1, activation='relu', input_dim=number_inputs))\n",
        "# Add the second Dense layer specifying the number of hidden nodes and the activation function\n",
        "nn.add(Dense(units=hidden_nodes_layer2, activation='relu', input_dim=number_inputs))\n",
        "\n",
        "# Add the output layer to the model specifying the number of output neurons and activation function\n",
        "nn.add(Dense(units=1, activation='sigmoid'))"
      ]
    },
    {
      "cell_type": "markdown",
      "metadata": {
        "id": "sbN6fPHDTl1K"
      },
      "source": [
        "### Step 2. Display the model structure using the `summary` function."
      ]
    },
    {
      "cell_type": "code",
      "execution_count": 11,
      "metadata": {
        "colab": {
          "base_uri": "https://localhost:8080/"
        },
        "id": "t84y-z9RTl1K",
        "outputId": "d4da992a-bf52-4a6a-f4ef-6d1f8027d27e"
      },
      "outputs": [
        {
          "output_type": "stream",
          "name": "stdout",
          "text": [
            "Model: \"sequential\"\n",
            "_________________________________________________________________\n",
            " Layer (type)                Output Shape              Param #   \n",
            "=================================================================\n",
            " dense (Dense)               (None, 18)                180       \n",
            "                                                                 \n",
            " dense_1 (Dense)             (None, 8)                 152       \n",
            "                                                                 \n",
            " dense_2 (Dense)             (None, 1)                 9         \n",
            "                                                                 \n",
            "=================================================================\n",
            "Total params: 341\n",
            "Trainable params: 341\n",
            "Non-trainable params: 0\n",
            "_________________________________________________________________\n"
          ]
        }
      ],
      "source": [
        "# Display the Sequential model summary\n",
        "nn.summary()"
      ]
    },
    {
      "cell_type": "markdown",
      "metadata": {
        "id": "GVSWN_sPTl1K"
      },
      "source": [
        "### Step 3: Compile the neural network model using the `binary_crossentropy` loss function, the `adam` optimizer, and `accuracy` as an additional metric."
      ]
    },
    {
      "cell_type": "code",
      "execution_count": 16,
      "metadata": {
        "id": "OofJ9M-ETl1L"
      },
      "outputs": [],
      "source": [
        "# Compile the Sequential model\n",
        "nn.compile(loss='binary_crossentropy', optimizer='adam', metrics=['accuracy'])"
      ]
    },
    {
      "cell_type": "markdown",
      "metadata": {
        "id": "cehDybM_Tl1N"
      },
      "source": [
        "### Step 4: Fit the model with the training data, using 100 epochs."
      ]
    },
    {
      "cell_type": "code",
      "execution_count": 18,
      "metadata": {
        "colab": {
          "base_uri": "https://localhost:8080/"
        },
        "id": "nsDsluQLTl1N",
        "outputId": "276f4ea7-1bc8-429c-c959-63d313ba9b70"
      },
      "outputs": [
        {
          "output_type": "stream",
          "name": "stdout",
          "text": [
            "Epoch 1/100\n",
            "1641/1641 [==============================] - 5s 3ms/step - loss: 0.0111 - accuracy: 0.9988 - val_loss: 35.7624 - val_accuracy: 0.9863\n",
            "Epoch 2/100\n",
            "1641/1641 [==============================] - 4s 3ms/step - loss: 0.0107 - accuracy: 0.9988 - val_loss: 35.3583 - val_accuracy: 0.9856\n",
            "Epoch 3/100\n",
            "1641/1641 [==============================] - 4s 2ms/step - loss: 0.0104 - accuracy: 0.9988 - val_loss: 39.1366 - val_accuracy: 0.9797\n",
            "Epoch 4/100\n",
            "1641/1641 [==============================] - 4s 3ms/step - loss: 0.0102 - accuracy: 0.9988 - val_loss: 38.6392 - val_accuracy: 0.9773\n",
            "Epoch 5/100\n",
            "1641/1641 [==============================] - 4s 3ms/step - loss: 0.0100 - accuracy: 0.9988 - val_loss: 36.9519 - val_accuracy: 0.9766\n",
            "Epoch 6/100\n",
            "1641/1641 [==============================] - 4s 3ms/step - loss: 0.0098 - accuracy: 0.9988 - val_loss: 38.1290 - val_accuracy: 0.9754\n",
            "Epoch 7/100\n",
            "1641/1641 [==============================] - 4s 3ms/step - loss: 0.0097 - accuracy: 0.9988 - val_loss: 38.8894 - val_accuracy: 0.9749\n",
            "Epoch 8/100\n",
            "1641/1641 [==============================] - 4s 3ms/step - loss: 0.0095 - accuracy: 0.9988 - val_loss: 40.7155 - val_accuracy: 0.9655\n",
            "Epoch 9/100\n",
            "1641/1641 [==============================] - 4s 3ms/step - loss: 0.0094 - accuracy: 0.9988 - val_loss: 40.7068 - val_accuracy: 0.9711\n",
            "Epoch 10/100\n",
            "1641/1641 [==============================] - 4s 3ms/step - loss: 0.0093 - accuracy: 0.9988 - val_loss: 42.2743 - val_accuracy: 0.9660\n",
            "Epoch 11/100\n",
            "1641/1641 [==============================] - 4s 3ms/step - loss: 0.0092 - accuracy: 0.9988 - val_loss: 34.7988 - val_accuracy: 0.9782\n",
            "Epoch 12/100\n",
            "1641/1641 [==============================] - 4s 3ms/step - loss: 0.0092 - accuracy: 0.9988 - val_loss: 45.7812 - val_accuracy: 0.9673\n",
            "Epoch 13/100\n",
            "1641/1641 [==============================] - 4s 2ms/step - loss: 0.0091 - accuracy: 0.9988 - val_loss: 53.7359 - val_accuracy: 0.9675\n",
            "Epoch 14/100\n",
            "1641/1641 [==============================] - 4s 3ms/step - loss: 0.0090 - accuracy: 0.9988 - val_loss: 62.1103 - val_accuracy: 0.9682\n",
            "Epoch 15/100\n",
            "1641/1641 [==============================] - 4s 3ms/step - loss: 0.0089 - accuracy: 0.9988 - val_loss: 81.8321 - val_accuracy: 0.9649\n",
            "Epoch 16/100\n",
            "1641/1641 [==============================] - 4s 3ms/step - loss: 0.0089 - accuracy: 0.9988 - val_loss: 163.0206 - val_accuracy: 0.9412\n",
            "Epoch 17/100\n",
            "1641/1641 [==============================] - 4s 3ms/step - loss: 0.0087 - accuracy: 0.9988 - val_loss: 230.4932 - val_accuracy: 0.9320\n",
            "Epoch 18/100\n",
            "1641/1641 [==============================] - 4s 3ms/step - loss: 0.0087 - accuracy: 0.9988 - val_loss: 216.2390 - val_accuracy: 0.9411\n",
            "Epoch 19/100\n",
            "1641/1641 [==============================] - 4s 3ms/step - loss: 0.0085 - accuracy: 0.9988 - val_loss: 210.6008 - val_accuracy: 0.9477\n",
            "Epoch 20/100\n",
            "1641/1641 [==============================] - 8s 5ms/step - loss: 0.0085 - accuracy: 0.9988 - val_loss: 482.6822 - val_accuracy: 0.8946\n",
            "Epoch 21/100\n",
            "1641/1641 [==============================] - 7s 4ms/step - loss: 0.0083 - accuracy: 0.9988 - val_loss: 416.1596 - val_accuracy: 0.9152\n",
            "Epoch 22/100\n",
            "1641/1641 [==============================] - 10s 6ms/step - loss: 0.0083 - accuracy: 0.9988 - val_loss: 855.6354 - val_accuracy: 0.7739\n",
            "Epoch 23/100\n",
            "1641/1641 [==============================] - 6s 4ms/step - loss: 0.0081 - accuracy: 0.9988 - val_loss: 787.9529 - val_accuracy: 0.8845\n",
            "Epoch 24/100\n",
            "1641/1641 [==============================] - 5s 3ms/step - loss: 0.0080 - accuracy: 0.9988 - val_loss: 914.3362 - val_accuracy: 0.8630\n",
            "Epoch 25/100\n",
            "1641/1641 [==============================] - 4s 3ms/step - loss: 0.0080 - accuracy: 0.9988 - val_loss: 863.3572 - val_accuracy: 0.8887\n",
            "Epoch 26/100\n",
            "1641/1641 [==============================] - 4s 3ms/step - loss: 0.0079 - accuracy: 0.9988 - val_loss: 1062.2565 - val_accuracy: 0.8809\n",
            "Epoch 27/100\n",
            "1641/1641 [==============================] - 4s 3ms/step - loss: 0.0079 - accuracy: 0.9988 - val_loss: 1371.0598 - val_accuracy: 0.8610\n",
            "Epoch 28/100\n",
            "1641/1641 [==============================] - 4s 3ms/step - loss: 0.0077 - accuracy: 0.9989 - val_loss: 1732.2183 - val_accuracy: 0.8035\n",
            "Epoch 29/100\n",
            "1641/1641 [==============================] - 4s 3ms/step - loss: 0.0077 - accuracy: 0.9989 - val_loss: 1609.1967 - val_accuracy: 0.8577\n",
            "Epoch 30/100\n",
            "1641/1641 [==============================] - 4s 3ms/step - loss: 0.0077 - accuracy: 0.9989 - val_loss: 1893.0088 - val_accuracy: 0.8544\n",
            "Epoch 31/100\n",
            "1641/1641 [==============================] - 4s 3ms/step - loss: 0.0076 - accuracy: 0.9989 - val_loss: 2052.0769 - val_accuracy: 0.8484\n",
            "Epoch 32/100\n",
            "1641/1641 [==============================] - 5s 3ms/step - loss: 0.0076 - accuracy: 0.9989 - val_loss: 2239.4790 - val_accuracy: 0.8603\n",
            "Epoch 33/100\n",
            "1641/1641 [==============================] - 4s 3ms/step - loss: 0.0074 - accuracy: 0.9989 - val_loss: 2260.2014 - val_accuracy: 0.8671\n",
            "Epoch 34/100\n",
            "1641/1641 [==============================] - 4s 3ms/step - loss: 0.0074 - accuracy: 0.9989 - val_loss: 2889.2688 - val_accuracy: 0.8585\n",
            "Epoch 35/100\n",
            "1641/1641 [==============================] - 4s 2ms/step - loss: 0.0073 - accuracy: 0.9989 - val_loss: 2822.3877 - val_accuracy: 0.8724\n",
            "Epoch 36/100\n",
            "1641/1641 [==============================] - 5s 3ms/step - loss: 0.0073 - accuracy: 0.9989 - val_loss: 3747.7251 - val_accuracy: 0.8486\n",
            "Epoch 37/100\n",
            "1641/1641 [==============================] - 5s 3ms/step - loss: 0.0073 - accuracy: 0.9989 - val_loss: 4200.0854 - val_accuracy: 0.8337\n",
            "Epoch 38/100\n",
            "1641/1641 [==============================] - 4s 3ms/step - loss: 0.0071 - accuracy: 0.9989 - val_loss: 4777.9043 - val_accuracy: 0.7319\n",
            "Epoch 39/100\n",
            "1641/1641 [==============================] - 5s 3ms/step - loss: 0.0071 - accuracy: 0.9989 - val_loss: 5014.0083 - val_accuracy: 0.7335\n",
            "Epoch 40/100\n",
            "1641/1641 [==============================] - 7s 4ms/step - loss: 0.0071 - accuracy: 0.9989 - val_loss: 5433.2256 - val_accuracy: 0.7318\n",
            "Epoch 41/100\n",
            "1641/1641 [==============================] - 4s 3ms/step - loss: 0.0069 - accuracy: 0.9989 - val_loss: 5341.8569 - val_accuracy: 0.8495\n",
            "Epoch 42/100\n",
            "1641/1641 [==============================] - 4s 3ms/step - loss: 0.0069 - accuracy: 0.9989 - val_loss: 6432.7441 - val_accuracy: 0.7268\n",
            "Epoch 43/100\n",
            "1641/1641 [==============================] - 4s 3ms/step - loss: 0.0069 - accuracy: 0.9989 - val_loss: 6955.1855 - val_accuracy: 0.7261\n",
            "Epoch 44/100\n",
            "1641/1641 [==============================] - 5s 3ms/step - loss: 0.0068 - accuracy: 0.9989 - val_loss: 7799.2954 - val_accuracy: 0.7209\n",
            "Epoch 45/100\n",
            "1641/1641 [==============================] - 4s 3ms/step - loss: 0.0067 - accuracy: 0.9990 - val_loss: 8830.1279 - val_accuracy: 0.7210\n",
            "Epoch 46/100\n",
            "1641/1641 [==============================] - 4s 3ms/step - loss: 0.0066 - accuracy: 0.9989 - val_loss: 8714.4199 - val_accuracy: 0.7186\n",
            "Epoch 47/100\n",
            "1641/1641 [==============================] - 4s 3ms/step - loss: 0.0065 - accuracy: 0.9990 - val_loss: 9892.1582 - val_accuracy: 0.7144\n",
            "Epoch 48/100\n",
            "1641/1641 [==============================] - 4s 3ms/step - loss: 0.0064 - accuracy: 0.9989 - val_loss: 11318.4355 - val_accuracy: 0.7039\n",
            "Epoch 49/100\n",
            "1641/1641 [==============================] - 4s 3ms/step - loss: 0.0064 - accuracy: 0.9989 - val_loss: 11056.5742 - val_accuracy: 0.7134\n",
            "Epoch 50/100\n",
            "1641/1641 [==============================] - 4s 3ms/step - loss: 0.0063 - accuracy: 0.9989 - val_loss: 12240.5117 - val_accuracy: 0.7130\n",
            "Epoch 51/100\n",
            "1641/1641 [==============================] - 4s 3ms/step - loss: 0.0061 - accuracy: 0.9989 - val_loss: 10103.8643 - val_accuracy: 0.8365\n",
            "Epoch 52/100\n",
            "1641/1641 [==============================] - 4s 3ms/step - loss: 0.0062 - accuracy: 0.9989 - val_loss: 12204.6787 - val_accuracy: 0.7123\n",
            "Epoch 53/100\n",
            "1641/1641 [==============================] - 4s 3ms/step - loss: 0.0061 - accuracy: 0.9989 - val_loss: 13388.9727 - val_accuracy: 0.7103\n",
            "Epoch 54/100\n",
            "1641/1641 [==============================] - 4s 3ms/step - loss: 0.0060 - accuracy: 0.9989 - val_loss: 13473.4668 - val_accuracy: 0.7105\n",
            "Epoch 55/100\n",
            "1641/1641 [==============================] - 4s 3ms/step - loss: 0.0060 - accuracy: 0.9990 - val_loss: 12673.8359 - val_accuracy: 0.8242\n",
            "Epoch 56/100\n",
            "1641/1641 [==============================] - 4s 2ms/step - loss: 0.0060 - accuracy: 0.9990 - val_loss: 13220.2217 - val_accuracy: 0.7522\n",
            "Epoch 57/100\n",
            "1641/1641 [==============================] - 4s 3ms/step - loss: 0.0059 - accuracy: 0.9989 - val_loss: 13769.1484 - val_accuracy: 0.7336\n",
            "Epoch 58/100\n",
            "1641/1641 [==============================] - 4s 3ms/step - loss: 0.0058 - accuracy: 0.9989 - val_loss: 15199.5830 - val_accuracy: 0.7304\n",
            "Epoch 59/100\n",
            "1641/1641 [==============================] - 4s 3ms/step - loss: 0.0056 - accuracy: 0.9989 - val_loss: 13441.0830 - val_accuracy: 0.7369\n",
            "Epoch 60/100\n",
            "1641/1641 [==============================] - 4s 3ms/step - loss: 0.0058 - accuracy: 0.9989 - val_loss: 11969.3252 - val_accuracy: 0.8508\n",
            "Epoch 61/100\n",
            "1641/1641 [==============================] - 4s 3ms/step - loss: 0.0057 - accuracy: 0.9989 - val_loss: 14561.4004 - val_accuracy: 0.7338\n",
            "Epoch 62/100\n",
            "1641/1641 [==============================] - 4s 3ms/step - loss: 0.0056 - accuracy: 0.9989 - val_loss: 14500.1309 - val_accuracy: 0.7342\n",
            "Epoch 63/100\n",
            "1641/1641 [==============================] - 4s 3ms/step - loss: 0.0058 - accuracy: 0.9989 - val_loss: 16253.5518 - val_accuracy: 0.7334\n",
            "Epoch 64/100\n",
            "1641/1641 [==============================] - 4s 3ms/step - loss: 0.0056 - accuracy: 0.9989 - val_loss: 13994.1875 - val_accuracy: 0.7423\n",
            "Epoch 65/100\n",
            "1641/1641 [==============================] - 4s 3ms/step - loss: 0.0056 - accuracy: 0.9989 - val_loss: 12950.2910 - val_accuracy: 0.8577\n",
            "Epoch 66/100\n",
            "1641/1641 [==============================] - 4s 3ms/step - loss: 0.0054 - accuracy: 0.9989 - val_loss: 13466.4199 - val_accuracy: 0.7565\n",
            "Epoch 67/100\n",
            "1641/1641 [==============================] - 4s 3ms/step - loss: 0.0055 - accuracy: 0.9989 - val_loss: 14431.4746 - val_accuracy: 0.7446\n",
            "Epoch 68/100\n",
            "1641/1641 [==============================] - 4s 3ms/step - loss: 0.0054 - accuracy: 0.9989 - val_loss: 15561.1416 - val_accuracy: 0.7419\n",
            "Epoch 69/100\n",
            "1641/1641 [==============================] - 4s 3ms/step - loss: 0.0056 - accuracy: 0.9989 - val_loss: 14063.9922 - val_accuracy: 0.8544\n",
            "Epoch 70/100\n",
            "1641/1641 [==============================] - 4s 3ms/step - loss: 0.0054 - accuracy: 0.9990 - val_loss: 14761.9678 - val_accuracy: 0.7481\n",
            "Epoch 71/100\n",
            "1641/1641 [==============================] - 4s 3ms/step - loss: 0.0054 - accuracy: 0.9989 - val_loss: 14036.5166 - val_accuracy: 0.7571\n",
            "Epoch 72/100\n",
            "1641/1641 [==============================] - 4s 3ms/step - loss: 0.0054 - accuracy: 0.9990 - val_loss: 14327.2744 - val_accuracy: 0.7515\n",
            "Epoch 73/100\n",
            "1641/1641 [==============================] - 4s 3ms/step - loss: 0.0054 - accuracy: 0.9990 - val_loss: 12639.2920 - val_accuracy: 0.8718\n",
            "Epoch 74/100\n",
            "1641/1641 [==============================] - 4s 3ms/step - loss: 0.0055 - accuracy: 0.9989 - val_loss: 12771.7061 - val_accuracy: 0.8721\n",
            "Epoch 75/100\n",
            "1641/1641 [==============================] - 4s 3ms/step - loss: 0.0054 - accuracy: 0.9989 - val_loss: 13006.9570 - val_accuracy: 0.8737\n",
            "Epoch 76/100\n",
            "1641/1641 [==============================] - 4s 3ms/step - loss: 0.0051 - accuracy: 0.9990 - val_loss: 14234.3232 - val_accuracy: 0.8676\n",
            "Epoch 77/100\n",
            "1641/1641 [==============================] - 4s 3ms/step - loss: 0.0054 - accuracy: 0.9990 - val_loss: 15542.8555 - val_accuracy: 0.7511\n",
            "Epoch 78/100\n",
            "1641/1641 [==============================] - 4s 3ms/step - loss: 0.0052 - accuracy: 0.9990 - val_loss: 17228.1172 - val_accuracy: 0.7464\n",
            "Epoch 79/100\n",
            "1641/1641 [==============================] - 4s 3ms/step - loss: 0.0051 - accuracy: 0.9989 - val_loss: 14541.7949 - val_accuracy: 0.8705\n",
            "Epoch 80/100\n",
            "1641/1641 [==============================] - 4s 3ms/step - loss: 0.0054 - accuracy: 0.9989 - val_loss: 16224.0791 - val_accuracy: 0.7515\n",
            "Epoch 81/100\n",
            "1641/1641 [==============================] - 4s 3ms/step - loss: 0.0052 - accuracy: 0.9989 - val_loss: 15245.3389 - val_accuracy: 0.7583\n",
            "Epoch 82/100\n",
            "1641/1641 [==============================] - 4s 3ms/step - loss: 0.0052 - accuracy: 0.9989 - val_loss: 14321.4170 - val_accuracy: 0.7615\n",
            "Epoch 83/100\n",
            "1641/1641 [==============================] - 4s 3ms/step - loss: 0.0052 - accuracy: 0.9989 - val_loss: 13461.0557 - val_accuracy: 0.8731\n",
            "Epoch 84/100\n",
            "1641/1641 [==============================] - 4s 3ms/step - loss: 0.0050 - accuracy: 0.9989 - val_loss: 12417.3184 - val_accuracy: 0.8810\n",
            "Epoch 85/100\n",
            "1641/1641 [==============================] - 4s 3ms/step - loss: 0.0052 - accuracy: 0.9990 - val_loss: 13461.2422 - val_accuracy: 0.8769\n",
            "Epoch 86/100\n",
            "1641/1641 [==============================] - 4s 3ms/step - loss: 0.0051 - accuracy: 0.9990 - val_loss: 12204.1631 - val_accuracy: 0.8832\n",
            "Epoch 87/100\n",
            "1641/1641 [==============================] - 4s 3ms/step - loss: 0.0051 - accuracy: 0.9989 - val_loss: 11603.9111 - val_accuracy: 0.8860\n",
            "Epoch 88/100\n",
            "1641/1641 [==============================] - 4s 3ms/step - loss: 0.0052 - accuracy: 0.9989 - val_loss: 13216.5615 - val_accuracy: 0.8815\n",
            "Epoch 89/100\n",
            "1641/1641 [==============================] - 7s 4ms/step - loss: 0.0052 - accuracy: 0.9990 - val_loss: 13331.1104 - val_accuracy: 0.8817\n",
            "Epoch 90/100\n",
            "1641/1641 [==============================] - 4s 3ms/step - loss: 0.0048 - accuracy: 0.9990 - val_loss: 11607.3799 - val_accuracy: 0.8913\n",
            "Epoch 91/100\n",
            "1641/1641 [==============================] - 4s 3ms/step - loss: 0.0054 - accuracy: 0.9990 - val_loss: 11919.0879 - val_accuracy: 0.8923\n",
            "Epoch 92/100\n",
            "1641/1641 [==============================] - 4s 3ms/step - loss: 0.0051 - accuracy: 0.9990 - val_loss: 13792.7295 - val_accuracy: 0.8823\n",
            "Epoch 93/100\n",
            "1641/1641 [==============================] - 4s 3ms/step - loss: 0.0051 - accuracy: 0.9989 - val_loss: 13128.2422 - val_accuracy: 0.8851\n",
            "Epoch 94/100\n",
            "1641/1641 [==============================] - 4s 3ms/step - loss: 0.0050 - accuracy: 0.9989 - val_loss: 12595.5244 - val_accuracy: 0.8925\n",
            "Epoch 95/100\n",
            "1641/1641 [==============================] - 5s 3ms/step - loss: 0.0052 - accuracy: 0.9990 - val_loss: 13870.7949 - val_accuracy: 0.8798\n",
            "Epoch 96/100\n",
            "1641/1641 [==============================] - 4s 3ms/step - loss: 0.0049 - accuracy: 0.9989 - val_loss: 12450.5977 - val_accuracy: 0.8900\n",
            "Epoch 97/100\n",
            "1641/1641 [==============================] - 4s 3ms/step - loss: 0.0050 - accuracy: 0.9989 - val_loss: 13142.9990 - val_accuracy: 0.8885\n",
            "Epoch 98/100\n",
            "1641/1641 [==============================] - 4s 3ms/step - loss: 0.0050 - accuracy: 0.9989 - val_loss: 14343.9111 - val_accuracy: 0.8834\n",
            "Epoch 99/100\n",
            "1641/1641 [==============================] - 4s 3ms/step - loss: 0.0050 - accuracy: 0.9989 - val_loss: 12433.3525 - val_accuracy: 0.8905\n",
            "Epoch 100/100\n",
            "1641/1641 [==============================] - 4s 3ms/step - loss: 0.0051 - accuracy: 0.9990 - val_loss: 14399.7969 - val_accuracy: 0.8843\n"
          ]
        }
      ],
      "source": [
        "# Fit the model using 100 epochs and the training data\n",
        "model = nn.fit(X_train_scaled, y_train,validation_split=0.30, epochs=100)\n"
      ]
    },
    {
      "cell_type": "markdown",
      "metadata": {
        "id": "0_k12jm-Tl1O"
      },
      "source": [
        "### Step 5: Evaluate the model using testing data and the `evaluate` method."
      ]
    },
    {
      "cell_type": "code",
      "execution_count": 19,
      "metadata": {
        "colab": {
          "base_uri": "https://localhost:8080/"
        },
        "id": "1R6B7PPsTl1O",
        "outputId": "dc001723-02ff-4df8-d42f-ea8c3cc0eb4b"
      },
      "outputs": [
        {
          "output_type": "stream",
          "name": "stdout",
          "text": [
            "782/782 - 1s - loss: 0.0070 - accuracy: 0.9988 - 1s/epoch - 1ms/step\n",
            "Loss: 0.007007288746535778, Accuracy: 0.9987599849700928\n"
          ]
        }
      ],
      "source": [
        "# Evaluate the model loss and accuracy metrics using the evaluate method and the test data\n",
        "model_loss, model_accuracy = nn.evaluate(X_test_scaled, y_test, verbose=2)\n",
        "\n",
        "# Display the evaluation results\n",
        "print(f\"Loss: {model_loss}, Accuracy: {model_accuracy}\")"
      ]
    },
    {
      "cell_type": "code",
      "execution_count": null,
      "metadata": {
        "id": "i32QDw8bTl1P"
      },
      "outputs": [],
      "source": []
    }
  ],
  "metadata": {
    "kernelspec": {
      "display_name": "Python 3",
      "language": "python",
      "name": "python3"
    },
    "language_info": {
      "codemirror_mode": {
        "name": "ipython",
        "version": 3
      },
      "file_extension": ".py",
      "mimetype": "text/x-python",
      "name": "python",
      "nbconvert_exporter": "python",
      "pygments_lexer": "ipython3",
      "version": "3.7.7"
    },
    "colab": {
      "provenance": [],
      "include_colab_link": true
    }
  },
  "nbformat": 4,
  "nbformat_minor": 0
}