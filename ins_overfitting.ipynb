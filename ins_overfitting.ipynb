{
  "cells": [
    {
      "cell_type": "markdown",
      "metadata": {
        "id": "view-in-github",
        "colab_type": "text"
      },
      "source": [
        "<a href=\"https://colab.research.google.com/github/Aqui1983/Module_13_Activities/blob/main/ins_overfitting.ipynb\" target=\"_parent\"><img src=\"https://colab.research.google.com/assets/colab-badge.svg\" alt=\"Open In Colab\"/></a>"
      ]
    },
    {
      "cell_type": "markdown",
      "id": "4104bbc9",
      "metadata": {
        "id": "4104bbc9"
      },
      "source": [
        "# Overfitting"
      ]
    },
    {
      "cell_type": "code",
      "execution_count": 1,
      "id": "038c919a",
      "metadata": {
        "id": "038c919a"
      },
      "outputs": [],
      "source": [
        "import pandas as pd\n",
        "import numpy as np"
      ]
    },
    {
      "cell_type": "code",
      "execution_count": 2,
      "id": "292c574b",
      "metadata": {
        "id": "292c574b"
      },
      "outputs": [],
      "source": [
        "from keras.models import Sequential\n",
        "from keras.layers import Dense, Activation"
      ]
    },
    {
      "cell_type": "code",
      "execution_count": 4,
      "id": "322048df",
      "metadata": {
        "id": "322048df"
      },
      "outputs": [],
      "source": [
        "df = pd.read_csv('/content/meet_or_beat.csv')"
      ]
    },
    {
      "cell_type": "markdown",
      "id": "c8e6b8ab",
      "metadata": {
        "id": "c8e6b8ab"
      },
      "source": [
        "### Preparing the Data"
      ]
    },
    {
      "cell_type": "code",
      "execution_count": 5,
      "id": "7f12a832",
      "metadata": {
        "colab": {
          "base_uri": "https://localhost:8080/",
          "height": 204
        },
        "id": "7f12a832",
        "outputId": "a16933ad-c3cd-45fb-f7cb-97be49de2e0e"
      },
      "outputs": [
        {
          "output_type": "execute_result",
          "data": {
            "text/plain": [
              "    EPS  forecasted_eps  noOfEsts  after_total_returns  before_total_returns\n",
              "0  2.01            1.67      11.0             0.051444              0.018585\n",
              "1  0.17            0.19       6.0             0.112955             -0.000510\n",
              "2 -0.07            0.14       4.0             0.077167             -0.046104\n",
              "3  0.48            0.51       8.0            -0.006130             -0.004899\n",
              "4 -0.24           -0.27       9.0             0.089762             -0.025466"
            ],
            "text/html": [
              "\n",
              "  <div id=\"df-e9e38c7b-a821-4188-b1ec-a0fb6cb4bebf\">\n",
              "    <div class=\"colab-df-container\">\n",
              "      <div>\n",
              "<style scoped>\n",
              "    .dataframe tbody tr th:only-of-type {\n",
              "        vertical-align: middle;\n",
              "    }\n",
              "\n",
              "    .dataframe tbody tr th {\n",
              "        vertical-align: top;\n",
              "    }\n",
              "\n",
              "    .dataframe thead th {\n",
              "        text-align: right;\n",
              "    }\n",
              "</style>\n",
              "<table border=\"1\" class=\"dataframe\">\n",
              "  <thead>\n",
              "    <tr style=\"text-align: right;\">\n",
              "      <th></th>\n",
              "      <th>EPS</th>\n",
              "      <th>forecasted_eps</th>\n",
              "      <th>noOfEsts</th>\n",
              "      <th>after_total_returns</th>\n",
              "      <th>before_total_returns</th>\n",
              "    </tr>\n",
              "  </thead>\n",
              "  <tbody>\n",
              "    <tr>\n",
              "      <th>0</th>\n",
              "      <td>2.01</td>\n",
              "      <td>1.67</td>\n",
              "      <td>11.0</td>\n",
              "      <td>0.051444</td>\n",
              "      <td>0.018585</td>\n",
              "    </tr>\n",
              "    <tr>\n",
              "      <th>1</th>\n",
              "      <td>0.17</td>\n",
              "      <td>0.19</td>\n",
              "      <td>6.0</td>\n",
              "      <td>0.112955</td>\n",
              "      <td>-0.000510</td>\n",
              "    </tr>\n",
              "    <tr>\n",
              "      <th>2</th>\n",
              "      <td>-0.07</td>\n",
              "      <td>0.14</td>\n",
              "      <td>4.0</td>\n",
              "      <td>0.077167</td>\n",
              "      <td>-0.046104</td>\n",
              "    </tr>\n",
              "    <tr>\n",
              "      <th>3</th>\n",
              "      <td>0.48</td>\n",
              "      <td>0.51</td>\n",
              "      <td>8.0</td>\n",
              "      <td>-0.006130</td>\n",
              "      <td>-0.004899</td>\n",
              "    </tr>\n",
              "    <tr>\n",
              "      <th>4</th>\n",
              "      <td>-0.24</td>\n",
              "      <td>-0.27</td>\n",
              "      <td>9.0</td>\n",
              "      <td>0.089762</td>\n",
              "      <td>-0.025466</td>\n",
              "    </tr>\n",
              "  </tbody>\n",
              "</table>\n",
              "</div>\n",
              "      <button class=\"colab-df-convert\" onclick=\"convertToInteractive('df-e9e38c7b-a821-4188-b1ec-a0fb6cb4bebf')\"\n",
              "              title=\"Convert this dataframe to an interactive table.\"\n",
              "              style=\"display:none;\">\n",
              "        \n",
              "  <svg xmlns=\"http://www.w3.org/2000/svg\" height=\"24px\"viewBox=\"0 0 24 24\"\n",
              "       width=\"24px\">\n",
              "    <path d=\"M0 0h24v24H0V0z\" fill=\"none\"/>\n",
              "    <path d=\"M18.56 5.44l.94 2.06.94-2.06 2.06-.94-2.06-.94-.94-2.06-.94 2.06-2.06.94zm-11 1L8.5 8.5l.94-2.06 2.06-.94-2.06-.94L8.5 2.5l-.94 2.06-2.06.94zm10 10l.94 2.06.94-2.06 2.06-.94-2.06-.94-.94-2.06-.94 2.06-2.06.94z\"/><path d=\"M17.41 7.96l-1.37-1.37c-.4-.4-.92-.59-1.43-.59-.52 0-1.04.2-1.43.59L10.3 9.45l-7.72 7.72c-.78.78-.78 2.05 0 2.83L4 21.41c.39.39.9.59 1.41.59.51 0 1.02-.2 1.41-.59l7.78-7.78 2.81-2.81c.8-.78.8-2.07 0-2.86zM5.41 20L4 18.59l7.72-7.72 1.47 1.35L5.41 20z\"/>\n",
              "  </svg>\n",
              "      </button>\n",
              "      \n",
              "  <style>\n",
              "    .colab-df-container {\n",
              "      display:flex;\n",
              "      flex-wrap:wrap;\n",
              "      gap: 12px;\n",
              "    }\n",
              "\n",
              "    .colab-df-convert {\n",
              "      background-color: #E8F0FE;\n",
              "      border: none;\n",
              "      border-radius: 50%;\n",
              "      cursor: pointer;\n",
              "      display: none;\n",
              "      fill: #1967D2;\n",
              "      height: 32px;\n",
              "      padding: 0 0 0 0;\n",
              "      width: 32px;\n",
              "    }\n",
              "\n",
              "    .colab-df-convert:hover {\n",
              "      background-color: #E2EBFA;\n",
              "      box-shadow: 0px 1px 2px rgba(60, 64, 67, 0.3), 0px 1px 3px 1px rgba(60, 64, 67, 0.15);\n",
              "      fill: #174EA6;\n",
              "    }\n",
              "\n",
              "    [theme=dark] .colab-df-convert {\n",
              "      background-color: #3B4455;\n",
              "      fill: #D2E3FC;\n",
              "    }\n",
              "\n",
              "    [theme=dark] .colab-df-convert:hover {\n",
              "      background-color: #434B5C;\n",
              "      box-shadow: 0px 1px 3px 1px rgba(0, 0, 0, 0.15);\n",
              "      filter: drop-shadow(0px 1px 2px rgba(0, 0, 0, 0.3));\n",
              "      fill: #FFFFFF;\n",
              "    }\n",
              "  </style>\n",
              "\n",
              "      <script>\n",
              "        const buttonEl =\n",
              "          document.querySelector('#df-e9e38c7b-a821-4188-b1ec-a0fb6cb4bebf button.colab-df-convert');\n",
              "        buttonEl.style.display =\n",
              "          google.colab.kernel.accessAllowed ? 'block' : 'none';\n",
              "\n",
              "        async function convertToInteractive(key) {\n",
              "          const element = document.querySelector('#df-e9e38c7b-a821-4188-b1ec-a0fb6cb4bebf');\n",
              "          const dataTable =\n",
              "            await google.colab.kernel.invokeFunction('convertToInteractive',\n",
              "                                                     [key], {});\n",
              "          if (!dataTable) return;\n",
              "\n",
              "          const docLinkHtml = 'Like what you see? Visit the ' +\n",
              "            '<a target=\"_blank\" href=https://colab.research.google.com/notebooks/data_table.ipynb>data table notebook</a>'\n",
              "            + ' to learn more about interactive tables.';\n",
              "          element.innerHTML = '';\n",
              "          dataTable['output_type'] = 'display_data';\n",
              "          await google.colab.output.renderOutput(dataTable, element);\n",
              "          const docLink = document.createElement('div');\n",
              "          docLink.innerHTML = docLinkHtml;\n",
              "          element.appendChild(docLink);\n",
              "        }\n",
              "      </script>\n",
              "    </div>\n",
              "  </div>\n",
              "  "
            ]
          },
          "metadata": {},
          "execution_count": 5
        }
      ],
      "source": [
        "df.head()"
      ]
    },
    {
      "cell_type": "code",
      "execution_count": 7,
      "id": "5ef6dad0",
      "metadata": {
        "id": "5ef6dad0"
      },
      "outputs": [],
      "source": [
        "df['earnings_quartile'] = (pd.qcut(df['EPS'], q=5, labels=False))+1"
      ]
    },
    {
      "cell_type": "code",
      "execution_count": 8,
      "id": "09248537",
      "metadata": {
        "id": "09248537"
      },
      "outputs": [],
      "source": [
        "y_quartile = df['earnings_quartile']"
      ]
    },
    {
      "cell_type": "code",
      "source": [
        "number_classes = len(y_quartile.unique())\n",
        "number_classes"
      ],
      "metadata": {
        "colab": {
          "base_uri": "https://localhost:8080/"
        },
        "id": "dagzilwafCQ3",
        "outputId": "eeb5d73c-a83e-439e-f63a-79cd46a75719"
      },
      "id": "dagzilwafCQ3",
      "execution_count": 9,
      "outputs": [
        {
          "output_type": "execute_result",
          "data": {
            "text/plain": [
              "5"
            ]
          },
          "metadata": {},
          "execution_count": 9
        }
      ]
    },
    {
      "cell_type": "code",
      "source": [
        "from sklearn.preprocessing import LabelEncoder\n",
        "\n",
        "encoder = LabelEncoder()\n",
        "encoder.fit(y_quartile)\n",
        "encoded_y = encoder.transform(y_quartile)\n",
        "encoded_y"
      ],
      "metadata": {
        "colab": {
          "base_uri": "https://localhost:8080/"
        },
        "id": "tdo02McffOI5",
        "outputId": "7921a38b-bf15-42d4-fa24-cc157dca0f36"
      },
      "id": "tdo02McffOI5",
      "execution_count": 10,
      "outputs": [
        {
          "output_type": "execute_result",
          "data": {
            "text/plain": [
              "array([4, 2, 1, ..., 2, 1, 0])"
            ]
          },
          "metadata": {},
          "execution_count": 10
        }
      ]
    },
    {
      "cell_type": "code",
      "source": [
        "from keras.utils.np_utils import to_categorical\n",
        "\n",
        "y_categorical = to_categorical(encoded_y, number_classes)"
      ],
      "metadata": {
        "id": "AhH8_mBSgKPs"
      },
      "id": "AhH8_mBSgKPs",
      "execution_count": 11,
      "outputs": []
    },
    {
      "cell_type": "code",
      "source": [
        "df.columns"
      ],
      "metadata": {
        "colab": {
          "base_uri": "https://localhost:8080/"
        },
        "id": "aJ4AJiYCgidh",
        "outputId": "d29adf21-2de2-4eb0-f443-7d02da497aaf"
      },
      "id": "aJ4AJiYCgidh",
      "execution_count": 12,
      "outputs": [
        {
          "output_type": "execute_result",
          "data": {
            "text/plain": [
              "Index(['EPS', 'forecasted_eps', 'noOfEsts', 'after_total_returns',\n",
              "       'before_total_returns', 'earnings_quartile'],\n",
              "      dtype='object')"
            ]
          },
          "metadata": {},
          "execution_count": 12
        }
      ]
    },
    {
      "cell_type": "code",
      "source": [
        "X = df[['forecasted_eps','before_total_returns','noOfEsts']]\n",
        "X.head()"
      ],
      "metadata": {
        "colab": {
          "base_uri": "https://localhost:8080/",
          "height": 204
        },
        "id": "vC0hYtYCgl4U",
        "outputId": "89f6e405-8279-47a5-9fbe-5ed3f80124f3"
      },
      "id": "vC0hYtYCgl4U",
      "execution_count": 13,
      "outputs": [
        {
          "output_type": "execute_result",
          "data": {
            "text/plain": [
              "   forecasted_eps  before_total_returns  noOfEsts\n",
              "0            1.67              0.018585      11.0\n",
              "1            0.19             -0.000510       6.0\n",
              "2            0.14             -0.046104       4.0\n",
              "3            0.51             -0.004899       8.0\n",
              "4           -0.27             -0.025466       9.0"
            ],
            "text/html": [
              "\n",
              "  <div id=\"df-4ca6a2fc-9ca3-4d4f-8178-d81cc56b5af6\">\n",
              "    <div class=\"colab-df-container\">\n",
              "      <div>\n",
              "<style scoped>\n",
              "    .dataframe tbody tr th:only-of-type {\n",
              "        vertical-align: middle;\n",
              "    }\n",
              "\n",
              "    .dataframe tbody tr th {\n",
              "        vertical-align: top;\n",
              "    }\n",
              "\n",
              "    .dataframe thead th {\n",
              "        text-align: right;\n",
              "    }\n",
              "</style>\n",
              "<table border=\"1\" class=\"dataframe\">\n",
              "  <thead>\n",
              "    <tr style=\"text-align: right;\">\n",
              "      <th></th>\n",
              "      <th>forecasted_eps</th>\n",
              "      <th>before_total_returns</th>\n",
              "      <th>noOfEsts</th>\n",
              "    </tr>\n",
              "  </thead>\n",
              "  <tbody>\n",
              "    <tr>\n",
              "      <th>0</th>\n",
              "      <td>1.67</td>\n",
              "      <td>0.018585</td>\n",
              "      <td>11.0</td>\n",
              "    </tr>\n",
              "    <tr>\n",
              "      <th>1</th>\n",
              "      <td>0.19</td>\n",
              "      <td>-0.000510</td>\n",
              "      <td>6.0</td>\n",
              "    </tr>\n",
              "    <tr>\n",
              "      <th>2</th>\n",
              "      <td>0.14</td>\n",
              "      <td>-0.046104</td>\n",
              "      <td>4.0</td>\n",
              "    </tr>\n",
              "    <tr>\n",
              "      <th>3</th>\n",
              "      <td>0.51</td>\n",
              "      <td>-0.004899</td>\n",
              "      <td>8.0</td>\n",
              "    </tr>\n",
              "    <tr>\n",
              "      <th>4</th>\n",
              "      <td>-0.27</td>\n",
              "      <td>-0.025466</td>\n",
              "      <td>9.0</td>\n",
              "    </tr>\n",
              "  </tbody>\n",
              "</table>\n",
              "</div>\n",
              "      <button class=\"colab-df-convert\" onclick=\"convertToInteractive('df-4ca6a2fc-9ca3-4d4f-8178-d81cc56b5af6')\"\n",
              "              title=\"Convert this dataframe to an interactive table.\"\n",
              "              style=\"display:none;\">\n",
              "        \n",
              "  <svg xmlns=\"http://www.w3.org/2000/svg\" height=\"24px\"viewBox=\"0 0 24 24\"\n",
              "       width=\"24px\">\n",
              "    <path d=\"M0 0h24v24H0V0z\" fill=\"none\"/>\n",
              "    <path d=\"M18.56 5.44l.94 2.06.94-2.06 2.06-.94-2.06-.94-.94-2.06-.94 2.06-2.06.94zm-11 1L8.5 8.5l.94-2.06 2.06-.94-2.06-.94L8.5 2.5l-.94 2.06-2.06.94zm10 10l.94 2.06.94-2.06 2.06-.94-2.06-.94-.94-2.06-.94 2.06-2.06.94z\"/><path d=\"M17.41 7.96l-1.37-1.37c-.4-.4-.92-.59-1.43-.59-.52 0-1.04.2-1.43.59L10.3 9.45l-7.72 7.72c-.78.78-.78 2.05 0 2.83L4 21.41c.39.39.9.59 1.41.59.51 0 1.02-.2 1.41-.59l7.78-7.78 2.81-2.81c.8-.78.8-2.07 0-2.86zM5.41 20L4 18.59l7.72-7.72 1.47 1.35L5.41 20z\"/>\n",
              "  </svg>\n",
              "      </button>\n",
              "      \n",
              "  <style>\n",
              "    .colab-df-container {\n",
              "      display:flex;\n",
              "      flex-wrap:wrap;\n",
              "      gap: 12px;\n",
              "    }\n",
              "\n",
              "    .colab-df-convert {\n",
              "      background-color: #E8F0FE;\n",
              "      border: none;\n",
              "      border-radius: 50%;\n",
              "      cursor: pointer;\n",
              "      display: none;\n",
              "      fill: #1967D2;\n",
              "      height: 32px;\n",
              "      padding: 0 0 0 0;\n",
              "      width: 32px;\n",
              "    }\n",
              "\n",
              "    .colab-df-convert:hover {\n",
              "      background-color: #E2EBFA;\n",
              "      box-shadow: 0px 1px 2px rgba(60, 64, 67, 0.3), 0px 1px 3px 1px rgba(60, 64, 67, 0.15);\n",
              "      fill: #174EA6;\n",
              "    }\n",
              "\n",
              "    [theme=dark] .colab-df-convert {\n",
              "      background-color: #3B4455;\n",
              "      fill: #D2E3FC;\n",
              "    }\n",
              "\n",
              "    [theme=dark] .colab-df-convert:hover {\n",
              "      background-color: #434B5C;\n",
              "      box-shadow: 0px 1px 3px 1px rgba(0, 0, 0, 0.15);\n",
              "      filter: drop-shadow(0px 1px 2px rgba(0, 0, 0, 0.3));\n",
              "      fill: #FFFFFF;\n",
              "    }\n",
              "  </style>\n",
              "\n",
              "      <script>\n",
              "        const buttonEl =\n",
              "          document.querySelector('#df-4ca6a2fc-9ca3-4d4f-8178-d81cc56b5af6 button.colab-df-convert');\n",
              "        buttonEl.style.display =\n",
              "          google.colab.kernel.accessAllowed ? 'block' : 'none';\n",
              "\n",
              "        async function convertToInteractive(key) {\n",
              "          const element = document.querySelector('#df-4ca6a2fc-9ca3-4d4f-8178-d81cc56b5af6');\n",
              "          const dataTable =\n",
              "            await google.colab.kernel.invokeFunction('convertToInteractive',\n",
              "                                                     [key], {});\n",
              "          if (!dataTable) return;\n",
              "\n",
              "          const docLinkHtml = 'Like what you see? Visit the ' +\n",
              "            '<a target=\"_blank\" href=https://colab.research.google.com/notebooks/data_table.ipynb>data table notebook</a>'\n",
              "            + ' to learn more about interactive tables.';\n",
              "          element.innerHTML = '';\n",
              "          dataTable['output_type'] = 'display_data';\n",
              "          await google.colab.output.renderOutput(dataTable, element);\n",
              "          const docLink = document.createElement('div');\n",
              "          docLink.innerHTML = docLinkHtml;\n",
              "          element.appendChild(docLink);\n",
              "        }\n",
              "      </script>\n",
              "    </div>\n",
              "  </div>\n",
              "  "
            ]
          },
          "metadata": {},
          "execution_count": 13
        }
      ]
    },
    {
      "cell_type": "markdown",
      "id": "a1c124ca",
      "metadata": {
        "id": "a1c124ca"
      },
      "source": [
        "### Building the Model"
      ]
    },
    {
      "cell_type": "code",
      "execution_count": 25,
      "id": "530b8154",
      "metadata": {
        "id": "530b8154"
      },
      "outputs": [],
      "source": [
        "from sklearn.model_selection import train_test_split\n",
        "\n",
        "X_train, X_test, y_train, y_test = train_test_split(X,y_categorical, random_state=1)"
      ]
    },
    {
      "cell_type": "code",
      "execution_count": 26,
      "id": "8c9e5e76",
      "metadata": {
        "colab": {
          "base_uri": "https://localhost:8080/"
        },
        "id": "8c9e5e76",
        "outputId": "49c33cae-6c74-4dd7-fccf-d5123e78da7a"
      },
      "outputs": [
        {
          "output_type": "execute_result",
          "data": {
            "text/plain": [
              "array([[0., 0., 0., 0., 1.],\n",
              "       [0., 0., 0., 1., 0.],\n",
              "       [0., 0., 0., 0., 1.],\n",
              "       ...,\n",
              "       [0., 0., 1., 0., 0.],\n",
              "       [0., 0., 1., 0., 0.],\n",
              "       [0., 0., 0., 1., 0.]], dtype=float32)"
            ]
          },
          "metadata": {},
          "execution_count": 26
        }
      ],
      "source": [
        "y_train"
      ]
    },
    {
      "cell_type": "code",
      "execution_count": 27,
      "id": "38dfa571",
      "metadata": {
        "colab": {
          "base_uri": "https://localhost:8080/"
        },
        "id": "38dfa571",
        "outputId": "a5968969-5831-430b-dc1e-d028b2a1bcda"
      },
      "outputs": [
        {
          "output_type": "execute_result",
          "data": {
            "text/plain": [
              "3"
            ]
          },
          "metadata": {},
          "execution_count": 27
        }
      ],
      "source": [
        "number_of_predictors = len(X.columns)\n",
        "number_of_predictors"
      ]
    },
    {
      "cell_type": "code",
      "source": [
        "from keras.layers import Dropout\n",
        "from keras.regularizers import l1,l2"
      ],
      "metadata": {
        "id": "SdTguF9phSlO"
      },
      "id": "SdTguF9phSlO",
      "execution_count": 28,
      "outputs": []
    },
    {
      "cell_type": "code",
      "source": [
        "model = Sequential()\n",
        "\n",
        "model.add(\n",
        "    Dense(10, input_dim = number_of_predictors, activation='relu')\n",
        ")\n",
        "\n",
        "model.add(\n",
        "    Dropout(.2, input_shape=(10,))\n",
        ")\n",
        "\n",
        "model.add(\n",
        "    Dense(number_classes, activation='relu', kernel_regularizer=l2(0.01), bias_regularizer=l2(0.01))\n",
        ")\n",
        "model.add(\n",
        "    Dense(number_classes, activation='softmax')\n",
        ")"
      ],
      "metadata": {
        "id": "w8omyWoYheuK"
      },
      "id": "w8omyWoYheuK",
      "execution_count": 29,
      "outputs": []
    },
    {
      "cell_type": "code",
      "source": [
        "model.compile(loss='categorical_crossentropy', optimizer='adam', metrics=['categorical_accuracy'])"
      ],
      "metadata": {
        "id": "ecXJmodvijTV"
      },
      "id": "ecXJmodvijTV",
      "execution_count": 30,
      "outputs": []
    },
    {
      "cell_type": "code",
      "source": [
        "model.summary()"
      ],
      "metadata": {
        "colab": {
          "base_uri": "https://localhost:8080/"
        },
        "id": "MkW1HsJHjPAZ",
        "outputId": "9bd6beb1-5cdd-486d-8ec4-13627e54cfa8"
      },
      "id": "MkW1HsJHjPAZ",
      "execution_count": 31,
      "outputs": [
        {
          "output_type": "stream",
          "name": "stdout",
          "text": [
            "Model: \"sequential_3\"\n",
            "_________________________________________________________________\n",
            " Layer (type)                Output Shape              Param #   \n",
            "=================================================================\n",
            " dense_6 (Dense)             (None, 10)                40        \n",
            "                                                                 \n",
            " dropout_3 (Dropout)         (None, 10)                0         \n",
            "                                                                 \n",
            " dense_7 (Dense)             (None, 5)                 55        \n",
            "                                                                 \n",
            " dense_8 (Dense)             (None, 5)                 30        \n",
            "                                                                 \n",
            "=================================================================\n",
            "Total params: 125\n",
            "Trainable params: 125\n",
            "Non-trainable params: 0\n",
            "_________________________________________________________________\n"
          ]
        }
      ]
    },
    {
      "cell_type": "code",
      "source": [
        "model.fit(X_train,y_train, epochs=50, batch_size=1000, validation_split=0.2, shuffle=True)"
      ],
      "metadata": {
        "colab": {
          "base_uri": "https://localhost:8080/"
        },
        "id": "yGuy5hHojQpY",
        "outputId": "2b7badbd-3f49-46db-c493-4b7f359b93ce"
      },
      "id": "yGuy5hHojQpY",
      "execution_count": 32,
      "outputs": [
        {
          "output_type": "stream",
          "name": "stdout",
          "text": [
            "Epoch 1/50\n",
            "44/44 [==============================] - 1s 11ms/step - loss: 4.1009 - categorical_accuracy: 0.1959 - val_loss: 3.4044 - val_categorical_accuracy: 0.1928\n",
            "Epoch 2/50\n",
            "44/44 [==============================] - 0s 4ms/step - loss: 2.8882 - categorical_accuracy: 0.1953 - val_loss: 2.3498 - val_categorical_accuracy: 0.1972\n",
            "Epoch 3/50\n",
            "44/44 [==============================] - 0s 5ms/step - loss: 2.1484 - categorical_accuracy: 0.1963 - val_loss: 1.7023 - val_categorical_accuracy: 0.1586\n",
            "Epoch 4/50\n",
            "44/44 [==============================] - 0s 4ms/step - loss: 1.8703 - categorical_accuracy: 0.2418 - val_loss: 1.5881 - val_categorical_accuracy: 0.4102\n",
            "Epoch 5/50\n",
            "44/44 [==============================] - 0s 4ms/step - loss: 1.7083 - categorical_accuracy: 0.3182 - val_loss: 1.5113 - val_categorical_accuracy: 0.4382\n",
            "Epoch 6/50\n",
            "44/44 [==============================] - 0s 4ms/step - loss: 1.5905 - categorical_accuracy: 0.3439 - val_loss: 1.4298 - val_categorical_accuracy: 0.4441\n",
            "Epoch 7/50\n",
            "44/44 [==============================] - 0s 4ms/step - loss: 1.5288 - categorical_accuracy: 0.3728 - val_loss: 1.3471 - val_categorical_accuracy: 0.4514\n",
            "Epoch 8/50\n",
            "44/44 [==============================] - 0s 4ms/step - loss: 1.4223 - categorical_accuracy: 0.4046 - val_loss: 1.2634 - val_categorical_accuracy: 0.4615\n",
            "Epoch 9/50\n",
            "44/44 [==============================] - 0s 4ms/step - loss: 1.3462 - categorical_accuracy: 0.4377 - val_loss: 1.2010 - val_categorical_accuracy: 0.4815\n",
            "Epoch 10/50\n",
            "44/44 [==============================] - 0s 4ms/step - loss: 1.2847 - categorical_accuracy: 0.4635 - val_loss: 1.1554 - val_categorical_accuracy: 0.5182\n",
            "Epoch 11/50\n",
            "44/44 [==============================] - 0s 4ms/step - loss: 1.2430 - categorical_accuracy: 0.4810 - val_loss: 1.1186 - val_categorical_accuracy: 0.5389\n",
            "Epoch 12/50\n",
            "44/44 [==============================] - 0s 4ms/step - loss: 1.2100 - categorical_accuracy: 0.4965 - val_loss: 1.0899 - val_categorical_accuracy: 0.5609\n",
            "Epoch 13/50\n",
            "44/44 [==============================] - 0s 4ms/step - loss: 1.1905 - categorical_accuracy: 0.5115 - val_loss: 1.0676 - val_categorical_accuracy: 0.5638\n",
            "Epoch 14/50\n",
            "44/44 [==============================] - 0s 4ms/step - loss: 1.1582 - categorical_accuracy: 0.5260 - val_loss: 1.0465 - val_categorical_accuracy: 0.5963\n",
            "Epoch 15/50\n",
            "44/44 [==============================] - 0s 4ms/step - loss: 1.1401 - categorical_accuracy: 0.5330 - val_loss: 1.0282 - val_categorical_accuracy: 0.6168\n",
            "Epoch 16/50\n",
            "44/44 [==============================] - 0s 5ms/step - loss: 1.1250 - categorical_accuracy: 0.5400 - val_loss: 1.0144 - val_categorical_accuracy: 0.6240\n",
            "Epoch 17/50\n",
            "44/44 [==============================] - 0s 4ms/step - loss: 1.1079 - categorical_accuracy: 0.5513 - val_loss: 1.0027 - val_categorical_accuracy: 0.6396\n",
            "Epoch 18/50\n",
            "44/44 [==============================] - 0s 5ms/step - loss: 1.0971 - categorical_accuracy: 0.5610 - val_loss: 0.9888 - val_categorical_accuracy: 0.6391\n",
            "Epoch 19/50\n",
            "44/44 [==============================] - 0s 4ms/step - loss: 1.0813 - categorical_accuracy: 0.5678 - val_loss: 0.9809 - val_categorical_accuracy: 0.6636\n",
            "Epoch 20/50\n",
            "44/44 [==============================] - 0s 4ms/step - loss: 1.0684 - categorical_accuracy: 0.5745 - val_loss: 0.9702 - val_categorical_accuracy: 0.6692\n",
            "Epoch 21/50\n",
            "44/44 [==============================] - 0s 4ms/step - loss: 1.0565 - categorical_accuracy: 0.5845 - val_loss: 0.9587 - val_categorical_accuracy: 0.6774\n",
            "Epoch 22/50\n",
            "44/44 [==============================] - 0s 4ms/step - loss: 1.0434 - categorical_accuracy: 0.5867 - val_loss: 0.9481 - val_categorical_accuracy: 0.6883\n",
            "Epoch 23/50\n",
            "44/44 [==============================] - 0s 4ms/step - loss: 1.0369 - categorical_accuracy: 0.5979 - val_loss: 0.9405 - val_categorical_accuracy: 0.6980\n",
            "Epoch 24/50\n",
            "44/44 [==============================] - 0s 4ms/step - loss: 1.0297 - categorical_accuracy: 0.6006 - val_loss: 0.9311 - val_categorical_accuracy: 0.7086\n",
            "Epoch 25/50\n",
            "44/44 [==============================] - 0s 4ms/step - loss: 1.0194 - categorical_accuracy: 0.6138 - val_loss: 0.9223 - val_categorical_accuracy: 0.7138\n",
            "Epoch 26/50\n",
            "44/44 [==============================] - 0s 4ms/step - loss: 1.0107 - categorical_accuracy: 0.6194 - val_loss: 0.9136 - val_categorical_accuracy: 0.7232\n",
            "Epoch 27/50\n",
            "44/44 [==============================] - 0s 4ms/step - loss: 1.0046 - categorical_accuracy: 0.6224 - val_loss: 0.9057 - val_categorical_accuracy: 0.7375\n",
            "Epoch 28/50\n",
            "44/44 [==============================] - 0s 4ms/step - loss: 0.9925 - categorical_accuracy: 0.6362 - val_loss: 0.8972 - val_categorical_accuracy: 0.7404\n",
            "Epoch 29/50\n",
            "44/44 [==============================] - 0s 5ms/step - loss: 0.9945 - categorical_accuracy: 0.6399 - val_loss: 0.8947 - val_categorical_accuracy: 0.7396\n",
            "Epoch 30/50\n",
            "44/44 [==============================] - 0s 4ms/step - loss: 0.9769 - categorical_accuracy: 0.6487 - val_loss: 0.8845 - val_categorical_accuracy: 0.7519\n",
            "Epoch 31/50\n",
            "44/44 [==============================] - 0s 5ms/step - loss: 0.9763 - categorical_accuracy: 0.6487 - val_loss: 0.8827 - val_categorical_accuracy: 0.7600\n",
            "Epoch 32/50\n",
            "44/44 [==============================] - 0s 4ms/step - loss: 0.9643 - categorical_accuracy: 0.6596 - val_loss: 0.8715 - val_categorical_accuracy: 0.7603\n",
            "Epoch 33/50\n",
            "44/44 [==============================] - 0s 4ms/step - loss: 0.9650 - categorical_accuracy: 0.6597 - val_loss: 0.8664 - val_categorical_accuracy: 0.7676\n",
            "Epoch 34/50\n",
            "44/44 [==============================] - 0s 4ms/step - loss: 0.9589 - categorical_accuracy: 0.6632 - val_loss: 0.8616 - val_categorical_accuracy: 0.7720\n",
            "Epoch 35/50\n",
            "44/44 [==============================] - 0s 4ms/step - loss: 0.9546 - categorical_accuracy: 0.6693 - val_loss: 0.8556 - val_categorical_accuracy: 0.7761\n",
            "Epoch 36/50\n",
            "44/44 [==============================] - 0s 4ms/step - loss: 0.9491 - categorical_accuracy: 0.6682 - val_loss: 0.8515 - val_categorical_accuracy: 0.7808\n",
            "Epoch 37/50\n",
            "44/44 [==============================] - 0s 4ms/step - loss: 0.9435 - categorical_accuracy: 0.6775 - val_loss: 0.8436 - val_categorical_accuracy: 0.7852\n",
            "Epoch 38/50\n",
            "44/44 [==============================] - 0s 4ms/step - loss: 0.9418 - categorical_accuracy: 0.6763 - val_loss: 0.8412 - val_categorical_accuracy: 0.7864\n",
            "Epoch 39/50\n",
            "44/44 [==============================] - 0s 4ms/step - loss: 0.9349 - categorical_accuracy: 0.6815 - val_loss: 0.8343 - val_categorical_accuracy: 0.7907\n",
            "Epoch 40/50\n",
            "44/44 [==============================] - 0s 5ms/step - loss: 0.9333 - categorical_accuracy: 0.6818 - val_loss: 0.8332 - val_categorical_accuracy: 0.7895\n",
            "Epoch 41/50\n",
            "44/44 [==============================] - 0s 6ms/step - loss: 0.9313 - categorical_accuracy: 0.6843 - val_loss: 0.8271 - val_categorical_accuracy: 0.7946\n",
            "Epoch 42/50\n",
            "44/44 [==============================] - 0s 4ms/step - loss: 0.9234 - categorical_accuracy: 0.6864 - val_loss: 0.8233 - val_categorical_accuracy: 0.7964\n",
            "Epoch 43/50\n",
            "44/44 [==============================] - 0s 4ms/step - loss: 0.9221 - categorical_accuracy: 0.6884 - val_loss: 0.8223 - val_categorical_accuracy: 0.7976\n",
            "Epoch 44/50\n",
            "44/44 [==============================] - 0s 4ms/step - loss: 0.9148 - categorical_accuracy: 0.6949 - val_loss: 0.8160 - val_categorical_accuracy: 0.7985\n",
            "Epoch 45/50\n",
            "44/44 [==============================] - 0s 4ms/step - loss: 0.9089 - categorical_accuracy: 0.6916 - val_loss: 0.8117 - val_categorical_accuracy: 0.8045\n",
            "Epoch 46/50\n",
            "44/44 [==============================] - 0s 4ms/step - loss: 0.9088 - categorical_accuracy: 0.6943 - val_loss: 0.8078 - val_categorical_accuracy: 0.8057\n",
            "Epoch 47/50\n",
            "44/44 [==============================] - 0s 4ms/step - loss: 0.9078 - categorical_accuracy: 0.6939 - val_loss: 0.8065 - val_categorical_accuracy: 0.8050\n",
            "Epoch 48/50\n",
            "44/44 [==============================] - 0s 4ms/step - loss: 0.9037 - categorical_accuracy: 0.6974 - val_loss: 0.8015 - val_categorical_accuracy: 0.8088\n",
            "Epoch 49/50\n",
            "44/44 [==============================] - 0s 4ms/step - loss: 0.9004 - categorical_accuracy: 0.6973 - val_loss: 0.8002 - val_categorical_accuracy: 0.8071\n",
            "Epoch 50/50\n",
            "44/44 [==============================] - 0s 4ms/step - loss: 0.8970 - categorical_accuracy: 0.7010 - val_loss: 0.7979 - val_categorical_accuracy: 0.8077\n"
          ]
        },
        {
          "output_type": "execute_result",
          "data": {
            "text/plain": [
              "<keras.callbacks.History at 0x7f1b995b2dc0>"
            ]
          },
          "metadata": {},
          "execution_count": 32
        }
      ]
    },
    {
      "cell_type": "code",
      "source": [
        "model_history = model.history.history\n",
        "model_history.keys()"
      ],
      "metadata": {
        "colab": {
          "base_uri": "https://localhost:8080/"
        },
        "id": "mDQixwEskV0e",
        "outputId": "5d0762bb-660a-48b4-d0f2-1d1837191e39"
      },
      "id": "mDQixwEskV0e",
      "execution_count": 33,
      "outputs": [
        {
          "output_type": "execute_result",
          "data": {
            "text/plain": [
              "dict_keys(['loss', 'categorical_accuracy', 'val_loss', 'val_categorical_accuracy'])"
            ]
          },
          "metadata": {},
          "execution_count": 33
        }
      ]
    },
    {
      "cell_type": "code",
      "source": [
        "\n",
        "training_results = pd.DataFrame(index=range(1,51))\n",
        "training_results['training'] = model_history['categorical_accuracy']\n",
        "training_results['validation'] = model_history['val_categorical_accuracy']\n",
        "\n",
        "training_results.plot(title='TRaining vs Validation')"
      ],
      "metadata": {
        "colab": {
          "base_uri": "https://localhost:8080/",
          "height": 298
        },
        "id": "-pAhWjFEjfGu",
        "outputId": "1c23b57c-c219-45ce-c3f0-4054d00fffe7"
      },
      "id": "-pAhWjFEjfGu",
      "execution_count": 34,
      "outputs": [
        {
          "output_type": "execute_result",
          "data": {
            "text/plain": [
              "<matplotlib.axes._subplots.AxesSubplot at 0x7f1b994b8e50>"
            ]
          },
          "metadata": {},
          "execution_count": 34
        },
        {
          "output_type": "display_data",
          "data": {
            "text/plain": [
              "<Figure size 432x288 with 1 Axes>"
            ],
            "image/png": "[encoded data removed]"
          },
          "metadata": {
            "needs_background": "light"
          }
        }
      ]
    },
    {
      "cell_type": "code",
      "source": [],
      "metadata": {
        "id": "sc4yVMKqk0Hy"
      },
      "id": "sc4yVMKqk0Hy",
      "execution_count": null,
      "outputs": []
    }
  ],
  "metadata": {
    "kernelspec": {
      "display_name": "Python 3 (ipykernel)",
      "language": "python",
      "name": "python3"
    },
    "language_info": {
      "codemirror_mode": {
        "name": "ipython",
        "version": 3
      },
      "file_extension": ".py",
      "mimetype": "text/x-python",
      "name": "python",
      "nbconvert_exporter": "python",
      "pygments_lexer": "ipython3",
      "version": "3.8.11"
    },
    "colab": {
      "provenance": [],
      "include_colab_link": true
    }
  },
  "nbformat": 4,
  "nbformat_minor": 5
}