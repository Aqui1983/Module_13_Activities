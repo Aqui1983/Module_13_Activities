{
  "cells": [
    {
      "cell_type": "markdown",
      "metadata": {
        "id": "view-in-github",
        "colab_type": "text"
      },
      "source": [
        "<a href=\"https://colab.research.google.com/github/Aqui1983/Module_13_Activities/blob/main/roc_auc_fraud.ipynb\" target=\"_parent\"><img src=\"https://colab.research.google.com/assets/colab-badge.svg\" alt=\"Open In Colab\"/></a>"
      ]
    },
    {
      "cell_type": "markdown",
      "metadata": {
        "id": "1EbgSOq1wMXA"
      },
      "source": [
        "# Instructor Do: Intro to the ROC Curve and AUC\n",
        "\n",
        "In this activity, students will learn how to measure the performance of a binary classification model by fetching metrics from Keras, as well as plotting and interpreting the ROC curve and AUC."
      ]
    },
    {
      "cell_type": "code",
      "execution_count": 2,
      "metadata": {
        "id": "k13gU1AowMXE"
      },
      "outputs": [],
      "source": [
        "# Initial imports\n",
        "import pandas as pd\n",
        "import numpy as np\n",
        "import matplotlib.pyplot as plt\n",
        "import tensorflow as tf\n",
        "from pathlib import Path\n",
        "\n",
        "%matplotlib inline"
      ]
    },
    {
      "cell_type": "markdown",
      "metadata": {
        "id": "mmROL5q-wMXG"
      },
      "source": [
        "## The Dataset\n",
        "\n",
        "The data provided for this demo contains anonymous information about `284807` credit card transactions made by European credit cardholders in September 2013.\n",
        "\n",
        "The dataset is going to be used to create a binary classification model using a deep neural network to detect fraudulent transactions. It contains nine numerical variables, which are the result of PCA transformation to protect the confidentiality of credit cardholders. Only the transaction amount can be seen as is.\n",
        "\n",
        "This dataset is an abstract of the file shared by the [Machine Learning Group](http://mlg.ulb.ac.be) of the Université Libre de Bruxelles (ULB)."
      ]
    },
    {
      "cell_type": "code",
      "execution_count": 3,
      "metadata": {
        "id": "nXWJ2tKdwMXL"
      },
      "outputs": [],
      "source": [
        "# Import the dataset\n",
        "transactions_df = pd.read_csv('/content/transactions.csv')"
      ]
    },
    {
      "cell_type": "markdown",
      "metadata": {
        "id": "CGeKyTXowMXO"
      },
      "source": [
        "## Data Preprocessing"
      ]
    },
    {
      "cell_type": "code",
      "execution_count": 4,
      "metadata": {
        "id": "Dc6pS0cNwMXP"
      },
      "outputs": [],
      "source": [
        "# Creating the X and y sets\n",
        "y = transactions_df['Class'].values\n",
        "\n",
        "X = transactions_df.iloc[:,0:10].values"
      ]
    },
    {
      "cell_type": "code",
      "execution_count": 5,
      "metadata": {
        "id": "HGEbSCBewMXQ"
      },
      "outputs": [],
      "source": [
        "# Creating training, validation, and testing sets\n",
        "from sklearn.model_selection import train_test_split\n",
        "\n",
        "X_train, X_test, y_train, y_test = train_test_split(X,y,random_state=78)\n",
        "\n",
        "X_train, X_val, y_train, y_val = train_test_split(X_train,y_train,random_state=78)"
      ]
    },
    {
      "cell_type": "code",
      "execution_count": 6,
      "metadata": {
        "id": "kBuhgPyTwMXQ"
      },
      "outputs": [],
      "source": [
        "# Import the StandardScaler from sklearn\n",
        "from sklearn.preprocessing import StandardScaler\n",
        "\n",
        "# Scale the data\n",
        "scaler = StandardScaler().fit(X_train)\n",
        "\n",
        "X_train_scaled = scaler.transform(X_train)"
      ]
    },
    {
      "cell_type": "markdown",
      "metadata": {
        "id": "WH97SckvwMXR"
      },
      "source": [
        "## Build and Train the Deep Learning Model"
      ]
    },
    {
      "cell_type": "markdown",
      "metadata": {
        "id": "8kH3JyGIwMXR"
      },
      "source": [
        " ### Importing the Keras Modules"
      ]
    },
    {
      "cell_type": "code",
      "execution_count": 7,
      "metadata": {
        "id": "CZSUpbXQwMXS"
      },
      "outputs": [],
      "source": [
        "# Import Keras modules for model creation\n",
        "from tensorflow.keras.models import Sequential\n",
        "from tensorflow.keras.layers import Dense"
      ]
    },
    {
      "cell_type": "markdown",
      "metadata": {
        "id": "RxTDqF14wMXT"
      },
      "source": [
        " ### Setting Up the Model"
      ]
    },
    {
      "cell_type": "code",
      "execution_count": 8,
      "metadata": {
        "id": "yiaShxlqwMXU"
      },
      "outputs": [],
      "source": [
        "# Model set-up\n",
        "number_input_features = 10\n",
        "hidden_nodes_layer1 = 15\n",
        "hidden_nodes_layer2 = 5"
      ]
    },
    {
      "cell_type": "markdown",
      "metadata": {
        "id": "lLbUZAYIwMXU"
      },
      "source": [
        " ### Defining the Model's Structure"
      ]
    },
    {
      "cell_type": "code",
      "execution_count": 9,
      "metadata": {
        "id": "bQpsmVlVwMXV"
      },
      "outputs": [],
      "source": [
        "# Define the LSTM RNN model\n",
        "model = Sequential()\n",
        "# Layer 1\n",
        "model.add(Dense(units=hidden_nodes_layer1, input_dim=number_input_features, activation='relu'))\n",
        "\n",
        "\n",
        "# Layer 2\n",
        "model.add(Dense(units=hidden_nodes_layer2, activation='relu'))\n",
        "# Output layer\n",
        "model.add(Dense(units=1, activation='sigmoid'))"
      ]
    },
    {
      "cell_type": "markdown",
      "metadata": {
        "id": "O0hSATR-wMXV"
      },
      "source": [
        " ### Compiling the Model"
      ]
    },
    {
      "cell_type": "code",
      "execution_count": 13,
      "metadata": {
        "id": "J13NUgHswMXX"
      },
      "outputs": [],
      "source": [
        "# Compile the model\n",
        "model.compile(loss='binary_crossentropy', optimizer='adam', metrics=[\n",
        "    'accuracy',\n",
        "    tf.keras.metrics.TruePositives(name='tp'),\n",
        "    tf.keras.metrics.TrueNegatives(name='tn'),\n",
        "    tf.keras.metrics.FalsePositives(name='fp'),\n",
        "    tf.keras.metrics.FalseNegatives(name='fn'),\n",
        "    tf.keras.metrics.Precision(name='precision'),\n",
        "    tf.keras.metrics.Recall(name='recall'),\n",
        "    tf.keras.metrics.AUC(name='auc')\n",
        "])"
      ]
    },
    {
      "cell_type": "code",
      "execution_count": 14,
      "metadata": {
        "colab": {
          "base_uri": "https://localhost:8080/"
        },
        "id": "8mpqIgWowMXX",
        "outputId": "278c3e78-b35f-4305-a2fd-27856e8d45ce"
      },
      "outputs": [
        {
          "output_type": "stream",
          "name": "stdout",
          "text": [
            "Model: \"sequential\"\n",
            "_________________________________________________________________\n",
            " Layer (type)                Output Shape              Param #   \n",
            "=================================================================\n",
            " dense (Dense)               (None, 15)                165       \n",
            "                                                                 \n",
            " dense_1 (Dense)             (None, 5)                 80        \n",
            "                                                                 \n",
            " dense_2 (Dense)             (None, 1)                 6         \n",
            "                                                                 \n",
            "=================================================================\n",
            "Total params: 251\n",
            "Trainable params: 251\n",
            "Non-trainable params: 0\n",
            "_________________________________________________________________\n"
          ]
        }
      ],
      "source": [
        "# Summarize the model\n",
        "model.summary()"
      ]
    },
    {
      "cell_type": "markdown",
      "metadata": {
        "id": "J-WtOk7KwMXY"
      },
      "source": [
        " ### Training the Model"
      ]
    },
    {
      "cell_type": "code",
      "execution_count": 15,
      "metadata": {
        "colab": {
          "base_uri": "https://localhost:8080/"
        },
        "id": "iuz3yV3pwMXY",
        "outputId": "614b61a5-3768-4142-ee3f-db9f28afb278"
      },
      "outputs": [
        {
          "output_type": "stream",
          "name": "stdout",
          "text": [
            "Epoch 1/50\n",
            "161/161 [==============================] - 4s 11ms/step - loss: 0.2631 - accuracy: 0.9068 - tp: 11.0000 - tn: 145266.0000 - fp: 14680.0000 - fn: 246.0000 - precision: 7.4876e-04 - recall: 0.0428 - auc: 0.3963 - val_loss: 0.1079 - val_accuracy: 0.9980 - val_tp: 0.0000e+00 - val_tn: 53295.0000 - val_fp: 2.0000 - val_fn: 105.0000 - val_precision: 0.0000e+00 - val_recall: 0.0000e+00 - val_auc: 0.4670\n",
            "Epoch 2/50\n",
            "161/161 [==============================] - 1s 4ms/step - loss: 0.0720 - accuracy: 0.9984 - tp: 0.0000e+00 - tn: 159946.0000 - fp: 0.0000e+00 - fn: 257.0000 - precision: 0.0000e+00 - recall: 0.0000e+00 - auc: 0.4882 - val_loss: 0.0567 - val_accuracy: 0.9980 - val_tp: 0.0000e+00 - val_tn: 53297.0000 - val_fp: 0.0000e+00 - val_fn: 105.0000 - val_precision: 0.0000e+00 - val_recall: 0.0000e+00 - val_auc: 0.5209\n",
            "Epoch 3/50\n",
            "161/161 [==============================] - 1s 4ms/step - loss: 0.0415 - accuracy: 0.9984 - tp: 0.0000e+00 - tn: 159946.0000 - fp: 0.0000e+00 - fn: 257.0000 - precision: 0.0000e+00 - recall: 0.0000e+00 - auc: 0.5590 - val_loss: 0.0368 - val_accuracy: 0.9980 - val_tp: 0.0000e+00 - val_tn: 53297.0000 - val_fp: 0.0000e+00 - val_fn: 105.0000 - val_precision: 0.0000e+00 - val_recall: 0.0000e+00 - val_auc: 0.6531\n",
            "Epoch 4/50\n",
            "161/161 [==============================] - 1s 4ms/step - loss: 0.0262 - accuracy: 0.9984 - tp: 4.0000 - tn: 159944.0000 - fp: 2.0000 - fn: 253.0000 - precision: 0.6667 - recall: 0.0156 - auc: 0.6438 - val_loss: 0.0231 - val_accuracy: 0.9981 - val_tp: 4.0000 - val_tn: 53296.0000 - val_fp: 1.0000 - val_fn: 101.0000 - val_precision: 0.8000 - val_recall: 0.0381 - val_auc: 0.7211\n",
            "Epoch 5/50\n",
            "161/161 [==============================] - 1s 4ms/step - loss: 0.0164 - accuracy: 0.9985 - tp: 25.0000 - tn: 159940.0000 - fp: 6.0000 - fn: 232.0000 - precision: 0.8065 - recall: 0.0973 - auc: 0.7594 - val_loss: 0.0141 - val_accuracy: 0.9982 - val_tp: 19.0000 - val_tn: 53285.0000 - val_fp: 12.0000 - val_fn: 86.0000 - val_precision: 0.6129 - val_recall: 0.1810 - val_auc: 0.8293\n",
            "Epoch 6/50\n",
            "161/161 [==============================] - 1s 4ms/step - loss: 0.0103 - accuracy: 0.9987 - tp: 73.0000 - tn: 159929.0000 - fp: 17.0000 - fn: 184.0000 - precision: 0.8111 - recall: 0.2840 - auc: 0.8504 - val_loss: 0.0095 - val_accuracy: 0.9983 - val_tp: 31.0000 - val_tn: 53282.0000 - val_fp: 15.0000 - val_fn: 74.0000 - val_precision: 0.6739 - val_recall: 0.2952 - val_auc: 0.8923\n",
            "Epoch 7/50\n",
            "161/161 [==============================] - 1s 4ms/step - loss: 0.0078 - accuracy: 0.9989 - tp: 95.0000 - tn: 159929.0000 - fp: 17.0000 - fn: 162.0000 - precision: 0.8482 - recall: 0.3696 - auc: 0.8895 - val_loss: 0.0090 - val_accuracy: 0.9985 - val_tp: 41.0000 - val_tn: 53282.0000 - val_fp: 15.0000 - val_fn: 64.0000 - val_precision: 0.7321 - val_recall: 0.3905 - val_auc: 0.8902\n",
            "Epoch 8/50\n",
            "161/161 [==============================] - 1s 4ms/step - loss: 0.0069 - accuracy: 0.9989 - tp: 105.0000 - tn: 159928.0000 - fp: 18.0000 - fn: 152.0000 - precision: 0.8537 - recall: 0.4086 - auc: 0.8909 - val_loss: 0.0072 - val_accuracy: 0.9987 - val_tp: 49.0000 - val_tn: 53282.0000 - val_fp: 15.0000 - val_fn: 56.0000 - val_precision: 0.7656 - val_recall: 0.4667 - val_auc: 0.9204\n",
            "Epoch 9/50\n",
            "161/161 [==============================] - 1s 4ms/step - loss: 0.0063 - accuracy: 0.9990 - tp: 121.0000 - tn: 159924.0000 - fp: 22.0000 - fn: 136.0000 - precision: 0.8462 - recall: 0.4708 - auc: 0.9072 - val_loss: 0.0067 - val_accuracy: 0.9987 - val_tp: 52.0000 - val_tn: 53281.0000 - val_fp: 16.0000 - val_fn: 53.0000 - val_precision: 0.7647 - val_recall: 0.4952 - val_auc: 0.9186\n",
            "Epoch 10/50\n",
            "161/161 [==============================] - 1s 4ms/step - loss: 0.0057 - accuracy: 0.9990 - tp: 123.0000 - tn: 159921.0000 - fp: 25.0000 - fn: 134.0000 - precision: 0.8311 - recall: 0.4786 - auc: 0.9070 - val_loss: 0.0064 - val_accuracy: 0.9987 - val_tp: 51.0000 - val_tn: 53281.0000 - val_fp: 16.0000 - val_fn: 54.0000 - val_precision: 0.7612 - val_recall: 0.4857 - val_auc: 0.9245\n",
            "Epoch 11/50\n",
            "161/161 [==============================] - 1s 4ms/step - loss: 0.0056 - accuracy: 0.9991 - tp: 132.0000 - tn: 159922.0000 - fp: 24.0000 - fn: 125.0000 - precision: 0.8462 - recall: 0.5136 - auc: 0.9168 - val_loss: 0.0070 - val_accuracy: 0.9988 - val_tp: 64.0000 - val_tn: 53272.0000 - val_fp: 25.0000 - val_fn: 41.0000 - val_precision: 0.7191 - val_recall: 0.6095 - val_auc: 0.9492\n",
            "Epoch 12/50\n",
            "161/161 [==============================] - 1s 4ms/step - loss: 0.0054 - accuracy: 0.9991 - tp: 130.0000 - tn: 159922.0000 - fp: 24.0000 - fn: 127.0000 - precision: 0.8442 - recall: 0.5058 - auc: 0.9079 - val_loss: 0.0065 - val_accuracy: 0.9988 - val_tp: 60.0000 - val_tn: 53280.0000 - val_fp: 17.0000 - val_fn: 45.0000 - val_precision: 0.7792 - val_recall: 0.5714 - val_auc: 0.9251\n",
            "Epoch 13/50\n",
            "161/161 [==============================] - 1s 4ms/step - loss: 0.0050 - accuracy: 0.9991 - tp: 144.0000 - tn: 159921.0000 - fp: 25.0000 - fn: 113.0000 - precision: 0.8521 - recall: 0.5603 - auc: 0.9126 - val_loss: 0.0056 - val_accuracy: 0.9989 - val_tp: 60.0000 - val_tn: 53281.0000 - val_fp: 16.0000 - val_fn: 45.0000 - val_precision: 0.7895 - val_recall: 0.5714 - val_auc: 0.9485\n",
            "Epoch 14/50\n",
            "161/161 [==============================] - 1s 4ms/step - loss: 0.0048 - accuracy: 0.9991 - tp: 137.0000 - tn: 159922.0000 - fp: 24.0000 - fn: 120.0000 - precision: 0.8509 - recall: 0.5331 - auc: 0.9187 - val_loss: 0.0064 - val_accuracy: 0.9989 - val_tp: 66.0000 - val_tn: 53276.0000 - val_fp: 21.0000 - val_fn: 39.0000 - val_precision: 0.7586 - val_recall: 0.6286 - val_auc: 0.9513\n",
            "Epoch 15/50\n",
            "161/161 [==============================] - 1s 4ms/step - loss: 0.0047 - accuracy: 0.9991 - tp: 141.0000 - tn: 159920.0000 - fp: 26.0000 - fn: 116.0000 - precision: 0.8443 - recall: 0.5486 - auc: 0.9172 - val_loss: 0.0057 - val_accuracy: 0.9989 - val_tp: 62.0000 - val_tn: 53281.0000 - val_fp: 16.0000 - val_fn: 43.0000 - val_precision: 0.7949 - val_recall: 0.5905 - val_auc: 0.9309\n",
            "Epoch 16/50\n",
            "161/161 [==============================] - 1s 4ms/step - loss: 0.0048 - accuracy: 0.9992 - tp: 145.0000 - tn: 159922.0000 - fp: 24.0000 - fn: 112.0000 - precision: 0.8580 - recall: 0.5642 - auc: 0.9192 - val_loss: 0.0055 - val_accuracy: 0.9989 - val_tp: 64.0000 - val_tn: 53281.0000 - val_fp: 16.0000 - val_fn: 41.0000 - val_precision: 0.8000 - val_recall: 0.6095 - val_auc: 0.9451\n",
            "Epoch 17/50\n",
            "161/161 [==============================] - 1s 4ms/step - loss: 0.0047 - accuracy: 0.9991 - tp: 144.0000 - tn: 159918.0000 - fp: 28.0000 - fn: 113.0000 - precision: 0.8372 - recall: 0.5603 - auc: 0.9153 - val_loss: 0.0059 - val_accuracy: 0.9989 - val_tp: 60.0000 - val_tn: 53282.0000 - val_fp: 15.0000 - val_fn: 45.0000 - val_precision: 0.8000 - val_recall: 0.5714 - val_auc: 0.9360\n",
            "Epoch 18/50\n",
            "161/161 [==============================] - 1s 4ms/step - loss: 0.0048 - accuracy: 0.9991 - tp: 147.0000 - tn: 159917.0000 - fp: 29.0000 - fn: 110.0000 - precision: 0.8352 - recall: 0.5720 - auc: 0.9137 - val_loss: 0.0052 - val_accuracy: 0.9990 - val_tp: 64.0000 - val_tn: 53282.0000 - val_fp: 15.0000 - val_fn: 41.0000 - val_precision: 0.8101 - val_recall: 0.6095 - val_auc: 0.9404\n",
            "Epoch 19/50\n",
            "161/161 [==============================] - 1s 4ms/step - loss: 0.0046 - accuracy: 0.9991 - tp: 143.0000 - tn: 159922.0000 - fp: 24.0000 - fn: 114.0000 - precision: 0.8563 - recall: 0.5564 - auc: 0.9118 - val_loss: 0.0053 - val_accuracy: 0.9990 - val_tp: 65.0000 - val_tn: 53281.0000 - val_fp: 16.0000 - val_fn: 40.0000 - val_precision: 0.8025 - val_recall: 0.6190 - val_auc: 0.9455\n",
            "Epoch 20/50\n",
            "161/161 [==============================] - 1s 4ms/step - loss: 0.0047 - accuracy: 0.9992 - tp: 153.0000 - tn: 159920.0000 - fp: 26.0000 - fn: 104.0000 - precision: 0.8547 - recall: 0.5953 - auc: 0.9235 - val_loss: 0.0054 - val_accuracy: 0.9988 - val_tp: 60.0000 - val_tn: 53280.0000 - val_fp: 17.0000 - val_fn: 45.0000 - val_precision: 0.7792 - val_recall: 0.5714 - val_auc: 0.9312\n",
            "Epoch 21/50\n",
            "161/161 [==============================] - 1s 4ms/step - loss: 0.0046 - accuracy: 0.9992 - tp: 150.0000 - tn: 159921.0000 - fp: 25.0000 - fn: 107.0000 - precision: 0.8571 - recall: 0.5837 - auc: 0.9196 - val_loss: 0.0064 - val_accuracy: 0.9989 - val_tp: 61.0000 - val_tn: 53280.0000 - val_fp: 17.0000 - val_fn: 44.0000 - val_precision: 0.7821 - val_recall: 0.5810 - val_auc: 0.9170\n",
            "Epoch 22/50\n",
            "161/161 [==============================] - 1s 4ms/step - loss: 0.0051 - accuracy: 0.9992 - tp: 148.0000 - tn: 159921.0000 - fp: 25.0000 - fn: 109.0000 - precision: 0.8555 - recall: 0.5759 - auc: 0.9137 - val_loss: 0.0056 - val_accuracy: 0.9989 - val_tp: 62.0000 - val_tn: 53280.0000 - val_fp: 17.0000 - val_fn: 43.0000 - val_precision: 0.7848 - val_recall: 0.5905 - val_auc: 0.9309\n",
            "Epoch 23/50\n",
            "161/161 [==============================] - 1s 4ms/step - loss: 0.0044 - accuracy: 0.9992 - tp: 154.0000 - tn: 159924.0000 - fp: 22.0000 - fn: 103.0000 - precision: 0.8750 - recall: 0.5992 - auc: 0.9179 - val_loss: 0.0066 - val_accuracy: 0.9988 - val_tp: 56.0000 - val_tn: 53281.0000 - val_fp: 16.0000 - val_fn: 49.0000 - val_precision: 0.7778 - val_recall: 0.5333 - val_auc: 0.9173\n",
            "Epoch 24/50\n",
            "161/161 [==============================] - 1s 4ms/step - loss: 0.0044 - accuracy: 0.9992 - tp: 149.0000 - tn: 159921.0000 - fp: 25.0000 - fn: 108.0000 - precision: 0.8563 - recall: 0.5798 - auc: 0.9199 - val_loss: 0.0056 - val_accuracy: 0.9989 - val_tp: 65.0000 - val_tn: 53279.0000 - val_fp: 18.0000 - val_fn: 40.0000 - val_precision: 0.7831 - val_recall: 0.6190 - val_auc: 0.9355\n",
            "Epoch 25/50\n",
            "161/161 [==============================] - 1s 4ms/step - loss: 0.0046 - accuracy: 0.9992 - tp: 151.0000 - tn: 159921.0000 - fp: 25.0000 - fn: 106.0000 - precision: 0.8580 - recall: 0.5875 - auc: 0.9179 - val_loss: 0.0071 - val_accuracy: 0.9989 - val_tp: 61.0000 - val_tn: 53281.0000 - val_fp: 16.0000 - val_fn: 44.0000 - val_precision: 0.7922 - val_recall: 0.5810 - val_auc: 0.9221\n",
            "Epoch 26/50\n",
            "161/161 [==============================] - 1s 4ms/step - loss: 0.0047 - accuracy: 0.9992 - tp: 153.0000 - tn: 159919.0000 - fp: 27.0000 - fn: 104.0000 - precision: 0.8500 - recall: 0.5953 - auc: 0.9198 - val_loss: 0.0052 - val_accuracy: 0.9990 - val_tp: 65.0000 - val_tn: 53281.0000 - val_fp: 16.0000 - val_fn: 40.0000 - val_precision: 0.8025 - val_recall: 0.6190 - val_auc: 0.9361\n",
            "Epoch 27/50\n",
            "161/161 [==============================] - 1s 4ms/step - loss: 0.0044 - accuracy: 0.9992 - tp: 158.0000 - tn: 159923.0000 - fp: 23.0000 - fn: 99.0000 - precision: 0.8729 - recall: 0.6148 - auc: 0.9202 - val_loss: 0.0063 - val_accuracy: 0.9989 - val_tp: 64.0000 - val_tn: 53281.0000 - val_fp: 16.0000 - val_fn: 41.0000 - val_precision: 0.8000 - val_recall: 0.6095 - val_auc: 0.9220\n",
            "Epoch 28/50\n",
            "161/161 [==============================] - 1s 4ms/step - loss: 0.0042 - accuracy: 0.9992 - tp: 158.0000 - tn: 159922.0000 - fp: 24.0000 - fn: 99.0000 - precision: 0.8681 - recall: 0.6148 - auc: 0.9337 - val_loss: 0.0054 - val_accuracy: 0.9988 - val_tp: 59.0000 - val_tn: 53281.0000 - val_fp: 16.0000 - val_fn: 46.0000 - val_precision: 0.7867 - val_recall: 0.5619 - val_auc: 0.9224\n",
            "Epoch 29/50\n",
            "161/161 [==============================] - 1s 4ms/step - loss: 0.0043 - accuracy: 0.9992 - tp: 158.0000 - tn: 159917.0000 - fp: 29.0000 - fn: 99.0000 - precision: 0.8449 - recall: 0.6148 - auc: 0.9279 - val_loss: 0.0048 - val_accuracy: 0.9991 - val_tp: 71.0000 - val_tn: 53281.0000 - val_fp: 16.0000 - val_fn: 34.0000 - val_precision: 0.8161 - val_recall: 0.6762 - val_auc: 0.9459\n",
            "Epoch 30/50\n",
            "161/161 [==============================] - 1s 4ms/step - loss: 0.0045 - accuracy: 0.9992 - tp: 156.0000 - tn: 159919.0000 - fp: 27.0000 - fn: 101.0000 - precision: 0.8525 - recall: 0.6070 - auc: 0.9219 - val_loss: 0.0051 - val_accuracy: 0.9989 - val_tp: 63.0000 - val_tn: 53282.0000 - val_fp: 15.0000 - val_fn: 42.0000 - val_precision: 0.8077 - val_recall: 0.6000 - val_auc: 0.9320\n",
            "Epoch 31/50\n",
            "161/161 [==============================] - 1s 4ms/step - loss: 0.0053 - accuracy: 0.9991 - tp: 143.0000 - tn: 159917.0000 - fp: 29.0000 - fn: 114.0000 - precision: 0.8314 - recall: 0.5564 - auc: 0.9120 - val_loss: 0.0055 - val_accuracy: 0.9989 - val_tp: 60.0000 - val_tn: 53282.0000 - val_fp: 15.0000 - val_fn: 45.0000 - val_precision: 0.8000 - val_recall: 0.5714 - val_auc: 0.9270\n",
            "Epoch 32/50\n",
            "161/161 [==============================] - 1s 4ms/step - loss: 0.0045 - accuracy: 0.9992 - tp: 159.0000 - tn: 159922.0000 - fp: 24.0000 - fn: 98.0000 - precision: 0.8689 - recall: 0.6187 - auc: 0.9218 - val_loss: 0.0050 - val_accuracy: 0.9991 - val_tp: 72.0000 - val_tn: 53280.0000 - val_fp: 17.0000 - val_fn: 33.0000 - val_precision: 0.8090 - val_recall: 0.6857 - val_auc: 0.9454\n",
            "Epoch 33/50\n",
            "161/161 [==============================] - 1s 4ms/step - loss: 0.0052 - accuracy: 0.9992 - tp: 149.0000 - tn: 159920.0000 - fp: 26.0000 - fn: 108.0000 - precision: 0.8514 - recall: 0.5798 - auc: 0.9179 - val_loss: 0.0050 - val_accuracy: 0.9990 - val_tp: 65.0000 - val_tn: 53282.0000 - val_fp: 15.0000 - val_fn: 40.0000 - val_precision: 0.8125 - val_recall: 0.6190 - val_auc: 0.9359\n",
            "Epoch 34/50\n",
            "161/161 [==============================] - 1s 4ms/step - loss: 0.0049 - accuracy: 0.9992 - tp: 152.0000 - tn: 159920.0000 - fp: 26.0000 - fn: 105.0000 - precision: 0.8539 - recall: 0.5914 - auc: 0.9275 - val_loss: 0.0053 - val_accuracy: 0.9990 - val_tp: 65.0000 - val_tn: 53281.0000 - val_fp: 16.0000 - val_fn: 40.0000 - val_precision: 0.8025 - val_recall: 0.6190 - val_auc: 0.9410\n",
            "Epoch 35/50\n",
            "161/161 [==============================] - 1s 4ms/step - loss: 0.0064 - accuracy: 0.9991 - tp: 150.0000 - tn: 159916.0000 - fp: 30.0000 - fn: 107.0000 - precision: 0.8333 - recall: 0.5837 - auc: 0.9162 - val_loss: 0.0048 - val_accuracy: 0.9990 - val_tp: 73.0000 - val_tn: 53278.0000 - val_fp: 19.0000 - val_fn: 32.0000 - val_precision: 0.7935 - val_recall: 0.6952 - val_auc: 0.9504\n",
            "Epoch 36/50\n",
            "161/161 [==============================] - 1s 4ms/step - loss: 0.0041 - accuracy: 0.9993 - tp: 162.0000 - tn: 159921.0000 - fp: 25.0000 - fn: 95.0000 - precision: 0.8663 - recall: 0.6304 - auc: 0.9320 - val_loss: 0.0084 - val_accuracy: 0.9987 - val_tp: 52.0000 - val_tn: 53283.0000 - val_fp: 14.0000 - val_fn: 53.0000 - val_precision: 0.7879 - val_recall: 0.4952 - val_auc: 0.8938\n",
            "Epoch 37/50\n",
            "161/161 [==============================] - 1s 4ms/step - loss: 0.0045 - accuracy: 0.9992 - tp: 156.0000 - tn: 159923.0000 - fp: 23.0000 - fn: 101.0000 - precision: 0.8715 - recall: 0.6070 - auc: 0.9318 - val_loss: 0.0047 - val_accuracy: 0.9991 - val_tp: 72.0000 - val_tn: 53282.0000 - val_fp: 15.0000 - val_fn: 33.0000 - val_precision: 0.8276 - val_recall: 0.6857 - val_auc: 0.9509\n",
            "Epoch 38/50\n",
            "161/161 [==============================] - 1s 4ms/step - loss: 0.0044 - accuracy: 0.9992 - tp: 157.0000 - tn: 159925.0000 - fp: 21.0000 - fn: 100.0000 - precision: 0.8820 - recall: 0.6109 - auc: 0.9261 - val_loss: 0.0052 - val_accuracy: 0.9990 - val_tp: 73.0000 - val_tn: 53278.0000 - val_fp: 19.0000 - val_fn: 32.0000 - val_precision: 0.7935 - val_recall: 0.6952 - val_auc: 0.9495\n",
            "Epoch 39/50\n",
            "161/161 [==============================] - 1s 4ms/step - loss: 0.0041 - accuracy: 0.9992 - tp: 156.0000 - tn: 159923.0000 - fp: 23.0000 - fn: 101.0000 - precision: 0.8715 - recall: 0.6070 - auc: 0.9318 - val_loss: 0.0051 - val_accuracy: 0.9990 - val_tp: 65.0000 - val_tn: 53284.0000 - val_fp: 13.0000 - val_fn: 40.0000 - val_precision: 0.8333 - val_recall: 0.6190 - val_auc: 0.9273\n",
            "Epoch 40/50\n",
            "161/161 [==============================] - 1s 4ms/step - loss: 0.0089 - accuracy: 0.9991 - tp: 144.0000 - tn: 159919.0000 - fp: 27.0000 - fn: 113.0000 - precision: 0.8421 - recall: 0.5603 - auc: 0.9050 - val_loss: 0.0129 - val_accuracy: 0.9988 - val_tp: 56.0000 - val_tn: 53280.0000 - val_fp: 17.0000 - val_fn: 49.0000 - val_precision: 0.7671 - val_recall: 0.5333 - val_auc: 0.8743\n",
            "Epoch 41/50\n",
            "161/161 [==============================] - 1s 4ms/step - loss: 0.0080 - accuracy: 0.9991 - tp: 145.0000 - tn: 159918.0000 - fp: 28.0000 - fn: 112.0000 - precision: 0.8382 - recall: 0.5642 - auc: 0.9026 - val_loss: 0.0109 - val_accuracy: 0.9989 - val_tp: 60.0000 - val_tn: 53282.0000 - val_fp: 15.0000 - val_fn: 45.0000 - val_precision: 0.8000 - val_recall: 0.5714 - val_auc: 0.8883\n",
            "Epoch 42/50\n",
            "161/161 [==============================] - 1s 4ms/step - loss: 0.0049 - accuracy: 0.9992 - tp: 158.0000 - tn: 159921.0000 - fp: 25.0000 - fn: 99.0000 - precision: 0.8634 - recall: 0.6148 - auc: 0.9220 - val_loss: 0.0050 - val_accuracy: 0.9990 - val_tp: 67.0000 - val_tn: 53282.0000 - val_fp: 15.0000 - val_fn: 38.0000 - val_precision: 0.8171 - val_recall: 0.6381 - val_auc: 0.9362\n",
            "Epoch 43/50\n",
            "161/161 [==============================] - 1s 4ms/step - loss: 0.0039 - accuracy: 0.9993 - tp: 164.0000 - tn: 159926.0000 - fp: 20.0000 - fn: 93.0000 - precision: 0.8913 - recall: 0.6381 - auc: 0.9359 - val_loss: 0.0047 - val_accuracy: 0.9991 - val_tp: 70.0000 - val_tn: 53282.0000 - val_fp: 15.0000 - val_fn: 35.0000 - val_precision: 0.8235 - val_recall: 0.6667 - val_auc: 0.9408\n",
            "Epoch 44/50\n",
            "161/161 [==============================] - 1s 4ms/step - loss: 0.0040 - accuracy: 0.9993 - tp: 166.0000 - tn: 159920.0000 - fp: 26.0000 - fn: 91.0000 - precision: 0.8646 - recall: 0.6459 - auc: 0.9322 - val_loss: 0.0048 - val_accuracy: 0.9990 - val_tp: 66.0000 - val_tn: 53284.0000 - val_fp: 13.0000 - val_fn: 39.0000 - val_precision: 0.8354 - val_recall: 0.6286 - val_auc: 0.9370\n",
            "Epoch 45/50\n",
            "161/161 [==============================] - 1s 4ms/step - loss: 0.0041 - accuracy: 0.9993 - tp: 161.0000 - tn: 159928.0000 - fp: 18.0000 - fn: 96.0000 - precision: 0.8994 - recall: 0.6265 - auc: 0.9281 - val_loss: 0.0051 - val_accuracy: 0.9989 - val_tp: 61.0000 - val_tn: 53284.0000 - val_fp: 13.0000 - val_fn: 44.0000 - val_precision: 0.8243 - val_recall: 0.5810 - val_auc: 0.9323\n",
            "Epoch 46/50\n",
            "161/161 [==============================] - 1s 4ms/step - loss: 0.0039 - accuracy: 0.9993 - tp: 161.0000 - tn: 159926.0000 - fp: 20.0000 - fn: 96.0000 - precision: 0.8895 - recall: 0.6265 - auc: 0.9341 - val_loss: 0.0051 - val_accuracy: 0.9989 - val_tp: 60.0000 - val_tn: 53284.0000 - val_fp: 13.0000 - val_fn: 45.0000 - val_precision: 0.8219 - val_recall: 0.5714 - val_auc: 0.9322\n",
            "Epoch 47/50\n",
            "161/161 [==============================] - 1s 4ms/step - loss: 0.0052 - accuracy: 0.9992 - tp: 143.0000 - tn: 159924.0000 - fp: 22.0000 - fn: 114.0000 - precision: 0.8667 - recall: 0.5564 - auc: 0.9224 - val_loss: 0.0102 - val_accuracy: 0.9988 - val_tp: 56.0000 - val_tn: 53281.0000 - val_fp: 16.0000 - val_fn: 49.0000 - val_precision: 0.7778 - val_recall: 0.5333 - val_auc: 0.8842\n",
            "Epoch 48/50\n",
            "161/161 [==============================] - 1s 4ms/step - loss: 0.0045 - accuracy: 0.9993 - tp: 167.0000 - tn: 159923.0000 - fp: 23.0000 - fn: 90.0000 - precision: 0.8789 - recall: 0.6498 - auc: 0.9263 - val_loss: 0.0059 - val_accuracy: 0.9989 - val_tp: 60.0000 - val_tn: 53284.0000 - val_fp: 13.0000 - val_fn: 45.0000 - val_precision: 0.8219 - val_recall: 0.5714 - val_auc: 0.9227\n",
            "Epoch 49/50\n",
            "161/161 [==============================] - 1s 4ms/step - loss: 0.0045 - accuracy: 0.9992 - tp: 161.0000 - tn: 159921.0000 - fp: 25.0000 - fn: 96.0000 - precision: 0.8656 - recall: 0.6265 - auc: 0.9360 - val_loss: 0.0054 - val_accuracy: 0.9990 - val_tp: 65.0000 - val_tn: 53284.0000 - val_fp: 13.0000 - val_fn: 40.0000 - val_precision: 0.8333 - val_recall: 0.6190 - val_auc: 0.9323\n",
            "Epoch 50/50\n",
            "161/161 [==============================] - 1s 4ms/step - loss: 0.0037 - accuracy: 0.9993 - tp: 165.0000 - tn: 159929.0000 - fp: 17.0000 - fn: 92.0000 - precision: 0.9066 - recall: 0.6420 - auc: 0.9362 - val_loss: 0.0048 - val_accuracy: 0.9991 - val_tp: 72.0000 - val_tn: 53280.0000 - val_fp: 17.0000 - val_fn: 33.0000 - val_precision: 0.8090 - val_recall: 0.6857 - val_auc: 0.9498\n"
          ]
        }
      ],
      "source": [
        "# Training the model\n",
        "batch_size = 1000\n",
        "epochs = 50\n",
        "\n",
        "training_history = model.fit(X_train, y_train, validation_data=(X_val,y_val), epochs=epochs, batch_size=batch_size)\n"
      ]
    },
    {
      "cell_type": "markdown",
      "metadata": {
        "id": "prkt1lHXwMXY"
      },
      "source": [
        "### Model Performance"
      ]
    },
    {
      "cell_type": "markdown",
      "metadata": {
        "id": "u3kpOADwwMXZ"
      },
      "source": [
        "#### Checking Training History"
      ]
    },
    {
      "cell_type": "code",
      "execution_count": 16,
      "metadata": {
        "colab": {
          "base_uri": "https://localhost:8080/",
          "height": 312
        },
        "id": "6DHkGhoFwMXZ",
        "outputId": "8bc89a7e-d550-4195-a90e-82ae71d70020"
      },
      "outputs": [
        {
          "output_type": "execute_result",
          "data": {
            "text/plain": [
              "<matplotlib.axes._subplots.AxesSubplot at 0x7f7d0506b1c0>"
            ]
          },
          "metadata": {},
          "execution_count": 16
        },
        {
          "output_type": "display_data",
          "data": {
            "text/plain": [
              "<Figure size 432x288 with 1 Axes>"
            ],
            "image/png": "[encoded data removed]"
          },
          "metadata": {
            "needs_background": "light"
          }
        }
      ],
      "source": [
        "# Plotting loss\n",
        "loss_df = pd.DataFrame(\n",
        "    {\n",
        "        \"Epoch\": range(1, epochs + 1),\n",
        "        \"Train\": training_history.history[\"loss\"],\n",
        "        \"Val\": training_history.history[\"val_loss\"],\n",
        "    }\n",
        ")\n",
        "loss_df.set_index(\"Epoch\", inplace=True)\n",
        "loss_df.plot(title=\"Loss\")"
      ]
    },
    {
      "cell_type": "code",
      "execution_count": 17,
      "metadata": {
        "colab": {
          "base_uri": "https://localhost:8080/",
          "height": 312
        },
        "id": "40PhqrpewMXa",
        "outputId": "226930c6-5550-4e8e-8eb6-8608e671619f"
      },
      "outputs": [
        {
          "output_type": "execute_result",
          "data": {
            "text/plain": [
              "<matplotlib.axes._subplots.AxesSubplot at 0x7f7d047e1130>"
            ]
          },
          "metadata": {},
          "execution_count": 17
        },
        {
          "output_type": "display_data",
          "data": {
            "text/plain": [
              "<Figure size 432x288 with 1 Axes>"
            ],
            "image/png": "[encoded data removed]"
          },
          "metadata": {
            "needs_background": "light"
          }
        }
      ],
      "source": [
        "# Plotting accuracy\n",
        "accuracy_df = pd.DataFrame(\n",
        "    {\n",
        "        \"Epoch\": range(1, epochs + 1),\n",
        "        \"Train\": training_history.history[\"accuracy\"],\n",
        "        \"Val\": training_history.history[\"val_accuracy\"],\n",
        "    }\n",
        ")\n",
        "accuracy_df.set_index(\"Epoch\", inplace=True)\n",
        "accuracy_df.plot(title=\"Accuracy\")"
      ]
    },
    {
      "cell_type": "code",
      "execution_count": 18,
      "metadata": {
        "colab": {
          "base_uri": "https://localhost:8080/",
          "height": 312
        },
        "id": "EaqN05ZTwMXa",
        "outputId": "7aab4a54-b72c-41fe-99c2-8557f18d27f2"
      },
      "outputs": [
        {
          "output_type": "execute_result",
          "data": {
            "text/plain": [
              "<matplotlib.axes._subplots.AxesSubplot at 0x7f7d04ae3550>"
            ]
          },
          "metadata": {},
          "execution_count": 18
        },
        {
          "output_type": "display_data",
          "data": {
            "text/plain": [
              "<Figure size 432x288 with 1 Axes>"
            ],
            "image/png": "[encoded data removed]"
          },
          "metadata": {
            "needs_background": "light"
          }
        }
      ],
      "source": [
        "# Plotting AUC\n",
        "auc_df = pd.DataFrame(\n",
        "    {\n",
        "        \"Epoch\": range(1, epochs + 1),\n",
        "        \"Train\": training_history.history[\"auc\"],\n",
        "        \"Val\": training_history.history[\"val_auc\"],\n",
        "    }\n",
        ")\n",
        "auc_df.set_index(\"Epoch\", inplace=True)\n",
        "auc_df.plot(title=\"AUC\")"
      ]
    },
    {
      "cell_type": "markdown",
      "metadata": {
        "id": "BkBQoGW-wMXb"
      },
      "source": [
        "#### Plotting the ROC Curve"
      ]
    },
    {
      "cell_type": "code",
      "execution_count": 19,
      "metadata": {
        "id": "z26nFBnWwMXb"
      },
      "outputs": [],
      "source": [
        "# Import the roc_curve and auc metrics from sklearn\n",
        "from sklearn.metrics import roc_curve, auc"
      ]
    },
    {
      "cell_type": "code",
      "execution_count": 20,
      "metadata": {
        "colab": {
          "base_uri": "https://localhost:8080/"
        },
        "id": "Z_O9CvzWwMXc",
        "outputId": "da6b2888-6f9a-4887-bc6e-0fa0c3742cd4"
      },
      "outputs": [
        {
          "output_type": "stream",
          "name": "stdout",
          "text": [
            "161/161 [==============================] - 0s 2ms/step\n",
            "72/72 [==============================] - 0s 2ms/step\n"
          ]
        }
      ],
      "source": [
        "# Making predictions to feed the roc_curve module\n",
        "train_predictions = model.predict(X_train, batch_size=1000)\n",
        "test_predictions = model.predict(X_test, batch_size=1000)"
      ]
    },
    {
      "cell_type": "code",
      "execution_count": 22,
      "metadata": {
        "id": "O79SnkXjwMXd"
      },
      "outputs": [],
      "source": [
        "# Calculate the ROC curve and AUC for the training set\n",
        "\n",
        "fpr_train, tpr_train, threshold_train = roc_curve(y_train, train_predictions)\n",
        "auc_train = auc(fpr_train, tpr_train)\n",
        "auc_train = round(auc_train,4)\n",
        "# Calculate the ROC curve and AUC for the testing set\n",
        "fpr_test, tpr_test, threshold_test = roc_curve(y_test, test_predictions)\n",
        "auc_test = auc(fpr_test, tpr_test)\n",
        "auc_test = round(auc_test,4)"
      ]
    },
    {
      "cell_type": "code",
      "execution_count": 23,
      "metadata": {
        "id": "5MFmjMhpwMXd"
      },
      "outputs": [],
      "source": [
        "# Create a DataFrame with the fpr and tpr results\n",
        "roc_df_train = pd.DataFrame({\n",
        "    \"FPR Train\":fpr_train,\n",
        "    \"TPR Train\":tpr_train\n",
        "})\n",
        "\n",
        "roc_df_test = pd.DataFrame({\n",
        "    \"FPR Test\":fpr_test,\n",
        "    \"TPR Test\":tpr_test\n",
        "})"
      ]
    },
    {
      "cell_type": "code",
      "execution_count": 26,
      "metadata": {
        "colab": {
          "base_uri": "https://localhost:8080/",
          "height": 590
        },
        "id": "QAnZ2K31wMXe",
        "outputId": "c3b4a2df-4b62-4344-8ea2-a805a55ace2a"
      },
      "outputs": [
        {
          "output_type": "execute_result",
          "data": {
            "text/plain": [
              "<matplotlib.axes._subplots.AxesSubplot at 0x7f7d061d56d0>"
            ]
          },
          "metadata": {},
          "execution_count": 26
        },
        {
          "output_type": "display_data",
          "data": {
            "text/plain": [
              "<Figure size 432x288 with 1 Axes>"
            ],
            "image/png": "[encoded data removed]"
          },
          "metadata": {
            "needs_background": "light"
          }
        },
        {
          "output_type": "display_data",
          "data": {
            "text/plain": [
              "<Figure size 432x288 with 1 Axes>"
            ],
            "image/png": "[encoded data removed]"
          },
          "metadata": {
            "needs_background": "light"
          }
        }
      ],
      "source": [
        "# Plotting the ROC Curves\n",
        "roc_df_train.plot(\n",
        "    x='FPR Train',\n",
        "    y='TPR Train',\n",
        "    xlim=[-.5,1.05],\n",
        "    title='ROC Curve (AUC{auc_test})'\n",
        ")\n",
        "\n",
        "roc_df_test.plot(\n",
        "    x='FPR Test',\n",
        "    y='TPR Test',\n",
        "    xlim=[-.5,1.05],\n",
        "    style='--',\n",
        "    title='Test ROC Curve (AUC{auc_test})'\n",
        ")"
      ]
    },
    {
      "cell_type": "markdown",
      "metadata": {
        "id": "jgdqcd7rwMXe"
      },
      "source": [
        "#### Evaluate the Model"
      ]
    },
    {
      "cell_type": "code",
      "execution_count": 27,
      "metadata": {
        "colab": {
          "base_uri": "https://localhost:8080/"
        },
        "id": "B0q59tX_wMXf",
        "outputId": "64d5c724-f9d8-49e7-b0c6-98dd55eda85f"
      },
      "outputs": [
        {
          "output_type": "execute_result",
          "data": {
            "text/plain": [
              "{'loss': 0.004066952038556337,\n",
              " 'accuracy': 0.9991994500160217,\n",
              " 'tp': 87.0,\n",
              " 'tn': 71058.0,\n",
              " 'fp': 14.0,\n",
              " 'fn': 43.0,\n",
              " 'precision': 0.8613861203193665,\n",
              " 'recall': 0.6692307591438293,\n",
              " 'auc': 0.9516578316688538}"
            ]
          },
          "metadata": {},
          "execution_count": 27
        }
      ],
      "source": [
        "# Evaluate the model\n",
        "score = model.evaluate(X_test, y_test, verbose=0)\n",
        "# Define metrics dictionary\n",
        "metrics = {k: v for k, v in zip(model.metrics_names, score)}\n",
        "# Display evaluation metrics results\n",
        "metrics"
      ]
    },
    {
      "cell_type": "markdown",
      "metadata": {
        "id": "FyS4aBO2wMXg"
      },
      "source": [
        "#### Confusion Matrix"
      ]
    },
    {
      "cell_type": "code",
      "execution_count": null,
      "metadata": {
        "id": "kweVq0IIwMXh"
      },
      "outputs": [],
      "source": [
        "# Define the confusion matrix data\n",
        "cm_df = pd.DataFrame(\n",
        "    {\n",
        "        \"Positive (1)\": [f\"TP={metrics['tp']}\n",
        ")\n",
        "# Show the confusion matrix\n"
      ]
    },
    {
      "cell_type": "markdown",
      "metadata": {
        "id": "LmIaYkj8wMXi"
      },
      "source": [
        "#### Classification Report"
      ]
    },
    {
      "cell_type": "code",
      "execution_count": null,
      "metadata": {
        "id": "PO_9rm0CwMXi"
      },
      "outputs": [],
      "source": [
        "# Import the classification_report method from sklearn\n",
        "from sklearn.metrics import classification_report\n",
        "\n",
        "# Predict classes using testing data\n",
        "\n",
        "# Display classification report\n"
      ]
    }
  ],
  "metadata": {
    "file_extension": ".py",
    "kernelspec": {
      "display_name": "Python 3",
      "language": "python",
      "name": "python3"
    },
    "language_info": {
      "codemirror_mode": {
        "name": "ipython",
        "version": 3
      },
      "file_extension": ".py",
      "mimetype": "text/x-python",
      "name": "python",
      "nbconvert_exporter": "python",
      "pygments_lexer": "ipython3",
      "version": "3.7.10"
    },
    "mimetype": "text/x-python",
    "name": "python",
    "npconvert_exporter": "python",
    "pygments_lexer": "ipython3",
    "version": 3,
    "colab": {
      "provenance": [],
      "include_colab_link": true
    }
  },
  "nbformat": 4,
  "nbformat_minor": 0
}